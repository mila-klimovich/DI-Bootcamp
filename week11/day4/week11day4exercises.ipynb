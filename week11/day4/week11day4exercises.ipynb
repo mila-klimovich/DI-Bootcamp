{
  "nbformat": 4,
  "nbformat_minor": 0,
  "metadata": {
    "colab": {
      "provenance": []
    },
    "kernelspec": {
      "name": "python3",
      "display_name": "Python 3"
    },
    "language_info": {
      "name": "python"
    }
  },
  "cells": [
    {
      "cell_type": "code",
      "execution_count": 3,
      "metadata": {
        "colab": {
          "base_uri": "https://localhost:8080/"
        },
        "id": "xgcMXlfJVfG9",
        "outputId": "918f33ef-9e62-4164-9d98-030ef365f244"
      },
      "outputs": [
        {
          "output_type": "stream",
          "name": "stdout",
          "text": [
            "SciPy version: 1.15.3\n"
          ]
        }
      ],
      "source": [
        "# Exercise 1\n",
        "# Import SciPy and check version\n",
        "import scipy\n",
        "\n",
        "print(\"SciPy version:\", scipy.__version__)"
      ]
    },
    {
      "cell_type": "code",
      "source": [
        "# Exercise 2\n",
        "# Import required function\n",
        "from scipy import stats\n",
        "\n",
        "# Sample dataset\n",
        "data = [12, 15, 13, 12, 18, 20, 22, 21]\n",
        "\n",
        "# Calculate descriptive statistics\n",
        "mean_val = stats.tmean(data)\n",
        "median_val = stats.scoreatpercentile(data, 50)\n",
        "variance_val = stats.tvar(data)\n",
        "std_dev_val = stats.tstd(data)\n",
        "\n",
        "print(f\"Mean: {mean_val}\")\n",
        "print(f\"Median: {median_val}\")\n",
        "print(f\"Variance: {variance_val}\")\n",
        "print(f\"Standard Deviation: {std_dev_val}\")\n"
      ],
      "metadata": {
        "colab": {
          "base_uri": "https://localhost:8080/"
        },
        "id": "9m_ECO_lWJoo",
        "outputId": "8239b6bb-f42d-4c6c-d091-62e31da89203"
      },
      "execution_count": 4,
      "outputs": [
        {
          "output_type": "stream",
          "name": "stdout",
          "text": [
            "Mean: 16.625\n",
            "Median: 16.5\n",
            "Variance: 17.125\n",
            "Standard Deviation: 4.138236339311712\n"
          ]
        }
      ]
    },
    {
      "cell_type": "code",
      "source": [
        "# Exercise 3\n",
        "# Import libraries\n",
        "from scipy.stats import norm\n",
        "import numpy as np\n",
        "import matplotlib.pyplot as plt\n",
        "\n",
        "# Generate normal distribution\n",
        "mean = 50\n",
        "std_dev = 10\n",
        "data = norm.rvs(loc=mean, scale=std_dev, size=1000)\n",
        "\n",
        "# Plot distribution\n",
        "plt.hist(data, bins=30, density=True, alpha=0.6, color='skyblue')\n",
        "xmin, xmax = plt.xlim()\n",
        "x = np.linspace(xmin, xmax, 100)\n",
        "p = norm.pdf(x, mean, std_dev)\n",
        "plt.plot(x, p, 'r', linewidth=2)\n",
        "plt.title('Normal Distribution')\n",
        "plt.xlabel('Value')\n",
        "plt.ylabel('Density')\n",
        "plt.show()"
      ],
      "metadata": {
        "colab": {
          "base_uri": "https://localhost:8080/",
          "height": 472
        },
        "id": "mS1_qw3qWJsC",
        "outputId": "ffa4d6de-0185-4c4c-cd26-209e01da5591"
      },
      "execution_count": 5,
      "outputs": [
        {
          "output_type": "display_data",
          "data": {
            "text/plain": [
              "<Figure size 640x480 with 1 Axes>"
            ],
            "image/png": "[encoded data removed]"
          },
          "metadata": {}
        }
      ]
    },
    {
      "cell_type": "code",
      "source": [
        "# Exercise 4\n",
        "# Import required functions\n",
        "from scipy.stats import ttest_ind\n",
        "\n",
        "# Generate two random datasets\n",
        "np.random.seed(0)\n",
        "data1 = np.random.normal(100, 15, 100)\n",
        "data2 = np.random.normal(105, 15, 100)\n",
        "\n",
        "# Perform two-sample T-test\n",
        "t_stat, p_val = ttest_ind(data1, data2)\n",
        "\n",
        "print(f\"T-statistic: {t_stat:.4f}\")\n",
        "print(f\"P-value: {p_val:.4f}\")"
      ],
      "metadata": {
        "colab": {
          "base_uri": "https://localhost:8080/"
        },
        "id": "D1PXUqbiWJvx",
        "outputId": "e2bc344e-f082-4d5f-9118-2580fcbea6f0"
      },
      "execution_count": 6,
      "outputs": [
        {
          "output_type": "stream",
          "name": "stdout",
          "text": [
            "T-statistic: -2.4491\n",
            "P-value: 0.0152\n"
          ]
        }
      ]
    },
    {
      "cell_type": "code",
      "source": [
        "# Exercise 5\n",
        "# Import libraries\n",
        "import pandas as pd\n",
        "from scipy import stats\n",
        "\n",
        "# Load Iris dataset directly from URL\n",
        "url = \"https://raw.githubusercontent.com/mwaskom/seaborn-data/master/iris.csv\"\n",
        "df = pd.read_csv(url)\n",
        "\n",
        "# Calculate descriptive statistics for 'sepal_length'\n",
        "mean_sepal = stats.tmean(df['sepal_length'])\n",
        "std_sepal = stats.tstd(df['sepal_length'])\n",
        "\n",
        "print(f\"Mean of sepal_length: {mean_sepal:.2f}\")\n",
        "print(f\"Standard Deviation of sepal_length: {std_sepal:.2f}\")"
      ],
      "metadata": {
        "colab": {
          "base_uri": "https://localhost:8080/"
        },
        "id": "C5qN3TgUWJzI",
        "outputId": "86678d11-2a90-43c2-9e1d-4a198521d2e5"
      },
      "execution_count": 7,
      "outputs": [
        {
          "output_type": "stream",
          "name": "stdout",
          "text": [
            "Mean of sepal_length: 5.84\n",
            "Standard Deviation of sepal_length: 0.83\n"
          ]
        }
      ]
    },
    {
      "cell_type": "code",
      "source": [
        "# Exercise 6\n",
        "# Import functions\n",
        "from scipy.stats import kurtosis, skew\n",
        "\n",
        "# Generate dataset\n",
        "data = np.random.normal(0, 1, 1000)\n",
        "\n",
        "# Calculate kurtosis and skewness\n",
        "kurt = kurtosis(data)\n",
        "skewness = skew(data)\n",
        "\n",
        "print(f\"Kurtosis: {kurt:.4f}\")\n",
        "print(f\"Skewness: {skewness:.4f}\")"
      ],
      "metadata": {
        "colab": {
          "base_uri": "https://localhost:8080/"
        },
        "id": "-hWZdnPJWJ3B",
        "outputId": "15f437f3-34bb-4056-8594-83203118dbd0"
      },
      "execution_count": 8,
      "outputs": [
        {
          "output_type": "stream",
          "name": "stdout",
          "text": [
            "Kurtosis: 0.0962\n",
            "Skewness: 0.0114\n"
          ]
        }
      ]
    }
  ]
}
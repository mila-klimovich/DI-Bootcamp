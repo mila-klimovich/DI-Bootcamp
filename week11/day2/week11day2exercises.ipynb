{
  "nbformat": 4,
  "nbformat_minor": 0,
  "metadata": {
    "colab": {
      "provenance": []
    },
    "kernelspec": {
      "name": "python3",
      "display_name": "Python 3"
    },
    "language_info": {
      "name": "python"
    }
  },
  "cells": [
    {
      "cell_type": "code",
      "execution_count": 1,
      "metadata": {
        "colab": {
          "base_uri": "https://localhost:8080/"
        },
        "id": "8Rn9uaUfQV_W",
        "outputId": "046d1c85-b6fc-458b-fa75-6de27c4d5dad"
      },
      "outputs": [
        {
          "output_type": "stream",
          "name": "stdout",
          "text": [
            "Original Matrix:\n",
            " [[4 7 2]\n",
            " [3 6 1]\n",
            " [2 5 3]]\n",
            "\n",
            "Determinant of the matrix: 8.999999999999998\n",
            "\n",
            "Inverse of the matrix:\n",
            " [[ 1.44444444 -1.22222222 -0.55555556]\n",
            " [-0.77777778  0.88888889  0.22222222]\n",
            " [ 0.33333333 -0.66666667  0.33333333]]\n"
          ]
        }
      ],
      "source": [
        "# Exercise 1: Matrix Operations\n",
        "\n",
        "import numpy as np\n",
        "\n",
        "# Create a 3x3 matrix\n",
        "matrix = np.array([[4, 7, 2],\n",
        "                   [3, 6, 1],\n",
        "                   [2, 5, 3]])\n",
        "\n",
        "print(\"Original Matrix:\\n\", matrix)\n",
        "\n",
        "# Calculate the determinant of the matrix\n",
        "determinant = np.linalg.det(matrix)\n",
        "print(\"\\nDeterminant of the matrix:\", determinant)\n",
        "\n",
        "# Check if determinant is not zero (matrix is invertible)\n",
        "if determinant != 0:\n",
        "    # Calculate the inverse of the matrix\n",
        "    inverse_matrix = np.linalg.inv(matrix)\n",
        "    print(\"\\nInverse of the matrix:\\n\", inverse_matrix)\n",
        "else:\n",
        "    # Matrix is singular and does not have an inverse\n",
        "    print(\"\\nThe matrix does not have an inverse (determinant is 0).\")\n"
      ]
    },
    {
      "cell_type": "code",
      "source": [
        "# Exercise 2: Statistical Analysis\n",
        "\n",
        "import numpy as np\n",
        "\n",
        "# Generate an array of 50 random numbers from a uniform distribution between 0 and 100\n",
        "data = np.random.uniform(0, 100, 50)\n",
        "\n",
        "print(\"Data:\\n\", data)\n",
        "\n",
        "# Calculate the mean (average) of the data\n",
        "mean_value = np.mean(data)\n",
        "print(\"\\nMean of data:\", mean_value)\n",
        "\n",
        "# Calculate the median (middle value) of the data\n",
        "median_value = np.median(data)\n",
        "print(\"Median of data:\", median_value)\n",
        "\n",
        "# Calculate the standard deviation (measure of spread) of the data\n",
        "std_deviation = np.std(data)\n",
        "print(\"Standard deviation of data:\", std_deviation)\n"
      ],
      "metadata": {
        "colab": {
          "base_uri": "https://localhost:8080/"
        },
        "id": "IC7eyIBOTAMC",
        "outputId": "6bcbd208-cb52-4ed8-9c30-ce30b4c9fe10"
      },
      "execution_count": 2,
      "outputs": [
        {
          "output_type": "stream",
          "name": "stdout",
          "text": [
            "Data:\n",
            " [64.46840654 18.67829525 79.03572573 14.24390626 61.98902258  4.14102176\n",
            "  4.14157927 71.93115    40.63645306 19.58120507 20.87467068 84.55155913\n",
            "  8.31234926 47.06199134 45.68934718  1.16598241 66.21293868 47.2105585\n",
            " 33.89941398 22.76050443 86.67095118 84.48397036  6.13536773 39.22211073\n",
            " 81.65136245 63.82698555 63.90736428 69.07752508 30.62877954 72.19274797\n",
            " 78.76651768 73.69691769  2.12103145 32.27517594 21.37845164 89.66208488\n",
            " 58.31935865 95.21116467 97.14601795 58.75538059 13.38968453 94.17918968\n",
            " 14.32703724 53.1251694  93.25548753 35.48798823 92.21223074 28.6563051\n",
            " 27.39028625 66.52167622]\n",
            "\n",
            "Mean of data: 49.60520804122848\n",
            "Median of data: 50.167863952698525\n",
            "Standard deviation of data: 29.75977433799137\n"
          ]
        }
      ]
    },
    {
      "cell_type": "code",
      "source": [
        "# Exercise 3: Date Manipulation\n",
        "\n",
        "import numpy as np\n",
        "\n",
        "# Create an array of dates for January 2023 (from 1st to 31st)\n",
        "dates = np.arange('2023-01-01', '2023-02-01', dtype='datetime64[D]')\n",
        "\n",
        "print(\"Original dates:\\n\", dates)\n",
        "\n",
        "# Convert dates to string format 'YYYY/MM/DD'\n",
        "dates_str = np.array([str(date).replace('-', '/') for date in dates])\n",
        "\n",
        "print(\"\\nDates in YYYY/MM/DD format:\\n\", dates_str)\n"
      ],
      "metadata": {
        "colab": {
          "base_uri": "https://localhost:8080/"
        },
        "id": "YBJogvXvTAPR",
        "outputId": "5ec975ce-2f83-484e-e12b-8f8a4cfefce1"
      },
      "execution_count": 3,
      "outputs": [
        {
          "output_type": "stream",
          "name": "stdout",
          "text": [
            "Original dates:\n",
            " ['2023-01-01' '2023-01-02' '2023-01-03' '2023-01-04' '2023-01-05'\n",
            " '2023-01-06' '2023-01-07' '2023-01-08' '2023-01-09' '2023-01-10'\n",
            " '2023-01-11' '2023-01-12' '2023-01-13' '2023-01-14' '2023-01-15'\n",
            " '2023-01-16' '2023-01-17' '2023-01-18' '2023-01-19' '2023-01-20'\n",
            " '2023-01-21' '2023-01-22' '2023-01-23' '2023-01-24' '2023-01-25'\n",
            " '2023-01-26' '2023-01-27' '2023-01-28' '2023-01-29' '2023-01-30'\n",
            " '2023-01-31']\n",
            "\n",
            "Dates in YYYY/MM/DD format:\n",
            " ['2023/01/01' '2023/01/02' '2023/01/03' '2023/01/04' '2023/01/05'\n",
            " '2023/01/06' '2023/01/07' '2023/01/08' '2023/01/09' '2023/01/10'\n",
            " '2023/01/11' '2023/01/12' '2023/01/13' '2023/01/14' '2023/01/15'\n",
            " '2023/01/16' '2023/01/17' '2023/01/18' '2023/01/19' '2023/01/20'\n",
            " '2023/01/21' '2023/01/22' '2023/01/23' '2023/01/24' '2023/01/25'\n",
            " '2023/01/26' '2023/01/27' '2023/01/28' '2023/01/29' '2023/01/30'\n",
            " '2023/01/31']\n"
          ]
        }
      ]
    },
    {
      "cell_type": "code",
      "source": [
        "# Exercise 4: Data Manipulation with NumPy and Pandas\n",
        "\n",
        "import numpy as np\n",
        "import pandas as pd\n",
        "\n",
        "# Create a DataFrame with 5 rows and 4 columns filled with random integers from 1 to 100\n",
        "df = pd.DataFrame(np.random.randint(1, 101, size=(5, 4)), columns=['A', 'B', 'C', 'D'])\n",
        "\n",
        "print(\"Original DataFrame:\\n\", df)\n",
        "\n",
        "# Conditional selection: select rows where values in column 'A' are greater than 50\n",
        "selected_data = df[df['A'] > 50]\n",
        "print(\"\\nRows where column 'A' > 50:\\n\", selected_data)\n",
        "\n",
        "# Aggregation: calculate the sum of each column\n",
        "sum_columns = df.sum()\n",
        "print(\"\\nSum of each column:\\n\", sum_columns)\n",
        "\n",
        "# Aggregation: calculate the average (mean) of each column\n",
        "mean_columns = df.mean()\n",
        "print(\"\\nAverage of each column:\\n\", mean_columns)\n"
      ],
      "metadata": {
        "colab": {
          "base_uri": "https://localhost:8080/"
        },
        "id": "wIa73IyOTAUj",
        "outputId": "3ad678f2-d723-4370-dac5-7c47ce156b89"
      },
      "execution_count": 4,
      "outputs": [
        {
          "output_type": "stream",
          "name": "stdout",
          "text": [
            "Original DataFrame:\n",
            "     A   B   C   D\n",
            "0  66  96  57  28\n",
            "1  23  41  74  57\n",
            "2  53  13  92  30\n",
            "3   4  77  17  75\n",
            "4  44  80  41  13\n",
            "\n",
            "Rows where column 'A' > 50:\n",
            "     A   B   C   D\n",
            "0  66  96  57  28\n",
            "2  53  13  92  30\n",
            "\n",
            "Sum of each column:\n",
            " A    190\n",
            "B    307\n",
            "C    281\n",
            "D    203\n",
            "dtype: int64\n",
            "\n",
            "Average of each column:\n",
            " A    38.0\n",
            "B    61.4\n",
            "C    56.2\n",
            "D    40.6\n",
            "dtype: float64\n"
          ]
        }
      ]
    },
    {
      "cell_type": "code",
      "source": [
        "# Exercise 5: Image Representation\n",
        "\n",
        "import numpy as np\n",
        "import matplotlib.pyplot as plt\n",
        "\n",
        "# Images in NumPy are represented as arrays:\n",
        "# - Grayscale images: 2D arrays where each element is a pixel intensity (0-255)\n",
        "# - Color images: 3D arrays with shape (height, width, color_channels), usually 3 channels (RGB)\n",
        "\n",
        "# Create a simple 5x5 grayscale image (pixel values from 0 to 255)\n",
        "grayscale_image = np.array([\n",
        "    [0, 50, 100, 150, 200],\n",
        "    [25, 75, 125, 175, 225],\n",
        "    [50, 100, 150, 200, 250],\n",
        "    [75, 125, 175, 225, 255],\n",
        "    [100, 150, 200, 250, 255]\n",
        "], dtype=np.uint8)  # uint8 for pixel values 0-255\n",
        "\n",
        "print(\"5x5 Grayscale Image Array:\\n\", grayscale_image)\n",
        "\n",
        "# Display the grayscale image using matplotlib\n",
        "plt.imshow(grayscale_image, cmap='gray', vmin=0, vmax=255)\n",
        "plt.title(\"5x5 Grayscale Image\")\n",
        "plt.axis('off')  # Hide axis ticks\n",
        "plt.show()\n"
      ],
      "metadata": {
        "colab": {
          "base_uri": "https://localhost:8080/",
          "height": 532
        },
        "id": "NWna4dqITO8M",
        "outputId": "4792599d-5fb5-4731-c4a6-a0cdf1b38ced"
      },
      "execution_count": 5,
      "outputs": [
        {
          "output_type": "stream",
          "name": "stdout",
          "text": [
            "5x5 Grayscale Image Array:\n",
            " [[  0  50 100 150 200]\n",
            " [ 25  75 125 175 225]\n",
            " [ 50 100 150 200 250]\n",
            " [ 75 125 175 225 255]\n",
            " [100 150 200 250 255]]\n"
          ]
        },
        {
          "output_type": "display_data",
          "data": {
            "text/plain": [
              "<Figure size 640x480 with 1 Axes>"
            ],
            "image/png": "[encoded data removed]"
          },
          "metadata": {}
        }
      ]
    },
    {
      "cell_type": "code",
      "source": [
        "# Exercise 6: Basic Hypothesis Testing\n",
        "\n",
        "import numpy as np\n",
        "from scipy import stats  # we'll need scipy for t-test\n",
        "\n",
        "# Productivity scores before the training program (mean=50, std=10)\n",
        "productivity_before = np.random.normal(loc=50, scale=10, size=30)\n",
        "\n",
        "# Productivity scores after the training program (increased by ~5 on average)\n",
        "productivity_after = productivity_before + np.random.normal(loc=5, scale=3, size=30)\n",
        "\n",
        "print(\"Productivity before training:\\n\", productivity_before)\n",
        "print(\"\\nProductivity after training:\\n\", productivity_after)\n",
        "\n",
        "# Hypothesis:\n",
        "# H0 (null hypothesis): Training program has no effect, mean productivity before == mean productivity after\n",
        "# H1 (alternative hypothesis): Training program improves productivity, mean productivity after > mean before\n",
        "\n",
        "# Calculate mean difference\n",
        "mean_diff = np.mean(productivity_after) - np.mean(productivity_before)\n",
        "print(\"\\nMean difference (after - before):\", mean_diff)\n",
        "\n",
        "# Perform paired t-test to check if the difference is statistically significant\n",
        "t_stat, p_value = stats.ttest_rel(productivity_after, productivity_before)\n",
        "\n",
        "print(\"\\nPaired t-test results:\")\n",
        "print(\"t-statistic =\", t_stat)\n",
        "print(\"p-value =\", p_value)\n",
        "\n",
        "# Since our hypothesis is one-sided (after > before), we divide p-value by 2\n",
        "if (mean_diff > 0) and (p_value / 2 < 0.05):\n",
        "    print(\"\\nConclusion: Reject H0 — training program significantly improves productivity.\")\n",
        "else:\n",
        "    print(\"\\nConclusion: Fail to reject H0 — no significant improvement detected.\")\n"
      ],
      "metadata": {
        "colab": {
          "base_uri": "https://localhost:8080/"
        },
        "id": "vLA11DQtTPD1",
        "outputId": "f47fe35e-222c-4b87-fb79-345c079fe2ca"
      },
      "execution_count": 6,
      "outputs": [
        {
          "output_type": "stream",
          "name": "stdout",
          "text": [
            "Productivity before training:\n",
            " [38.05049226 43.52205385 63.95626177 45.96391591 51.63668249 53.7112211\n",
            " 77.45460923 40.15344361 65.40780865 70.32379129 37.70512663 60.40839162\n",
            " 52.98398708 43.17810117 35.51717293 46.32702698 49.61333242 45.84561131\n",
            " 45.45567879 44.31665285 52.04628167 63.45154863 45.62413798 75.92771738\n",
            " 38.60554614 63.4053337  46.18521338 26.40757706 45.92760541 47.719942  ]\n",
            "\n",
            "Productivity after training:\n",
            " [43.07717775 48.30529079 70.88205179 50.21985191 59.81873744 58.1588544\n",
            " 78.43284547 47.65254763 70.03026482 74.3261136  41.5181428  66.81810546\n",
            " 60.17250901 52.73259183 41.84253709 50.65120054 49.20500542 49.99093414\n",
            " 51.28614605 45.70668362 56.1323462  69.41209974 60.13064647 82.9427334\n",
            " 39.59414694 72.73852097 45.32203333 31.19964702 47.03499495 55.14518976]\n",
            "\n",
            "Mean difference (after - before): 5.121589500848586\n",
            "\n",
            "Paired t-test results:\n",
            "t-statistic = 8.733203792683252\n",
            "p-value = 1.2978190695433659e-09\n",
            "\n",
            "Conclusion: Reject H0 — training program significantly improves productivity.\n"
          ]
        }
      ]
    },
    {
      "cell_type": "code",
      "source": [
        "# Exercise 7: Complex Array Comparison\n",
        "\n",
        "import numpy as np\n",
        "\n",
        "# Create two example arrays of the same shape\n",
        "array1 = np.array([10, 25, 30, 45, 50])\n",
        "array2 = np.array([20, 20, 35, 40, 60])\n",
        "\n",
        "print(\"Array 1:\", array1)\n",
        "print(\"Array 2:\", array2)\n",
        "\n",
        "# Perform element-wise comparison: check where elements in array1 are greater than in array2\n",
        "comparison = array1 > array2\n",
        "\n",
        "print(\"\\nElement-wise comparison (array1 > array2):\")\n",
        "print(comparison)\n"
      ],
      "metadata": {
        "colab": {
          "base_uri": "https://localhost:8080/"
        },
        "id": "dEalhL9_TPGk",
        "outputId": "ba81182c-a01f-45e5-aaad-71e8c30c377a"
      },
      "execution_count": 7,
      "outputs": [
        {
          "output_type": "stream",
          "name": "stdout",
          "text": [
            "Array 1: [10 25 30 45 50]\n",
            "Array 2: [20 20 35 40 60]\n",
            "\n",
            "Element-wise comparison (array1 > array2):\n",
            "[False  True False  True False]\n"
          ]
        }
      ]
    },
    {
      "cell_type": "code",
      "source": [
        "# Exercise 8: Time Series Data Manipulation\n",
        "\n",
        "import numpy as np\n",
        "import pandas as pd\n",
        "\n",
        "# Generate daily dates for the entire year 2023\n",
        "dates = pd.date_range(start='2023-01-01', end='2023-12-31', freq='D')\n",
        "\n",
        "# Generate random data associated with each date (e.g., daily values)\n",
        "data = np.random.randn(len(dates))\n",
        "\n",
        "# Create a pandas Series with dates as index\n",
        "time_series = pd.Series(data, index=dates)\n",
        "\n",
        "print(\"Full time series (first 5 rows):\\n\", time_series.head())\n",
        "\n",
        "# Slice: January to March\n",
        "jan_mar = time_series['2023-01-01':'2023-03-31']\n",
        "print(\"\\nJanuary to March (sample):\\n\", jan_mar.head())\n",
        "\n",
        "# Slice: April to June\n",
        "apr_jun = time_series['2023-04-01':'2023-06-30']\n",
        "print(\"\\nApril to June (sample):\\n\", apr_jun.head())\n",
        "\n",
        "# Slice: July to September\n",
        "jul_sep = time_series['2023-07-01':'2023-09-30']\n",
        "print(\"\\nJuly to September (sample):\\n\", jul_sep.head())\n",
        "\n",
        "# Slice: October to December\n",
        "oct_dec = time_series['2023-10-01':'2023-12-31']\n",
        "print(\"\\nOctober to December (sample):\\n\", oct_dec.head())\n"
      ],
      "metadata": {
        "colab": {
          "base_uri": "https://localhost:8080/"
        },
        "id": "BmQ_HfKwTPJs",
        "outputId": "83d98089-2578-4601-947d-1324d464714f"
      },
      "execution_count": 8,
      "outputs": [
        {
          "output_type": "stream",
          "name": "stdout",
          "text": [
            "Full time series (first 5 rows):\n",
            " 2023-01-01   -1.249900\n",
            "2023-01-02    0.346815\n",
            "2023-01-03    0.707635\n",
            "2023-01-04    0.911144\n",
            "2023-01-05   -1.029435\n",
            "Freq: D, dtype: float64\n",
            "\n",
            "January to March (sample):\n",
            " 2023-01-01   -1.249900\n",
            "2023-01-02    0.346815\n",
            "2023-01-03    0.707635\n",
            "2023-01-04    0.911144\n",
            "2023-01-05   -1.029435\n",
            "Freq: D, dtype: float64\n",
            "\n",
            "April to June (sample):\n",
            " 2023-04-01    0.759612\n",
            "2023-04-02    0.482260\n",
            "2023-04-03    1.372672\n",
            "2023-04-04    1.252233\n",
            "2023-04-05   -2.505985\n",
            "Freq: D, dtype: float64\n",
            "\n",
            "July to September (sample):\n",
            " 2023-07-01   -1.410177\n",
            "2023-07-02   -0.952330\n",
            "2023-07-03    0.094033\n",
            "2023-07-04    0.467332\n",
            "2023-07-05   -0.419322\n",
            "Freq: D, dtype: float64\n",
            "\n",
            "October to December (sample):\n",
            " 2023-10-01    1.677776\n",
            "2023-10-02    0.117432\n",
            "2023-10-03    0.450765\n",
            "2023-10-04    0.074561\n",
            "2023-10-05   -1.670421\n",
            "Freq: D, dtype: float64\n"
          ]
        }
      ]
    },
    {
      "cell_type": "code",
      "source": [
        "# Exercise 9: Data Conversion\n",
        "\n",
        "import numpy as np\n",
        "import pandas as pd\n",
        "\n",
        "# Create a NumPy array\n",
        "np_array = np.array([[10, 20, 30],\n",
        "                     [40, 50, 60],\n",
        "                     [70, 80, 90]])\n",
        "\n",
        "print(\"Original NumPy array:\\n\", np_array)\n",
        "\n",
        "# Convert NumPy array to Pandas DataFrame\n",
        "df = pd.DataFrame(np_array, columns=['A', 'B', 'C'])\n",
        "print(\"\\nConverted to Pandas DataFrame:\\n\", df)\n",
        "\n",
        "# Convert Pandas DataFrame back to NumPy array\n",
        "np_array_converted = df.to_numpy()\n",
        "print(\"\\nConverted back to NumPy array:\\n\", np_array_converted)\n"
      ],
      "metadata": {
        "colab": {
          "base_uri": "https://localhost:8080/"
        },
        "id": "pamRjwNhTAXf",
        "outputId": "e79d882c-9908-4420-d179-a96f6b80ec40"
      },
      "execution_count": 9,
      "outputs": [
        {
          "output_type": "stream",
          "name": "stdout",
          "text": [
            "Original NumPy array:\n",
            " [[10 20 30]\n",
            " [40 50 60]\n",
            " [70 80 90]]\n",
            "\n",
            "Converted to Pandas DataFrame:\n",
            "     A   B   C\n",
            "0  10  20  30\n",
            "1  40  50  60\n",
            "2  70  80  90\n",
            "\n",
            "Converted back to NumPy array:\n",
            " [[10 20 30]\n",
            " [40 50 60]\n",
            " [70 80 90]]\n"
          ]
        }
      ]
    },
    {
      "cell_type": "code",
      "source": [
        "# Exercise 10: Basic Visualization\n",
        "\n",
        "import numpy as np\n",
        "import matplotlib.pyplot as plt\n",
        "\n",
        "# Generate a dataset of 30 random numbers\n",
        "data = np.random.randn(30).cumsum()  # cumulative sum to simulate a trend\n",
        "\n",
        "# Create a line plot of the data\n",
        "plt.plot(data, marker='o', linestyle='-', color='b')\n",
        "\n",
        "# Add title and labels\n",
        "plt.title(\"Line Graph of Random Data\")\n",
        "plt.xlabel(\"Index\")\n",
        "plt.ylabel(\"Value\")\n",
        "\n",
        "# Show grid for better readability\n",
        "plt.grid(True)\n",
        "\n",
        "# Display the plot\n",
        "plt.show()\n"
      ],
      "metadata": {
        "colab": {
          "base_uri": "https://localhost:8080/",
          "height": 472
        },
        "id": "h7jwro39VEJy",
        "outputId": "ac1ca9a3-13df-4100-cb0c-babcb2cff773"
      },
      "execution_count": 10,
      "outputs": [
        {
          "output_type": "display_data",
          "data": {
            "text/plain": [
              "<Figure size 640x480 with 1 Axes>"
            ],
            "image/png": "[encoded data removed]"
          },
          "metadata": {}
        }
      ]
    }
  ]
}
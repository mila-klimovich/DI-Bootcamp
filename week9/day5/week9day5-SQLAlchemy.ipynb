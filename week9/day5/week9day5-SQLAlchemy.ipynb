{
  "nbformat": 4,
  "nbformat_minor": 0,
  "metadata": {
    "colab": {
      "provenance": []
    },
    "kernelspec": {
      "name": "python3",
      "display_name": "Python 3"
    },
    "language_info": {
      "name": "python"
    }
  },
  "cells": [
    {
      "cell_type": "markdown",
      "source": [
        " Install Required Libraries"
      ],
      "metadata": {
        "id": "IEnxa0o3k39c"
      }
    },
    {
      "cell_type": "code",
      "execution_count": null,
      "metadata": {
        "colab": {
          "base_uri": "https://localhost:8080/"
        },
        "id": "c8B0kpTrdvJn",
        "outputId": "c17fce80-ccee-42d0-aa1e-e32bbd7d8c00"
      },
      "outputs": [
        {
          "output_type": "stream",
          "name": "stdout",
          "text": [
            "Requirement already satisfied: sqlalchemy in /usr/local/lib/python3.11/dist-packages (2.0.40)\n",
            "Requirement already satisfied: greenlet>=1 in /usr/local/lib/python3.11/dist-packages (from sqlalchemy) (3.2.2)\n",
            "Requirement already satisfied: typing-extensions>=4.6.0 in /usr/local/lib/python3.11/dist-packages (from sqlalchemy) (4.13.2)\n"
          ]
        }
      ],
      "source": [
        "!pip install sqlalchemy"
      ]
    },
    {
      "cell_type": "code",
      "source": [
        "import sqlalchemy\n",
        "print(sqlalchemy.__version__)\n"
      ],
      "metadata": {
        "colab": {
          "base_uri": "https://localhost:8080/"
        },
        "id": "8ponenesiel6",
        "outputId": "7f219ff3-e35a-4a1c-c39a-c4b3f11e5d9b"
      },
      "execution_count": null,
      "outputs": [
        {
          "output_type": "stream",
          "name": "stdout",
          "text": [
            "2.0.40\n"
          ]
        }
      ]
    },
    {
      "cell_type": "markdown",
      "source": [
        "create_engine() is the universal way to configure connections.\n",
        "\n",
        ".connect() gives us a live connection object to run queries."
      ],
      "metadata": {
        "id": "vsmxW0aokknS"
      }
    },
    {
      "cell_type": "code",
      "source": [
        "import pandas as pd\n",
        "from google.colab import files\n",
        "\n",
        "uploaded = files.upload()"
      ],
      "metadata": {
        "colab": {
          "base_uri": "https://localhost:8080/",
          "height": 73
        },
        "id": "Tym1qN3DkEgt",
        "outputId": "5547e5e0-35f8-4f66-8a20-42c447ea9f46"
      },
      "execution_count": null,
      "outputs": [
        {
          "output_type": "display_data",
          "data": {
            "text/plain": [
              "<IPython.core.display.HTML object>"
            ],
            "text/html": [
              "\n",
              "     <input type=\"file\" id=\"files-adf8f0c3-e10d-4608-b041-59b0226d3218\" name=\"files[]\" multiple disabled\n",
              "        style=\"border:none\" />\n",
              "     <output id=\"result-adf8f0c3-e10d-4608-b041-59b0226d3218\">\n",
              "      Upload widget is only available when the cell has been executed in the\n",
              "      current browser session. Please rerun this cell to enable.\n",
              "      </output>\n",
              "      <script>// Copyright 2017 Google LLC\n",
              "//\n",
              "// Licensed under the Apache License, Version 2.0 (the \"License\");\n",
              "// you may not use this file except in compliance with the License.\n",
              "// You may obtain a copy of the License at\n",
              "//\n",
              "//      http://www.apache.org/licenses/LICENSE-2.0\n",
              "//\n",
              "// Unless required by applicable law or agreed to in writing, software\n",
              "// distributed under the License is distributed on an \"AS IS\" BASIS,\n",
              "// WITHOUT WARRANTIES OR CONDITIONS OF ANY KIND, either express or implied.\n",
              "// See the License for the specific language governing permissions and\n",
              "// limitations under the License.\n",
              "\n",
              "/**\n",
              " * @fileoverview Helpers for google.colab Python module.\n",
              " */\n",
              "(function(scope) {\n",
              "function span(text, styleAttributes = {}) {\n",
              "  const element = document.createElement('span');\n",
              "  element.textContent = text;\n",
              "  for (const key of Object.keys(styleAttributes)) {\n",
              "    element.style[key] = styleAttributes[key];\n",
              "  }\n",
              "  return element;\n",
              "}\n",
              "\n",
              "// Max number of bytes which will be uploaded at a time.\n",
              "const MAX_PAYLOAD_SIZE = 100 * 1024;\n",
              "\n",
              "function _uploadFiles(inputId, outputId) {\n",
              "  const steps = uploadFilesStep(inputId, outputId);\n",
              "  const outputElement = document.getElementById(outputId);\n",
              "  // Cache steps on the outputElement to make it available for the next call\n",
              "  // to uploadFilesContinue from Python.\n",
              "  outputElement.steps = steps;\n",
              "\n",
              "  return _uploadFilesContinue(outputId);\n",
              "}\n",
              "\n",
              "// This is roughly an async generator (not supported in the browser yet),\n",
              "// where there are multiple asynchronous steps and the Python side is going\n",
              "// to poll for completion of each step.\n",
              "// This uses a Promise to block the python side on completion of each step,\n",
              "// then passes the result of the previous step as the input to the next step.\n",
              "function _uploadFilesContinue(outputId) {\n",
              "  const outputElement = document.getElementById(outputId);\n",
              "  const steps = outputElement.steps;\n",
              "\n",
              "  const next = steps.next(outputElement.lastPromiseValue);\n",
              "  return Promise.resolve(next.value.promise).then((value) => {\n",
              "    // Cache the last promise value to make it available to the next\n",
              "    // step of the generator.\n",
              "    outputElement.lastPromiseValue = value;\n",
              "    return next.value.response;\n",
              "  });\n",
              "}\n",
              "\n",
              "/**\n",
              " * Generator function which is called between each async step of the upload\n",
              " * process.\n",
              " * @param {string} inputId Element ID of the input file picker element.\n",
              " * @param {string} outputId Element ID of the output display.\n",
              " * @return {!Iterable<!Object>} Iterable of next steps.\n",
              " */\n",
              "function* uploadFilesStep(inputId, outputId) {\n",
              "  const inputElement = document.getElementById(inputId);\n",
              "  inputElement.disabled = false;\n",
              "\n",
              "  const outputElement = document.getElementById(outputId);\n",
              "  outputElement.innerHTML = '';\n",
              "\n",
              "  const pickedPromise = new Promise((resolve) => {\n",
              "    inputElement.addEventListener('change', (e) => {\n",
              "      resolve(e.target.files);\n",
              "    });\n",
              "  });\n",
              "\n",
              "  const cancel = document.createElement('button');\n",
              "  inputElement.parentElement.appendChild(cancel);\n",
              "  cancel.textContent = 'Cancel upload';\n",
              "  const cancelPromise = new Promise((resolve) => {\n",
              "    cancel.onclick = () => {\n",
              "      resolve(null);\n",
              "    };\n",
              "  });\n",
              "\n",
              "  // Wait for the user to pick the files.\n",
              "  const files = yield {\n",
              "    promise: Promise.race([pickedPromise, cancelPromise]),\n",
              "    response: {\n",
              "      action: 'starting',\n",
              "    }\n",
              "  };\n",
              "\n",
              "  cancel.remove();\n",
              "\n",
              "  // Disable the input element since further picks are not allowed.\n",
              "  inputElement.disabled = true;\n",
              "\n",
              "  if (!files) {\n",
              "    return {\n",
              "      response: {\n",
              "        action: 'complete',\n",
              "      }\n",
              "    };\n",
              "  }\n",
              "\n",
              "  for (const file of files) {\n",
              "    const li = document.createElement('li');\n",
              "    li.append(span(file.name, {fontWeight: 'bold'}));\n",
              "    li.append(span(\n",
              "        `(${file.type || 'n/a'}) - ${file.size} bytes, ` +\n",
              "        `last modified: ${\n",
              "            file.lastModifiedDate ? file.lastModifiedDate.toLocaleDateString() :\n",
              "                                    'n/a'} - `));\n",
              "    const percent = span('0% done');\n",
              "    li.appendChild(percent);\n",
              "\n",
              "    outputElement.appendChild(li);\n",
              "\n",
              "    const fileDataPromise = new Promise((resolve) => {\n",
              "      const reader = new FileReader();\n",
              "      reader.onload = (e) => {\n",
              "        resolve(e.target.result);\n",
              "      };\n",
              "      reader.readAsArrayBuffer(file);\n",
              "    });\n",
              "    // Wait for the data to be ready.\n",
              "    let fileData = yield {\n",
              "      promise: fileDataPromise,\n",
              "      response: {\n",
              "        action: 'continue',\n",
              "      }\n",
              "    };\n",
              "\n",
              "    // Use a chunked sending to avoid message size limits. See b/62115660.\n",
              "    let position = 0;\n",
              "    do {\n",
              "      const length = Math.min(fileData.byteLength - position, MAX_PAYLOAD_SIZE);\n",
              "      const chunk = new Uint8Array(fileData, position, length);\n",
              "      position += length;\n",
              "\n",
              "      const base64 = btoa(String.fromCharCode.apply(null, chunk));\n",
              "      yield {\n",
              "        response: {\n",
              "          action: 'append',\n",
              "          file: file.name,\n",
              "          data: base64,\n",
              "        },\n",
              "      };\n",
              "\n",
              "      let percentDone = fileData.byteLength === 0 ?\n",
              "          100 :\n",
              "          Math.round((position / fileData.byteLength) * 100);\n",
              "      percent.textContent = `${percentDone}% done`;\n",
              "\n",
              "    } while (position < fileData.byteLength);\n",
              "  }\n",
              "\n",
              "  // All done.\n",
              "  yield {\n",
              "    response: {\n",
              "      action: 'complete',\n",
              "    }\n",
              "  };\n",
              "}\n",
              "\n",
              "scope.google = scope.google || {};\n",
              "scope.google.colab = scope.google.colab || {};\n",
              "scope.google.colab._files = {\n",
              "  _uploadFiles,\n",
              "  _uploadFilesContinue,\n",
              "};\n",
              "})(self);\n",
              "</script> "
            ]
          },
          "metadata": {}
        },
        {
          "output_type": "stream",
          "name": "stdout",
          "text": [
            "Saving european_database.sqlite to european_database (3).sqlite\n"
          ]
        }
      ]
    },
    {
      "cell_type": "code",
      "source": [
        "from sqlalchemy import create_engine\n",
        "\n",
        "# Create an engine connected to the database\n",
        "engine = create_engine(\"sqlite:///european_database.sqlite\")\n",
        "\n",
        "# Connect to the database\n",
        "conn = engine.connect()\n"
      ],
      "metadata": {
        "id": "aZBNYUtHiepi"
      },
      "execution_count": null,
      "outputs": []
    },
    {
      "cell_type": "markdown",
      "source": [
        "Create a MetaData() object to store schema.\n",
        "\n",
        "Use metadata.reflect(bind=engine) to read existing tables."
      ],
      "metadata": {
        "id": "nbRTOXLskqbl"
      }
    },
    {
      "cell_type": "code",
      "source": [
        "from sqlalchemy import MetaData\n",
        "\n",
        "# Store table and schema structure\n",
        "metadata = MetaData()\n",
        "\n",
        "# Automatically read table definitions\n",
        "metadata.reflect(bind=engine)\n",
        "\n",
        "# Print table names\n",
        "print(metadata.tables.keys())\n"
      ],
      "metadata": {
        "colab": {
          "base_uri": "https://localhost:8080/"
        },
        "id": "3-LZsc9aiesa",
        "outputId": "64dfd424-b5bb-4412-ad28-58cf53806e6c"
      },
      "execution_count": null,
      "outputs": [
        {
          "output_type": "stream",
          "name": "stdout",
          "text": [
            "dict_keys([])\n"
          ]
        }
      ]
    },
    {
      "cell_type": "code",
      "source": [
        "from sqlalchemy import Table, Column, Integer, Text\n",
        "\n",
        "# # Define a new table\n",
        "teams = Table(\n",
        "    'teams', metadata,\n",
        "    Column('team_id', Integer, primary_key=True),\n",
        "    Column('team_name', Text, nullable=False),\n",
        "    Column('city', Text, nullable=False)\n",
        ")\n",
        "\n",
        "# Create the table in the database (if it doesn't already exist)\n",
        "metadata.create_all(engine)\n",
        "\n",
        "# Insert multiple rows\n",
        "insert_query = teams.insert().values([\n",
        "    {'team_id': 1, 'team_name': 'Team A', 'city': 'City A'},\n",
        "    {'team_id': 2, 'team_name': 'Team B', 'city': 'City B'},\n",
        "    {'team_id': 3, 'team_name': 'Team C', 'city': 'City C'}\n",
        "])\n",
        "\n",
        "# Run the insert operation\n",
        "conn.execute(insert_query)\n"
      ],
      "metadata": {
        "colab": {
          "base_uri": "https://localhost:8080/"
        },
        "id": "TmhCuu7hieze",
        "outputId": "81f939d3-86cf-4736-f983-6c961eaa4430"
      },
      "execution_count": null,
      "outputs": [
        {
          "output_type": "execute_result",
          "data": {
            "text/plain": [
              "<sqlalchemy.engine.cursor.CursorResult at 0x791afbd78ec0>"
            ]
          },
          "metadata": {},
          "execution_count": 25
        }
      ]
    },
    {
      "cell_type": "code",
      "source": [
        "if 'teams' in metadata.tables:\n",
        "    print(repr(metadata.tables['teams']))\n",
        "else:\n",
        "    print(\"Table 'teams' does not exist.\")\n"
      ],
      "metadata": {
        "colab": {
          "base_uri": "https://localhost:8080/"
        },
        "id": "pTkplQxPie3S",
        "outputId": "9e3cab4c-cacb-422f-e23b-463c205fb392"
      },
      "execution_count": null,
      "outputs": [
        {
          "output_type": "stream",
          "name": "stdout",
          "text": [
            "Table('teams', MetaData(), Column('team_id', Integer(), table=<teams>, primary_key=True, nullable=False), Column('team_name', Text(), table=<teams>, nullable=False), Column('city', Text(), table=<teams>, nullable=False), schema=None)\n"
          ]
        }
      ]
    },
    {
      "cell_type": "code",
      "source": [
        "from sqlalchemy import select\n",
        "\n",
        "# Reference the 'teams' table\n",
        "teams = metadata.tables['teams']\n",
        "\n",
        "# Create a SELECT query\n",
        "# query = select(teams)\n",
        "\n",
        "# Execute query\n",
        "result_proxy = conn.execute(select(teams))\n",
        "\n",
        "# Fetch all results\n",
        "rows = result_proxy.fetchall()\n",
        "\n",
        "# Print each row\n",
        "for row in rows:\n",
        "    print(row)\n",
        "\n"
      ],
      "metadata": {
        "colab": {
          "base_uri": "https://localhost:8080/"
        },
        "id": "9C_XlGvVie6X",
        "outputId": "2120f584-d8b5-435f-821c-1877b2f2c721"
      },
      "execution_count": null,
      "outputs": [
        {
          "output_type": "stream",
          "name": "stdout",
          "text": [
            "(1, 'Team A', 'City A')\n",
            "(2, 'Team B', 'City B')\n",
            "(3, 'Team C', 'City C')\n"
          ]
        }
      ]
    },
    {
      "cell_type": "code",
      "source": [
        "import pandas as pd\n",
        "\n",
        "\n",
        "query = select(teams.c)  # select all columns\n",
        " # Read SQL results into DataFrame\n",
        "df = pd.read_sql(query, conn)\n",
        "\n",
        "# Print schema: column names and data types\n",
        "print(\"Columns in 'teams' table:\")\n",
        "for col in teams.columns:\n",
        "  print(f\"{col.name}: {col.type}\")\n",
        "\n",
        "print(\"\\nRows in 'teams' table:\")\n",
        "print(df.head())"
      ],
      "metadata": {
        "colab": {
          "base_uri": "https://localhost:8080/"
        },
        "id": "j5-_ALiYgC2m",
        "outputId": "2cb63518-1f37-4f08-d152-324953883255"
      },
      "execution_count": null,
      "outputs": [
        {
          "output_type": "stream",
          "name": "stdout",
          "text": [
            "Columns in 'teams' table:\n",
            "team_id: INTEGER\n",
            "team_name: TEXT\n",
            "city: TEXT\n",
            "\n",
            "Rows in 'teams' table:\n",
            "   team_id team_name    city\n",
            "0        1    Team A  City A\n",
            "1        2    Team B  City B\n",
            "2        3    Team C  City C\n"
          ]
        }
      ]
    },
    {
      "cell_type": "code",
      "source": [
        "query = teams.select()  # Same as select(teams)\n",
        "print(query)\n"
      ],
      "metadata": {
        "colab": {
          "base_uri": "https://localhost:8080/"
        },
        "id": "rxRxoL3zraEZ",
        "outputId": "b0ad3ac6-54a6-4de4-8a0a-c8d1149c3586"
      },
      "execution_count": null,
      "outputs": [
        {
          "output_type": "stream",
          "name": "stdout",
          "text": [
            "SELECT teams.team_id, teams.team_name, teams.city \n",
            "FROM teams\n"
          ]
        }
      ]
    },
    {
      "cell_type": "code",
      "source": [
        "exe = conn.execute(query)         # Execute query\n",
        "result = exe.fetchmany(2)         # Get top 2 rows\n",
        "print(result)\n"
      ],
      "metadata": {
        "colab": {
          "base_uri": "https://localhost:8080/"
        },
        "id": "jSavdzHksN76",
        "outputId": "707c293f-8e20-4e53-9dcb-712e055e9ddd"
      },
      "execution_count": null,
      "outputs": [
        {
          "output_type": "stream",
          "name": "stdout",
          "text": [
            "[(1, 'Team A', 'City A'), (2, 'Team B', 'City B')]\n"
          ]
        }
      ]
    },
    {
      "cell_type": "code",
      "source": [
        "query = select(teams.c.team_name) #Show only a specific column\n",
        "result = conn.execute(query).fetchall()\n",
        "for row in result:\n",
        "    print(row)\n"
      ],
      "metadata": {
        "colab": {
          "base_uri": "https://localhost:8080/"
        },
        "id": "sn_9ej-PsZYV",
        "outputId": "fcb140f3-211d-455d-fed3-a564b6fab385"
      },
      "execution_count": null,
      "outputs": [
        {
          "output_type": "stream",
          "name": "stdout",
          "text": [
            "('Team A',)\n",
            "('Team B',)\n",
            "('Team C',)\n"
          ]
        }
      ]
    },
    {
      "cell_type": "code",
      "source": [
        "from sqlalchemy import distinct\n",
        "\n",
        "query = select(distinct(teams.c.city)) #Show only distinct values of a column\n",
        "result = conn.execute(query).fetchall()\n",
        "for row in result:\n",
        "    print(row)\n"
      ],
      "metadata": {
        "colab": {
          "base_uri": "https://localhost:8080/"
        },
        "id": "lf7Rmb_qsfYh",
        "outputId": "6001ab51-5cd5-4ae2-9309-cc5f01e3f849"
      },
      "execution_count": null,
      "outputs": [
        {
          "output_type": "stream",
          "name": "stdout",
          "text": [
            "('City A',)\n",
            "('City B',)\n",
            "('City C',)\n"
          ]
        }
      ]
    },
    {
      "cell_type": "code",
      "source": [
        "from sqlalchemy import distinct\n",
        "\n",
        "query = select(distinct(teams.c.city)) #Show only distinct values of a column\n",
        "# result = conn.execute(query).fetchall()\n",
        "# print(result[0])\n",
        "\n",
        "result = conn.execute(query).fetchone()\n",
        "print(result)"
      ],
      "metadata": {
        "colab": {
          "base_uri": "https://localhost:8080/"
        },
        "id": "bBcUtQ_GrM0T",
        "outputId": "d9bfaaeb-0000-4743-d1a4-e67564734701"
      },
      "execution_count": null,
      "outputs": [
        {
          "output_type": "stream",
          "name": "stdout",
          "text": [
            "('City A',)\n"
          ]
        }
      ]
    },
    {
      "cell_type": "code",
      "source": [],
      "metadata": {
        "id": "JC2zGhPehcQu"
      },
      "execution_count": null,
      "outputs": []
    },
    {
      "cell_type": "code",
      "source": [
        "import sqlalchemy as db\n",
        "\n",
        "# Step 1: Create a new SQLite database engine\n",
        "engine = db.create_engine('sqlite:///datacamp.sqlite')\n",
        "\n",
        "# Step 2: Establish connection\n",
        "conn = engine.connect()\n",
        "\n",
        "# Step 3: Initialize metadata\n",
        "metadata = db.MetaData()\n",
        "\n",
        "# Step 4: Define 'Student' table schema\n",
        "Student = db.Table('Student', metadata,\n",
        "    db.Column('Id', db.Integer(), primary_key=True, autoincrement=True),\n",
        "    db.Column('Name', db.String(255), nullable=False),\n",
        "    db.Column('Major', db.String(255), default=\"Math\"),\n",
        "    db.Column('Pass', db.Boolean(), default=True)\n",
        ")\n",
        "\n",
        "# Step 5: Create table in the database\n",
        "metadata.create_all(engine)\n"
      ],
      "metadata": {
        "id": "yc3dH-m5hcdH"
      },
      "execution_count": null,
      "outputs": []
    },
    {
      "cell_type": "code",
      "source": [
        "# Insert one row\n",
        "query = db.insert(Student).values(Name='Matthew', Major='English', Pass=True)\n",
        "result = conn.execute(query)\n",
        "print(result)\n",
        "\n",
        "# Query to check inserted data\n",
        "query = db.select(Student)\n",
        "result_proxy = conn.execute(query)\n",
        "rows = result_proxy.fetchall()\n",
        "\n",
        "print(\"\\nRows in 'Student' table:\")\n",
        "for row in rows:\n",
        "    print(row)\n"
      ],
      "metadata": {
        "colab": {
          "base_uri": "https://localhost:8080/"
        },
        "id": "2twsyP-OidjR",
        "outputId": "31ee3aef-8060-4069-bf81-a4f2344ce4e3"
      },
      "execution_count": null,
      "outputs": [
        {
          "output_type": "stream",
          "name": "stdout",
          "text": [
            "<sqlalchemy.engine.cursor.CursorResult object at 0x791af7b35be0>\n",
            "\n",
            "Rows in 'Student' table:\n",
            "(1, 'Matthew', 'English', True)\n"
          ]
        }
      ]
    },
    {
      "cell_type": "code",
      "source": [
        "# Insert multiple rows\n",
        "query = db.insert(Student)\n",
        "values_list = [\n",
        "    {'Name': 'Nisha', 'Major': \"Science\", 'Pass': False},\n",
        "    {'Name': 'Natasha', 'Major': \"Math\", 'Pass': True},\n",
        "    {'Name': 'Ben', 'Major': \"English\", 'Pass': False}\n",
        "]\n",
        "\n",
        "result = conn.execute(query, values_list)\n",
        "\n",
        "# Check results\n",
        "output = conn.execute(db.select(Student)).fetchall()\n",
        "print(output)\n"
      ],
      "metadata": {
        "colab": {
          "base_uri": "https://localhost:8080/"
        },
        "id": "AArAO6ymidml",
        "outputId": "11e933a1-68f9-47ec-9fa8-c9707c783b6c"
      },
      "execution_count": null,
      "outputs": [
        {
          "output_type": "stream",
          "name": "stdout",
          "text": [
            "[(1, 'Matthew', 'English', True), (2, 'Nisha', 'Science', False), (3, 'Natasha', 'Math', True), (4, 'Ben', 'English', False)]\n"
          ]
        }
      ]
    },
    {
      "cell_type": "code",
      "source": [
        "from sqlalchemy.sql import text\n",
        "\n",
        "query = text(\"SELECT Name, Major FROM Student WHERE Pass = True\")\n",
        "output = conn.execute(query)\n",
        "print(output.fetchall())\n"
      ],
      "metadata": {
        "colab": {
          "base_uri": "https://localhost:8080/"
        },
        "id": "MCaS_l89idtP",
        "outputId": "538d7942-59fc-4f73-f02b-df5e574fa204"
      },
      "execution_count": null,
      "outputs": [
        {
          "output_type": "stream",
          "name": "stdout",
          "text": [
            "[('Matthew', 'English'), ('Natasha', 'Math')]\n"
          ]
        }
      ]
    },
    {
      "cell_type": "code",
      "source": [
        "from sqlalchemy.sql import text\n",
        "\n",
        "query = text(\"SELECT Major, COUNT(*) FROM Student GROUP BY Major\")\n",
        "output = conn.execute(query)\n",
        "print(output.fetchall())\n"
      ],
      "metadata": {
        "colab": {
          "base_uri": "https://localhost:8080/"
        },
        "id": "EukZNlz6rhpv",
        "outputId": "fd2d65d1-33d3-4bb8-db79-34b63adb6c7d"
      },
      "execution_count": null,
      "outputs": [
        {
          "output_type": "stream",
          "name": "stdout",
          "text": [
            "[('English', 2), ('Math', 1), ('Science', 1)]\n"
          ]
        }
      ]
    },
    {
      "cell_type": "code",
      "source": [
        "query = Student.select().where(Student.columns.Major == 'English')\n",
        "output = conn.execute(query)\n",
        "print(output.fetchall())\n"
      ],
      "metadata": {
        "colab": {
          "base_uri": "https://localhost:8080/"
        },
        "id": "p0V_ci_XhmYO",
        "outputId": "d1552bfc-919e-48dc-cb95-ffe39a4ea564"
      },
      "execution_count": null,
      "outputs": [
        {
          "output_type": "stream",
          "name": "stdout",
          "text": [
            "[(1, 'Matthew', 'English', True), (4, 'Ben', 'English', False)]\n"
          ]
        }
      ]
    },
    {
      "cell_type": "code",
      "source": [
        "query = Student.select().where(Student.columns.Pass == True)\n",
        "output = conn.execute(query)\n",
        "print(output.fetchall())"
      ],
      "metadata": {
        "colab": {
          "base_uri": "https://localhost:8080/"
        },
        "id": "6tr-S3QpsvLg",
        "outputId": "523f7660-9753-48d9-90ad-41bee413d9fa"
      },
      "execution_count": null,
      "outputs": [
        {
          "output_type": "stream",
          "name": "stdout",
          "text": [
            "[(1, 'Matthew', 'English', True), (3, 'Natasha', 'Math', True)]\n"
          ]
        }
      ]
    },
    {
      "cell_type": "code",
      "source": [
        "query = Student.select().where(\n",
        "    db.and_(\n",
        "        Student.columns.Major == 'English',\n",
        "        Student.columns.Pass == False\n",
        "    )\n",
        ")\n",
        "output = conn.execute(query)\n",
        "print(output.fetchall())\n"
      ],
      "metadata": {
        "colab": {
          "base_uri": "https://localhost:8080/"
        },
        "id": "5dkgNCEmhmfR",
        "outputId": "eaf0805c-c7db-40f4-fd08-4d466a697234"
      },
      "execution_count": null,
      "outputs": [
        {
          "output_type": "stream",
          "name": "stdout",
          "text": [
            "[(4, 'Ben', 'English', False)]\n"
          ]
        }
      ]
    },
    {
      "cell_type": "code",
      "source": [],
      "metadata": {
        "id": "Jpb4rVf0xR2F"
      },
      "execution_count": null,
      "outputs": []
    },
    {
      "cell_type": "code",
      "source": [
        "# IN clause\n",
        "Student.select().where(Student.columns.Major.in_(['English', 'Math']))\n",
        "\n",
        "# AND/OR condition\n",
        "Student.select().where(\n",
        "    db.or_(\n",
        "        Student.columns.Major == 'English',\n",
        "        Student.columns.Pass == True\n",
        "    )\n",
        ")\n",
        "\n",
        "# ORDER BY\n",
        "Student.select().order_by(db.desc(Student.columns.Name))\n",
        "\n",
        "# LIMIT\n",
        "Student.select().limit(3)\n"
      ],
      "metadata": {
        "colab": {
          "base_uri": "https://localhost:8080/"
        },
        "id": "s_I4zMw3xPzT",
        "outputId": "a63242f0-3531-4c76-88c5-7faba9655f04"
      },
      "execution_count": null,
      "outputs": [
        {
          "output_type": "execute_result",
          "data": {
            "text/plain": [
              "<sqlalchemy.sql.selectable.Select object at 0x791af7c0d850>"
            ]
          },
          "metadata": {},
          "execution_count": 56
        }
      ]
    },
    {
      "cell_type": "code",
      "source": [
        "from sqlalchemy import func, select\n",
        "\n",
        "# Sum of Id values\n",
        "sum_query = select(func.sum(Student.columns.Id))\n",
        "print(conn.execute(sum_query).fetchall())\n",
        "\n",
        "# Average of Id values\n",
        "avg_query = select(func.avg(Student.columns.Id))\n",
        "print(conn.execute(avg_query).fetchall())\n",
        "\n",
        "# Count of students\n",
        "count_query = select(func.count(Student.columns.Id))\n",
        "print(conn.execute(count_query).fetchall())\n",
        "\n",
        "# Minimum Id\n",
        "min_query = select(func.min(Student.columns.Id))\n",
        "print(conn.execute(min_query).fetchall())\n",
        "\n",
        "# Maximum Id\n",
        "max_query = select(func.max(Student.columns.Id))\n",
        "print(conn.execute(max_query).fetchall())\n"
      ],
      "metadata": {
        "colab": {
          "base_uri": "https://localhost:8080/"
        },
        "id": "0jboMDQrxzLH",
        "outputId": "18fc64ac-81eb-4bfb-cd3d-bcdc3d7dd485"
      },
      "execution_count": null,
      "outputs": [
        {
          "output_type": "stream",
          "name": "stdout",
          "text": [
            "[(10,)]\n",
            "[(2.5,)]\n",
            "[(4,)]\n",
            "[(1,)]\n",
            "[(4,)]\n"
          ]
        }
      ]
    },
    {
      "cell_type": "code",
      "source": [
        "# Group by Pass status and sum the IDs\n",
        "group_query = select(\n",
        "    func.sum(Student.columns.Id),\n",
        "    Student.columns.Pass\n",
        ").group_by(Student.columns.Pass)\n",
        "\n",
        "print(conn.execute(group_query).fetchall())\n"
      ],
      "metadata": {
        "colab": {
          "base_uri": "https://localhost:8080/"
        },
        "id": "4kY49Uf9x8sN",
        "outputId": "e427dc23-3943-4645-d514-636b2478315c"
      },
      "execution_count": null,
      "outputs": [
        {
          "output_type": "stream",
          "name": "stdout",
          "text": [
            "[(6, False), (4, True)]\n"
          ]
        }
      ]
    },
    {
      "cell_type": "code",
      "source": [
        "# Correct way to select distinct values\n",
        "distinct_query = select(func.distinct(Student.columns.Major))\n",
        "print(conn.execute(distinct_query).fetchall())\n"
      ],
      "metadata": {
        "colab": {
          "base_uri": "https://localhost:8080/"
        },
        "id": "DeAR0hYeyAPk",
        "outputId": "15c4a8c0-6631-45a1-bfa4-41a7f1738d9b"
      },
      "execution_count": null,
      "outputs": [
        {
          "output_type": "stream",
          "name": "stdout",
          "text": [
            "[('English',), ('Science',), ('Math',)]\n"
          ]
        }
      ]
    },
    {
      "cell_type": "code",
      "source": [
        "from sqlalchemy import select, func\n",
        "\n",
        "# Count number of students per (Major, Pass) combination\n",
        "query = select(\n",
        "    Student.columns.Major,\n",
        "    Student.columns.Pass,\n",
        "    func.count(Student.columns.Id)\n",
        ").group_by(\n",
        "    Student.columns.Major,\n",
        "    Student.columns.Pass\n",
        ")\n",
        "\n",
        "# Execute and print result\n",
        "result = conn.execute(query).fetchall()\n",
        "print(result)\n"
      ],
      "metadata": {
        "id": "RVi3m7DfyJ70"
      },
      "execution_count": null,
      "outputs": []
    },
    {
      "cell_type": "code",
      "source": [
        "from sqlalchemy import select, func\n",
        "\n",
        "# Build the full query\n",
        "query = (\n",
        "    select(\n",
        "        Student.columns.Major,\n",
        "        func.count(Student.columns.Id).label(\"student_count\")\n",
        "    )\n",
        "    .where(Student.columns.Pass == True)  # WHERE Pass = True\n",
        "    .group_by(Student.columns.Major)      # GROUP BY Major\n",
        "    .having(func.count(Student.columns.Id) > 1)  # HAVING COUNT(Id) > 1\n",
        ")\n",
        "\n",
        "# Execute the query\n",
        "result = conn.execute(query).fetchall()\n",
        "\n",
        "# Print the results\n",
        "print(result)\n"
      ],
      "metadata": {
        "id": "KLhjSjquyBgp"
      },
      "execution_count": null,
      "outputs": []
    },
    {
      "cell_type": "code",
      "source": [
        "from sqlalchemy.sql import text\n",
        "\n",
        "# Define the full SQL query as a string\n",
        "query = text(\"\"\"\n",
        "    SELECT Major, COUNT(Id) AS student_count\n",
        "    FROM Student\n",
        "    WHERE Pass = 1\n",
        "    GROUP BY Major\n",
        "    HAVING COUNT(Id) > 1\n",
        "\"\"\")\n",
        "\n",
        "# Execute the query\n",
        "result = conn.execute(query).fetchall()\n",
        "\n",
        "# Print the result\n",
        "print(result)\n"
      ],
      "metadata": {
        "id": "a0A8Y_9_yXqR"
      },
      "execution_count": null,
      "outputs": []
    },
    {
      "cell_type": "code",
      "source": [],
      "metadata": {
        "id": "iPiYWuNY3aiL"
      },
      "execution_count": null,
      "outputs": []
    },
    {
      "cell_type": "code",
      "source": [
        "import pandas as pd\n",
        "\n",
        "# Query students with English or Math major\n",
        "query = Student.select().where(Student.columns.Major.in_(['English', 'Math']))\n",
        "output = conn.execute(query)\n",
        "\n",
        "# Fetch results and convert to DataFrame\n",
        "results = output.fetchall()\n",
        "df = pd.DataFrame(results)\n",
        "\n",
        "# Assign column names from the query output\n",
        "df.columns = output.keys()\n",
        "\n",
        "# Display the DataFrame\n",
        "print(df)\n"
      ],
      "metadata": {
        "id": "G5n2zE8v3Xs2"
      },
      "execution_count": null,
      "outputs": []
    },
    {
      "cell_type": "code",
      "source": [
        "df = pd.read_sql(query, conn)\n",
        "print(df)\n"
      ],
      "metadata": {
        "id": "qH6Z3x673hs4"
      },
      "execution_count": null,
      "outputs": []
    }
  ]
}
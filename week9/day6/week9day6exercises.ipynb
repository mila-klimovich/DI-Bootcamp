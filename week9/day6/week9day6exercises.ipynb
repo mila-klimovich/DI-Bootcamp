{
  "nbformat": 4,
  "nbformat_minor": 0,
  "metadata": {
    "colab": {
      "provenance": []
    },
    "kernelspec": {
      "name": "python3",
      "display_name": "Python 3"
    },
    "language_info": {
      "name": "python"
    }
  },
  "cells": [
    {
      "cell_type": "code",
      "execution_count": 5,
      "metadata": {
        "colab": {
          "base_uri": "https://localhost:8080/"
        },
        "id": "k1sDgSk1KIfJ",
        "outputId": "9966de7f-c8a0-4a9d-8d80-1d8c0372c733"
      },
      "outputs": [
        {
          "output_type": "stream",
          "name": "stdout",
          "text": [
            "--2025-06-01 20:25:48--  https://github.com/lerocha/chinook-database/raw/master/ChinookDatabase/DataSources/Chinook_Sqlite.sqlite\n",
            "Resolving github.com (github.com)... 140.82.113.4\n",
            "Connecting to github.com (github.com)|140.82.113.4|:443... connected.\n",
            "HTTP request sent, awaiting response... 302 Found\n",
            "Location: https://raw.githubusercontent.com/lerocha/chinook-database/master/ChinookDatabase/DataSources/Chinook_Sqlite.sqlite [following]\n",
            "--2025-06-01 20:25:48--  https://raw.githubusercontent.com/lerocha/chinook-database/master/ChinookDatabase/DataSources/Chinook_Sqlite.sqlite\n",
            "Resolving raw.githubusercontent.com (raw.githubusercontent.com)... 185.199.108.133, 185.199.109.133, 185.199.110.133, ...\n",
            "Connecting to raw.githubusercontent.com (raw.githubusercontent.com)|185.199.108.133|:443... connected.\n",
            "HTTP request sent, awaiting response... 200 OK\n",
            "Length: 1067008 (1.0M) [application/octet-stream]\n",
            "Saving to: ‘chinook.db’\n",
            "\n",
            "chinook.db          100%[===================>]   1.02M  --.-KB/s    in 0.06s   \n",
            "\n",
            "2025-06-01 20:25:48 (15.8 MB/s) - ‘chinook.db’ saved [1067008/1067008]\n",
            "\n",
            "✅ chinook.db is ready!\n"
          ]
        }
      ],
      "source": [
        "# Download Chinook SQLite DB from GitHub\n",
        "!wget https://github.com/lerocha/chinook-database/raw/master/ChinookDatabase/DataSources/Chinook_Sqlite.sqlite -O chinook.db\n",
        "\n",
        "# Confirm it's downloaded\n",
        "import os\n",
        "assert os.path.exists('chinook.db')\n",
        "print(\"✅ chinook.db is ready!\")"
      ]
    },
    {
      "cell_type": "code",
      "source": [
        "### useful: functions for displaying results from sql queries using pandas\n",
        "from IPython.display import display\n",
        "import pandas as pd\n",
        "\n",
        "def sql(query):\n",
        "    print()\n",
        "    print(query)\n",
        "    print()\n",
        "\n",
        "def get_results(query):\n",
        "    global engine\n",
        "    q = query.statement if isinstance(query, sqlalchemy.orm.query.Query) else query\n",
        "    return pd.read_sql(q, engine)\n",
        "\n",
        "def display_results(query):\n",
        "    df = get_results(query)\n",
        "    display(df)\n",
        "    sql(query)\n"
      ],
      "metadata": {
        "id": "v6BiGehdLBdi"
      },
      "execution_count": 6,
      "outputs": []
    },
    {
      "cell_type": "code",
      "source": [
        "# Step 1: Import necessary modules\n",
        "import sqlalchemy\n",
        "from sqlalchemy.ext.automap import automap_base\n",
        "from sqlalchemy.orm import sessionmaker"
      ],
      "metadata": {
        "id": "sqyTLt9JLqn4"
      },
      "execution_count": 7,
      "outputs": []
    },
    {
      "cell_type": "code",
      "source": [
        "# Step 2: Create engine to connect to the chinook.db file\n",
        "engine = sqlalchemy.create_engine('sqlite:///chinook.db')"
      ],
      "metadata": {
        "id": "gCZLhOA4Lrif"
      },
      "execution_count": 8,
      "outputs": []
    },
    {
      "cell_type": "code",
      "source": [
        "# Step 3: Connect to the database and assign the connection to cur\n",
        "cur = engine.connect()"
      ],
      "metadata": {
        "id": "J-NeKqpYLrle"
      },
      "execution_count": 9,
      "outputs": []
    },
    {
      "cell_type": "code",
      "source": [
        "### useful: extract classes from the chinook database\n",
        "metadata = sqlalchemy.MetaData()\n",
        "metadata.reflect(engine)\n",
        "\n",
        "## we need to do this once\n",
        "from sqlalchemy.ext.automap import automap_base\n",
        "\n",
        "# produce a set of mappings from this MetaData.\n",
        "Base = automap_base(metadata=metadata)\n",
        "\n",
        "# calling prepare() just sets up mapped classes and relationships.\n",
        "Base.prepare()\n",
        "\n",
        "# also prepare an orm session\n",
        "from sqlalchemy.orm import sessionmaker\n",
        "Session = sessionmaker(bind=engine)\n",
        "session = Session()"
      ],
      "metadata": {
        "id": "BREbqJrzL_T-"
      },
      "execution_count": 10,
      "outputs": []
    },
    {
      "cell_type": "code",
      "source": [
        "# Print all table names in the database\n",
        "print(metadata.tables.keys())"
      ],
      "metadata": {
        "colab": {
          "base_uri": "https://localhost:8080/"
        },
        "id": "CYzeaTP9L_YW",
        "outputId": "587e3545-380f-4db6-843f-532854466674"
      },
      "execution_count": 11,
      "outputs": [
        {
          "output_type": "stream",
          "name": "stdout",
          "text": [
            "dict_keys(['Album', 'Artist', 'Customer', 'Employee', 'Genre', 'Invoice', 'InvoiceLine', 'Track', 'MediaType', 'Playlist', 'PlaylistTrack'])\n"
          ]
        }
      ]
    },
    {
      "cell_type": "code",
      "source": [
        "# Access the Track class\n",
        "Track = Base.classes.Track\n",
        "\n",
        "# Query the first 3 tracks\n",
        "tracks = session.query(Track).limit(3).all()\n",
        "\n",
        "# Print track names\n",
        "for t in tracks:\n",
        "    print(t.Name)"
      ],
      "metadata": {
        "colab": {
          "base_uri": "https://localhost:8080/"
        },
        "id": "Uap3u8jbL_ag",
        "outputId": "ad3248ad-3fef-4919-a7c9-898e84ead08c"
      },
      "execution_count": 12,
      "outputs": [
        {
          "output_type": "stream",
          "name": "stdout",
          "text": [
            "For Those About To Rock (We Salute You)\n",
            "Balls to the Wall\n",
            "Fast As a Shark\n"
          ]
        }
      ]
    },
    {
      "cell_type": "code",
      "source": [
        "# Access related tables\n",
        "Album = Base.classes.Album\n",
        "Track = Base.classes.Track\n",
        "\n",
        "# Join Track and Album tables\n",
        "results = session.query(Track.Name, Album.Title).join(Album).limit(20).all()\n",
        "\n",
        "# Print track names and their album titles\n",
        "for name, title in results:\n",
        "    print(f\"{name} — {title}\")"
      ],
      "metadata": {
        "colab": {
          "base_uri": "https://localhost:8080/"
        },
        "id": "tWl_nL7iMZyn",
        "outputId": "f942d1a1-64c8-4e1c-c374-46f83b751342"
      },
      "execution_count": 13,
      "outputs": [
        {
          "output_type": "stream",
          "name": "stdout",
          "text": [
            "For Those About To Rock (We Salute You) — For Those About To Rock We Salute You\n",
            "Balls to the Wall — Balls to the Wall\n",
            "Fast As a Shark — Restless and Wild\n",
            "Restless and Wild — Restless and Wild\n",
            "Princess of the Dawn — Restless and Wild\n",
            "Put The Finger On You — For Those About To Rock We Salute You\n",
            "Let's Get It Up — For Those About To Rock We Salute You\n",
            "Inject The Venom — For Those About To Rock We Salute You\n",
            "Snowballed — For Those About To Rock We Salute You\n",
            "Evil Walks — For Those About To Rock We Salute You\n",
            "C.O.D. — For Those About To Rock We Salute You\n",
            "Breaking The Rules — For Those About To Rock We Salute You\n",
            "Night Of The Long Knives — For Those About To Rock We Salute You\n",
            "Spellbound — For Those About To Rock We Salute You\n",
            "Go Down — Let There Be Rock\n",
            "Dog Eat Dog — Let There Be Rock\n",
            "Let There Be Rock — Let There Be Rock\n",
            "Bad Boy Boogie — Let There Be Rock\n",
            "Problem Child — Let There Be Rock\n",
            "Overdose — Let There Be Rock\n"
          ]
        }
      ]
    },
    {
      "cell_type": "code",
      "source": [
        "# Access InvoiceItem and Track\n",
        "InvoiceItem = Base.classes.InvoiceLine  # sometimes called InvoiceLine in Chinook\n",
        "Track = Base.classes.Track\n",
        "\n",
        "# Join InvoiceLine with Track to get names and quantity\n",
        "results = session.query(Track.Name, InvoiceItem.Quantity)\\\n",
        "    .join(Track, Track.TrackId == InvoiceItem.TrackId)\\\n",
        "    .limit(10).all()\n",
        "\n",
        "# Display results\n",
        "for name, qty in results:\n",
        "    print(f\"{name} — Quantity Sold: {qty}\")"
      ],
      "metadata": {
        "colab": {
          "base_uri": "https://localhost:8080/"
        },
        "id": "Cyichm5-MZ2W",
        "outputId": "cf592788-ee38-42bd-e11e-c506983db314"
      },
      "execution_count": 14,
      "outputs": [
        {
          "output_type": "stream",
          "name": "stdout",
          "text": [
            "Balls to the Wall — Quantity Sold: 1\n",
            "Restless and Wild — Quantity Sold: 1\n",
            "Put The Finger On You — Quantity Sold: 1\n",
            "Inject The Venom — Quantity Sold: 1\n",
            "Evil Walks — Quantity Sold: 1\n",
            "Breaking The Rules — Quantity Sold: 1\n",
            "Dog Eat Dog — Quantity Sold: 1\n",
            "Overdose — Quantity Sold: 1\n",
            "Love In An Elevator — Quantity Sold: 1\n",
            "Janie's Got A Gun — Quantity Sold: 1\n"
          ]
        }
      ]
    },
    {
      "cell_type": "code",
      "source": [
        "# Group by TrackId, count total quantity sold, join with Track to get name\n",
        "from sqlalchemy import func\n",
        "\n",
        "results = session.query(Track.Name, func.sum(InvoiceItem.Quantity).label('total_sold'))\\\n",
        "    .join(InvoiceItem, Track.TrackId == InvoiceItem.TrackId)\\\n",
        "    .group_by(Track.TrackId)\\\n",
        "    .order_by(func.sum(InvoiceItem.Quantity).desc())\\\n",
        "    .limit(10).all()\n",
        "\n",
        "# Print top 10\n",
        "for name, total in results:\n",
        "    print(f\"{name} — Sold: {total}\")"
      ],
      "metadata": {
        "colab": {
          "base_uri": "https://localhost:8080/"
        },
        "id": "X1j_9Q_lMZ5r",
        "outputId": "f1d4f867-a06d-4d5e-cdd7-3d962b144ab2"
      },
      "execution_count": 15,
      "outputs": [
        {
          "output_type": "stream",
          "name": "stdout",
          "text": [
            "Balls to the Wall — Sold: 2\n",
            "Inject The Venom — Sold: 2\n",
            "Snowballed — Sold: 2\n",
            "Overdose — Sold: 2\n",
            "Deuces Are Wild — Sold: 2\n",
            "Not The Doctor — Sold: 2\n",
            "Por Causa De Você — Sold: 2\n",
            "Welcome Home (Sanitarium) — Sold: 2\n",
            "Snowblind — Sold: 2\n",
            "Cornucopia — Sold: 2\n"
          ]
        }
      ]
    },
    {
      "cell_type": "code",
      "source": [
        "# Access needed tables\n",
        "Artist = Base.classes.Artist\n",
        "Album = Base.classes.Album\n",
        "Track = Base.classes.Track\n",
        "InvoiceItem = Base.classes.InvoiceLine\n",
        "\n",
        "# Join all needed tables to aggregate total sales per artist\n",
        "results = session.query(Artist.Name, func.sum(InvoiceItem.Quantity).label(\"total_sold\"))\\\n",
        "    .join(Album, Artist.ArtistId == Album.ArtistId)\\\n",
        "    .join(Track, Album.AlbumId == Track.AlbumId)\\\n",
        "    .join(InvoiceItem, Track.TrackId == InvoiceItem.TrackId)\\\n",
        "    .group_by(Artist.ArtistId)\\\n",
        "    .order_by(func.sum(InvoiceItem.Quantity).desc())\\\n",
        "    .limit(10).all()\n",
        "\n",
        "# Print top 10 artists by sales\n",
        "for name, total in results:\n",
        "    print(f\"{name} — Sold: {total}\")"
      ],
      "metadata": {
        "colab": {
          "base_uri": "https://localhost:8080/"
        },
        "id": "1-RgXkCbL_dw",
        "outputId": "e206c5d1-7980-49a7-93e3-ce52e7d9149c"
      },
      "execution_count": 16,
      "outputs": [
        {
          "output_type": "stream",
          "name": "stdout",
          "text": [
            "Iron Maiden — Sold: 140\n",
            "U2 — Sold: 107\n",
            "Metallica — Sold: 91\n",
            "Led Zeppelin — Sold: 87\n",
            "Os Paralamas Do Sucesso — Sold: 45\n",
            "Deep Purple — Sold: 44\n",
            "Faith No More — Sold: 42\n",
            "Lost — Sold: 41\n",
            "Eric Clapton — Sold: 40\n",
            "R.E.M. — Sold: 39\n"
          ]
        }
      ]
    }
  ]
}
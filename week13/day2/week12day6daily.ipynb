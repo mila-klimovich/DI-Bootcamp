{
  "nbformat": 4,
  "nbformat_minor": 0,
  "metadata": {
    "colab": {
      "provenance": []
    },
    "kernelspec": {
      "name": "python3",
      "display_name": "Python 3"
    },
    "language_info": {
      "name": "python"
    }
  },
  "cells": [
    {
      "cell_type": "code",
      "execution_count": 1,
      "metadata": {
        "id": "RYf5FUIJqOa4"
      },
      "outputs": [],
      "source": [
        "from openpyxl import Workbook\n",
        "from openpyxl.styles import Font, PatternFill\n",
        "\n",
        "# Student grade data\n",
        "data = {\n",
        "    \"Joe\": {\"math\": 65, \"science\": 78, \"english\": 98, \"gym\": 89},\n",
        "    \"Bill\": {\"math\": 55, \"science\": 72, \"english\": 87, \"gym\": 95},\n",
        "    \"Tim\": {\"math\": 100, \"science\": 45, \"english\": 75, \"gym\": 92},\n",
        "    \"Sally\": {\"math\": 30, \"science\": 25, \"english\": 45, \"gym\": 100},\n",
        "    \"Jane\": {\"math\": 100, \"science\": 100, \"english\": 100, \"gym\": 60}\n",
        "}\n",
        "\n",
        "subjects = [\"math\", \"science\", \"english\", \"gym\"]\n",
        "\n",
        "# Create a new workbook and select the active sheet\n",
        "wb = Workbook()\n",
        "ws = wb.active\n",
        "ws.title = \"Grades\"\n",
        "\n",
        "# Create the header row\n",
        "headers = [\"Student\"] + [subject.capitalize() for subject in subjects]\n",
        "ws.append(headers)\n",
        "\n",
        "# Apply bold font and background color to header\n",
        "header_font = Font(bold=True, color=\"FFFFFF\")\n",
        "header_fill = PatternFill(start_color=\"4F81BD\", end_color=\"4F81BD\", fill_type=\"solid\")\n",
        "\n",
        "for col in range(1, len(headers) + 1):\n",
        "    cell = ws.cell(row=1, column=col)\n",
        "    cell.font = header_font\n",
        "    cell.fill = header_fill\n",
        "\n",
        "# Add student data row by row\n",
        "for student, grades in data.items():\n",
        "    row = [student] + [grades[subject] for subject in subjects]\n",
        "    ws.append(row)\n",
        "\n",
        "# Add average formula for each subject column\n",
        "num_students = len(data)\n",
        "for col in range(2, 6):  # Columns B to E\n",
        "    col_letter = chr(64 + col)\n",
        "    formula = f\"=AVERAGE({col_letter}2:{col_letter}{1 + num_students})\"\n",
        "    ws.cell(row=num_students + 2, column=col, value=formula)\n",
        "\n",
        "# Save the workbook\n",
        "wb.save(\"Grades.xlsx\")\n"
      ]
    }
  ]
}
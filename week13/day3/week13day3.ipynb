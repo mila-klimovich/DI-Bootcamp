{
  "nbformat": 4,
  "nbformat_minor": 0,
  "metadata": {
    "colab": {
      "provenance": []
    },
    "kernelspec": {
      "name": "python3",
      "display_name": "Python 3"
    },
    "language_info": {
      "name": "python"
    }
  },
  "cells": [
    {
      "cell_type": "code",
      "execution_count": null,
      "metadata": {
        "colab": {
          "base_uri": "https://localhost:8080/"
        },
        "id": "As2TnpvGQPBA",
        "outputId": "06332df4-64ac-47cb-9cf5-15e902fd45da"
      },
      "outputs": [
        {
          "output_type": "stream",
          "name": "stdout",
          "text": [
            "Requirement already satisfied: beautifulsoup4 in /usr/local/lib/python3.11/dist-packages (4.13.4)\n",
            "Requirement already satisfied: soupsieve>1.2 in /usr/local/lib/python3.11/dist-packages (from beautifulsoup4) (2.7)\n",
            "Requirement already satisfied: typing-extensions>=4.0.0 in /usr/local/lib/python3.11/dist-packages (from beautifulsoup4) (4.14.0)\n"
          ]
        }
      ],
      "source": [
        "!pip install beautifulsoup4\n"
      ]
    },
    {
      "cell_type": "code",
      "source": [
        "from bs4 import BeautifulSoup\n",
        "with open('index.html', 'r') as file:\n",
        "  html_contact = file.read()\n",
        "soup = BeautifulSoup(html_contact, 'html.parser')\n",
        "print(soup.prettify)"
      ],
      "metadata": {
        "colab": {
          "base_uri": "https://localhost:8080/"
        },
        "id": "BxPO6C3l_m1K",
        "outputId": "2ee3fb3d-0306-4ab5-a926-f804a05c96a9"
      },
      "execution_count": null,
      "outputs": [
        {
          "output_type": "stream",
          "name": "stdout",
          "text": [
            "<bound method Tag.prettify of <!DOCTYPE html>\n",
            "\n",
            "<html>\n",
            "<head>\n",
            "<title>Sample Page</title>\n",
            "</head>\n",
            "<body>\n",
            "<!-- Header -->\n",
            "<header>\n",
            "<h1>Welcome to My Website</h1>\n",
            "</header>\n",
            "<!-- Navigation -->\n",
            "<nav>\n",
            "<ul>\n",
            "<li><a href=\"#home\">Home</a></li>\n",
            "<li><a href=\"#about\">About</a></li>\n",
            "<li><a href=\"#contact\">Contact</a></li>\n",
            "</ul>\n",
            "</nav>\n",
            "<!-- Main Section -->\n",
            "<section id=\"home\">\n",
            "<h2>Home Section</h2>\n",
            "<img alt=\"Descriptive Text\" height=\"400\" src=\"path_to_image.jpg\" width=\"500\"/>\n",
            "<input name=\"username\" type=\"text\"/>\n",
            "<input name=\"password\" type=\"password\"/>\n",
            "<input name=\"email\" type=\"email\"/>\n",
            "<input max=\"5\" min=\"1\" name=\"quantity\" type=\"number\"/>\n",
            "<input name=\"gender\" type=\"radio\" value=\"male\"/> Male\n",
            "        <input name=\"gender\" type=\"radio\" value=\"female\"/> Female\n",
            "        <input name=\"document\" type=\"file\"/>\n",
            "<input type=\"submit\" value=\"Submit\"/>\n",
            "<input type=\"reset\" value=\"Reset\"/>\n",
            "<input max=\"10\" min=\"0\" name=\"volume\" type=\"range\"/>\n",
            "<input name=\"favorite_color\" type=\"color\"/>\n",
            "<input name=\"user_id\" type=\"hidden\" value=\"12345\"/>\n",
            "<input onclick=\"alert('Hello!')\" type=\"button\" value=\"Click Me\"/>\n",
            "<p>This section contains information about the homepage.</p>\n",
            "</section>\n",
            "<!-- Article -->\n",
            "<article id=\"about\">\n",
            "<h2>About Us</h2>\n",
            "<p>This article contains detailed information about our website and its purpose.</p>\n",
            "</article>\n",
            "<!-- Aside (Sidebar) -->\n",
            "<aside>\n",
            "<h2>Sidebar Content</h2>\n",
            "<p>This is some sidebar content, like related links or advertisements.</p>\n",
            "</aside>\n",
            "<!-- Footer -->\n",
            "<footer>\n",
            "<p>Copyright © 2024 by My Website. All rights reserved.</p>\n",
            "</footer>\n",
            "</body>\n",
            "</html>>\n"
          ]
        }
      ]
    },
    {
      "cell_type": "code",
      "source": [
        "print(soup.html.head.title)"
      ],
      "metadata": {
        "colab": {
          "base_uri": "https://localhost:8080/"
        },
        "id": "0H4JWX2jAScQ",
        "outputId": "680fc7cb-0de4-4ce0-a8d6-d0397d67926a"
      },
      "execution_count": null,
      "outputs": [
        {
          "output_type": "stream",
          "name": "stdout",
          "text": [
            "<title>Sample Page</title>\n"
          ]
        }
      ]
    },
    {
      "cell_type": "code",
      "source": [
        "print(soup.html.title.get_text())"
      ],
      "metadata": {
        "colab": {
          "base_uri": "https://localhost:8080/"
        },
        "id": "AjR4jEGmAS0Z",
        "outputId": "246f734d-cad3-4a26-f05a-c3e1aee5ab08"
      },
      "execution_count": null,
      "outputs": [
        {
          "output_type": "stream",
          "name": "stdout",
          "text": [
            "Sample Page\n"
          ]
        }
      ]
    },
    {
      "cell_type": "code",
      "source": [
        "soup.h1.get_text()"
      ],
      "metadata": {
        "colab": {
          "base_uri": "https://localhost:8080/",
          "height": 36
        },
        "id": "t9lfN71sAus_",
        "outputId": "71250004-ebf9-4930-b377-42b3273a3c9d"
      },
      "execution_count": null,
      "outputs": [
        {
          "output_type": "execute_result",
          "data": {
            "text/plain": [
              "'Welcome to My Website'"
            ],
            "application/vnd.google.colaboratory.intrinsic+json": {
              "type": "string"
            }
          },
          "metadata": {},
          "execution_count": 6
        }
      ]
    },
    {
      "cell_type": "code",
      "source": [
        "soup.find_all('input')"
      ],
      "metadata": {
        "colab": {
          "base_uri": "https://localhost:8080/"
        },
        "id": "1Qpb3e7KA6mA",
        "outputId": "5758e4b3-483f-4735-b470-328eac509fc1"
      },
      "execution_count": null,
      "outputs": [
        {
          "output_type": "execute_result",
          "data": {
            "text/plain": [
              "[<input name=\"username\" type=\"text\"/>,\n",
              " <input name=\"password\" type=\"password\"/>,\n",
              " <input name=\"email\" type=\"email\"/>,\n",
              " <input max=\"5\" min=\"1\" name=\"quantity\" type=\"number\"/>,\n",
              " <input name=\"gender\" type=\"radio\" value=\"male\"/>,\n",
              " <input name=\"gender\" type=\"radio\" value=\"female\"/>,\n",
              " <input name=\"document\" type=\"file\"/>,\n",
              " <input type=\"submit\" value=\"Submit\"/>,\n",
              " <input type=\"reset\" value=\"Reset\"/>,\n",
              " <input max=\"10\" min=\"0\" name=\"volume\" type=\"range\"/>,\n",
              " <input name=\"favorite_color\" type=\"color\"/>,\n",
              " <input name=\"user_id\" type=\"hidden\" value=\"12345\"/>,\n",
              " <input onclick=\"alert('Hello!')\" type=\"button\" value=\"Click Me\"/>]"
            ]
          },
          "metadata": {},
          "execution_count": 7
        }
      ]
    },
    {
      "cell_type": "code",
      "source": [
        "soup.find_all('input', type='radio')[0]"
      ],
      "metadata": {
        "colab": {
          "base_uri": "https://localhost:8080/"
        },
        "id": "aZ1OdyjLAuwx",
        "outputId": "ee143afc-c092-46b5-f980-eebcb1f66878"
      },
      "execution_count": null,
      "outputs": [
        {
          "output_type": "execute_result",
          "data": {
            "text/plain": [
              "<input name=\"gender\" type=\"radio\" value=\"male\"/>"
            ]
          },
          "metadata": {},
          "execution_count": 9
        }
      ]
    },
    {
      "cell_type": "code",
      "source": [
        "soup.find_all('input', type='password')[0].parent"
      ],
      "metadata": {
        "colab": {
          "base_uri": "https://localhost:8080/"
        },
        "id": "pt9a-PZ9BMzN",
        "outputId": "3395316c-10e1-4fc7-c594-0688f5f510e2"
      },
      "execution_count": null,
      "outputs": [
        {
          "output_type": "execute_result",
          "data": {
            "text/plain": [
              "<section id=\"home\">\n",
              "<h2>Home Section</h2>\n",
              "<img alt=\"Descriptive Text\" height=\"400\" src=\"path_to_image.jpg\" width=\"500\"/>\n",
              "<input name=\"username\" type=\"text\"/>\n",
              "<input name=\"password\" type=\"password\"/>\n",
              "<input name=\"email\" type=\"email\"/>\n",
              "<input max=\"5\" min=\"1\" name=\"quantity\" type=\"number\"/>\n",
              "<input name=\"gender\" type=\"radio\" value=\"male\"/> Male\n",
              "        <input name=\"gender\" type=\"radio\" value=\"female\"/> Female\n",
              "        <input name=\"document\" type=\"file\"/>\n",
              "<input type=\"submit\" value=\"Submit\"/>\n",
              "<input type=\"reset\" value=\"Reset\"/>\n",
              "<input max=\"10\" min=\"0\" name=\"volume\" type=\"range\"/>\n",
              "<input name=\"favorite_color\" type=\"color\"/>\n",
              "<input name=\"user_id\" type=\"hidden\" value=\"12345\"/>\n",
              "<input onclick=\"alert('Hello!')\" type=\"button\" value=\"Click Me\"/>\n",
              "<p>This section contains information about the homepage.</p>\n",
              "</section>"
            ]
          },
          "metadata": {},
          "execution_count": 10
        }
      ]
    },
    {
      "cell_type": "code",
      "source": [],
      "metadata": {
        "id": "O2WEoBshBMwQ"
      },
      "execution_count": null,
      "outputs": []
    },
    {
      "cell_type": "code",
      "source": [],
      "metadata": {
        "id": "A7M6U1DqBMtK"
      },
      "execution_count": null,
      "outputs": []
    },
    {
      "cell_type": "code",
      "source": [],
      "metadata": {
        "id": "7pFHFitfBMpR"
      },
      "execution_count": null,
      "outputs": []
    },
    {
      "cell_type": "code",
      "source": [],
      "metadata": {
        "id": "vyodcxbHBMkp"
      },
      "execution_count": null,
      "outputs": []
    },
    {
      "cell_type": "code",
      "source": [],
      "metadata": {
        "id": "2xUJofw0Au09"
      },
      "execution_count": null,
      "outputs": []
    },
    {
      "cell_type": "code",
      "source": [
        "html = \"\"\"\n",
        "<html>\n",
        "   <head>\n",
        "       <title>2020 Oscar nominees and winners</title>\n",
        "   </head>\n",
        "   <body>\n",
        "       <h1>Oscars 2020</h1>\n",
        "       <p>The biggest cinema awards ceremony took place in February. This year's highlights were:</p>\n",
        "       <ul class=\"highlights\">\n",
        "           <li>Joker</li>\n",
        "           <li>1917</li>\n",
        "           <li>Once Upon a Time in Hollywood</li>\n",
        "           <li>The Irishman</li>\n",
        "       </ul>\n",
        "       <p>See the winners of 3 categories below.</p>\n",
        "       <div>\n",
        "           <div class=\"best-film-category\">\n",
        "               <h2>Category: best film</h2>\n",
        "               <ul>\n",
        "                   <li>Ford vs Ferrari</li>\n",
        "                   <li>The Irishman</li>\n",
        "                   <li>JoJo Rabbit</li>\n",
        "                   <li>Joker</li>\n",
        "                   <li>Little Women</li>\n",
        "                   <li>Marriage Story</li>\n",
        "                   <li>1917</li>\n",
        "                   <li>Once Upon a Time in Hollywood</li>\n",
        "                   <li class=\"winner\">Parasite <strong>[WINNER]</strong></li>\n",
        "               </ul>\n",
        "           </div>\n",
        "           <br>\n",
        "           <div class=\"best-actor-category\">\n",
        "               <h2>Category: best actor</h2>\n",
        "               <ul>\n",
        "                   <li>Antonio Banderas - Pain and Glory</li>\n",
        "                   <li>Leonardo DiCaprio - Once Upon a Time In... Hollywood</li>\n",
        "                   <li>Adam Driver - Marriage Story</li>\n",
        "                   <li class=\"winner\">Joaquin Phoenix - Joker <strong>[WINNER]</strong></li>\n",
        "                   <li>Jonathan Price - The Two Popes</li>\n",
        "               </ul>\n",
        "           </div>\n",
        "           <br>\n",
        "           <div class=\"best-actress-category\">\n",
        "               <h2>Category: best actress</h2>\n",
        "               <ul>\n",
        "                   <li>Cythia Erivo - Harriet</li>\n",
        "                   <li>Scarlett Johansson - Marriage Story</li>\n",
        "                   <li>Saoirse Ronan - Little Women</li>\n",
        "                   <li>Charlize Theron - The Scandal</li>\n",
        "                   <li class=\"winner\">Renée Zellweger - Judy: Far Over the Rainbow <strong>[WINNER]</strong></li>\n",
        "               </ul>\n",
        "           </div>\n",
        "       </div>\n",
        "   </body>\n",
        "</html>\n",
        "\"\"\"\n"
      ],
      "metadata": {
        "id": "gYah1zvlQTN7"
      },
      "execution_count": null,
      "outputs": []
    },
    {
      "cell_type": "code",
      "source": [
        "from bs4 import BeautifulSoup\n",
        "\n",
        "soup = BeautifulSoup(html, 'html.parser')\n"
      ],
      "metadata": {
        "id": "P6DOpmm8QZCe"
      },
      "execution_count": null,
      "outputs": []
    },
    {
      "cell_type": "code",
      "source": [
        "print(type(soup))  # <class 'bs4.BeautifulSoup'>\n"
      ],
      "metadata": {
        "colab": {
          "base_uri": "https://localhost:8080/"
        },
        "id": "hBhOiLnxQb0j",
        "outputId": "f3d82814-099c-4c4e-bd4a-2fe11184a004"
      },
      "execution_count": null,
      "outputs": [
        {
          "output_type": "stream",
          "name": "stdout",
          "text": [
            "<class 'bs4.BeautifulSoup'>\n"
          ]
        }
      ]
    },
    {
      "cell_type": "code",
      "source": [
        "print(soup.prettify())\n"
      ],
      "metadata": {
        "colab": {
          "base_uri": "https://localhost:8080/"
        },
        "id": "bjLThNbqQgu2",
        "outputId": "398db126-f19e-455b-cedf-382cc2f4f2ba"
      },
      "execution_count": null,
      "outputs": [
        {
          "output_type": "stream",
          "name": "stdout",
          "text": [
            "<html>\n",
            " <head>\n",
            "  <title>\n",
            "   2020 Oscar nominees and winners\n",
            "  </title>\n",
            " </head>\n",
            " <body>\n",
            "  <h1>\n",
            "   Oscars 2020\n",
            "  </h1>\n",
            "  <p>\n",
            "   The biggest cinema awards ceremony took place in February. This year's highlights were:\n",
            "  </p>\n",
            "  <ul class=\"highlights\">\n",
            "   <li>\n",
            "    Joker\n",
            "   </li>\n",
            "   <li>\n",
            "    1917\n",
            "   </li>\n",
            "   <li>\n",
            "    Once Upon a Time in Hollywood\n",
            "   </li>\n",
            "   <li>\n",
            "    The Irishman\n",
            "   </li>\n",
            "  </ul>\n",
            "  <p>\n",
            "   See the winners of 3 categories below.\n",
            "  </p>\n",
            "  <div>\n",
            "   <div class=\"best-film-category\">\n",
            "    <h2>\n",
            "     Category: best film\n",
            "    </h2>\n",
            "    <ul>\n",
            "     <li>\n",
            "      Ford vs Ferrari\n",
            "     </li>\n",
            "     <li>\n",
            "      The Irishman\n",
            "     </li>\n",
            "     <li>\n",
            "      JoJo Rabbit\n",
            "     </li>\n",
            "     <li>\n",
            "      Joker\n",
            "     </li>\n",
            "     <li>\n",
            "      Little Women\n",
            "     </li>\n",
            "     <li>\n",
            "      Marriage Story\n",
            "     </li>\n",
            "     <li>\n",
            "      1917\n",
            "     </li>\n",
            "     <li>\n",
            "      Once Upon a Time in Hollywood\n",
            "     </li>\n",
            "     <li class=\"winner\">\n",
            "      Parasite\n",
            "      <strong>\n",
            "       [WINNER]\n",
            "      </strong>\n",
            "     </li>\n",
            "    </ul>\n",
            "   </div>\n",
            "   <br/>\n",
            "   <div class=\"best-actor-category\">\n",
            "    <h2>\n",
            "     Category: best actor\n",
            "    </h2>\n",
            "    <ul>\n",
            "     <li>\n",
            "      Antonio Banderas - Pain and Glory\n",
            "     </li>\n",
            "     <li>\n",
            "      Leonardo DiCaprio - Once Upon a Time In... Hollywood\n",
            "     </li>\n",
            "     <li>\n",
            "      Adam Driver - Marriage Story\n",
            "     </li>\n",
            "     <li class=\"winner\">\n",
            "      Joaquin Phoenix - Joker\n",
            "      <strong>\n",
            "       [WINNER]\n",
            "      </strong>\n",
            "     </li>\n",
            "     <li>\n",
            "      Jonathan Price - The Two Popes\n",
            "     </li>\n",
            "    </ul>\n",
            "   </div>\n",
            "   <br/>\n",
            "   <div class=\"best-actress-category\">\n",
            "    <h2>\n",
            "     Category: best actress\n",
            "    </h2>\n",
            "    <ul>\n",
            "     <li>\n",
            "      Cythia Erivo - Harriet\n",
            "     </li>\n",
            "     <li>\n",
            "      Scarlett Johansson - Marriage Story\n",
            "     </li>\n",
            "     <li>\n",
            "      Saoirse Ronan - Little Women\n",
            "     </li>\n",
            "     <li>\n",
            "      Charlize Theron - The Scandal\n",
            "     </li>\n",
            "     <li class=\"winner\">\n",
            "      Renée Zellweger - Judy: Far Over the Rainbow\n",
            "      <strong>\n",
            "       [WINNER]\n",
            "      </strong>\n",
            "     </li>\n",
            "    </ul>\n",
            "   </div>\n",
            "  </div>\n",
            " </body>\n",
            "</html>\n",
            "\n"
          ]
        }
      ]
    },
    {
      "cell_type": "code",
      "source": [
        "soup.title              # Full <title> element\n",
        "soup.title.get_text()   # Just the text\n"
      ],
      "metadata": {
        "colab": {
          "base_uri": "https://localhost:8080/",
          "height": 36
        },
        "id": "A8SGtkOrQj1y",
        "outputId": "70203a98-9932-4e93-e72a-1ddb95893548"
      },
      "execution_count": null,
      "outputs": [
        {
          "output_type": "execute_result",
          "data": {
            "text/plain": [
              "'2020 Oscar nominees and winners'"
            ],
            "application/vnd.google.colaboratory.intrinsic+json": {
              "type": "string"
            }
          },
          "metadata": {},
          "execution_count": 15
        }
      ]
    },
    {
      "cell_type": "code",
      "source": [
        "soup.h1                # <h1>Oscars 2020</h1>\n",
        "soup.h1.get_text()     # 'Oscars 2020'\n"
      ],
      "metadata": {
        "colab": {
          "base_uri": "https://localhost:8080/",
          "height": 36
        },
        "id": "pZc6uqrvQnWq",
        "outputId": "daa3a877-5afc-44d0-ddc1-7d221e6f6627"
      },
      "execution_count": null,
      "outputs": [
        {
          "output_type": "execute_result",
          "data": {
            "text/plain": [
              "'Oscars 2020'"
            ],
            "application/vnd.google.colaboratory.intrinsic+json": {
              "type": "string"
            }
          },
          "metadata": {},
          "execution_count": 16
        }
      ]
    },
    {
      "cell_type": "code",
      "source": [
        "soup.find_all('p')"
      ],
      "metadata": {
        "colab": {
          "base_uri": "https://localhost:8080/"
        },
        "id": "8pDZCRIdCuOq",
        "outputId": "b2adb0a1-5dd4-447e-c600-4506a5709139"
      },
      "execution_count": null,
      "outputs": [
        {
          "output_type": "execute_result",
          "data": {
            "text/plain": [
              "[<p>The biggest cinema awards ceremony took place in February. This year's highlights were:</p>,\n",
              " <p>See the winners of 3 categories below.</p>]"
            ]
          },
          "metadata": {},
          "execution_count": 18
        }
      ]
    },
    {
      "cell_type": "code",
      "source": [
        "highlights = soup.find('ul', class_='highlights')\n",
        "items = highlights.find_all('li')\n",
        "\n",
        "for film in items:\n",
        "    print(film.get_text())\n"
      ],
      "metadata": {
        "colab": {
          "base_uri": "https://localhost:8080/"
        },
        "id": "KJrcmTW2QrSh",
        "outputId": "9afdd512-a1f0-4da8-87c0-7242c16d9c57"
      },
      "execution_count": null,
      "outputs": [
        {
          "output_type": "stream",
          "name": "stdout",
          "text": [
            "Joker\n",
            "1917\n",
            "Once Upon a Time in Hollywood\n",
            "The Irishman\n"
          ]
        }
      ]
    },
    {
      "cell_type": "code",
      "source": [
        "film_section = soup.find('div', class_='best-film-category')\n",
        "film_winner = film_section.find('li', class_='winner')\n",
        "print(film_winner.get_text())\n"
      ],
      "metadata": {
        "colab": {
          "base_uri": "https://localhost:8080/"
        },
        "id": "CHSjTaMlQ304",
        "outputId": "cc0df525-d163-41b6-f818-9b401d734b78"
      },
      "execution_count": null,
      "outputs": [
        {
          "output_type": "stream",
          "name": "stdout",
          "text": [
            "Parasite [WINNER]\n"
          ]
        }
      ]
    },
    {
      "cell_type": "code",
      "source": [
        "actor_section = soup.find('div', class_='best-actor-category')\n",
        "actor_winner = actor_section.find('li', class_='winner')\n",
        "print(actor_winner.get_text())\n"
      ],
      "metadata": {
        "colab": {
          "base_uri": "https://localhost:8080/"
        },
        "id": "A8HRIEZzQ6hr",
        "outputId": "7976f228-6731-4d4f-fe19-d94f171c0335"
      },
      "execution_count": null,
      "outputs": [
        {
          "output_type": "stream",
          "name": "stdout",
          "text": [
            "Joaquin Phoenix - Joker [WINNER]\n"
          ]
        }
      ]
    },
    {
      "cell_type": "code",
      "source": [
        "soup.find_all('p', limit=1)"
      ],
      "metadata": {
        "id": "8WrzK_nNdZ1s",
        "colab": {
          "base_uri": "https://localhost:8080/"
        },
        "outputId": "d9c5067a-7b19-4552-991f-818133936cf5"
      },
      "execution_count": null,
      "outputs": [
        {
          "output_type": "execute_result",
          "data": {
            "text/plain": [
              "[<p>The biggest cinema awards ceremony took place in February. This year's highlights were:</p>]"
            ]
          },
          "metadata": {},
          "execution_count": 21
        }
      ]
    },
    {
      "cell_type": "code",
      "source": [
        "soup.p.get_text(\"Joker\")"
      ],
      "metadata": {
        "colab": {
          "base_uri": "https://localhost:8080/",
          "height": 36
        },
        "id": "atx3ekqGdZ6R",
        "outputId": "5aa6e867-7edb-4898-f2df-6a0c57fe6269"
      },
      "execution_count": null,
      "outputs": [
        {
          "output_type": "execute_result",
          "data": {
            "text/plain": [
              "\"The biggest cinema awards ceremony took place in February. This year's highlights were:\""
            ],
            "application/vnd.google.colaboratory.intrinsic+json": {
              "type": "string"
            }
          },
          "metadata": {},
          "execution_count": 23
        }
      ]
    },
    {
      "cell_type": "code",
      "source": [
        "soup.find_all(\"p\")"
      ],
      "metadata": {
        "colab": {
          "base_uri": "https://localhost:8080/"
        },
        "id": "hgJ3xRJrdlx3",
        "outputId": "51ec8794-59f9-4b8e-c354-96fbf1bc1d81"
      },
      "execution_count": null,
      "outputs": [
        {
          "output_type": "execute_result",
          "data": {
            "text/plain": [
              "[<p>The biggest cinema awards ceremony took place in February. This year's highlights were:</p>,\n",
              " <p>See the winners of 3 categories below.</p>]"
            ]
          },
          "metadata": {},
          "execution_count": 24
        }
      ]
    },
    {
      "cell_type": "code",
      "source": [
        "soup.find_all(\"p\")[0]"
      ],
      "metadata": {
        "colab": {
          "base_uri": "https://localhost:8080/"
        },
        "id": "vfuRpuoRdrK0",
        "outputId": "2022d0c8-3146-4e4b-f4d6-dcb8f33999b8"
      },
      "execution_count": null,
      "outputs": [
        {
          "output_type": "execute_result",
          "data": {
            "text/plain": [
              "<p>The biggest cinema awards ceremony took place in February. This year's highlights were:</p>"
            ]
          },
          "metadata": {},
          "execution_count": 25
        }
      ]
    },
    {
      "cell_type": "code",
      "source": [
        "soup.find_all(\"p\")[1].get_text()"
      ],
      "metadata": {
        "colab": {
          "base_uri": "https://localhost:8080/",
          "height": 36
        },
        "id": "MtzVp8nSd3_O",
        "outputId": "72225bc2-6533-4b72-ccb3-f7d7f3445271"
      },
      "execution_count": null,
      "outputs": [
        {
          "output_type": "execute_result",
          "data": {
            "text/plain": [
              "'See the winners of 3 categories below.'"
            ],
            "application/vnd.google.colaboratory.intrinsic+json": {
              "type": "string"
            }
          },
          "metadata": {},
          "execution_count": 26
        }
      ]
    },
    {
      "cell_type": "code",
      "source": [
        "soup.find_all(\"h2\")"
      ],
      "metadata": {
        "colab": {
          "base_uri": "https://localhost:8080/"
        },
        "id": "Qws60xo6d-Dx",
        "outputId": "a68e399a-c78f-45b2-f5f4-35b6a4ba9b8a"
      },
      "execution_count": null,
      "outputs": [
        {
          "output_type": "execute_result",
          "data": {
            "text/plain": [
              "[<h2>Category: best film</h2>,\n",
              " <h2>Category: best actor</h2>,\n",
              " <h2>Category: best actress</h2>]"
            ]
          },
          "metadata": {},
          "execution_count": 27
        }
      ]
    },
    {
      "cell_type": "code",
      "source": [
        "soup.ul.find_all(\"li\")"
      ],
      "metadata": {
        "colab": {
          "base_uri": "https://localhost:8080/"
        },
        "id": "puYjhjVGeDcJ",
        "outputId": "b778a0b9-25d0-41ab-ea08-7484c1b7f339"
      },
      "execution_count": null,
      "outputs": [
        {
          "output_type": "execute_result",
          "data": {
            "text/plain": [
              "[<li>Joker</li>,\n",
              " <li>1917</li>,\n",
              " <li>Once Upon a Time in Hollywood</li>,\n",
              " <li>The Irishman</li>]"
            ]
          },
          "metadata": {},
          "execution_count": 28
        }
      ]
    },
    {
      "cell_type": "code",
      "source": [
        "for film in soup.ul.find_all(\"li\"):\n",
        "    print(film.get_text())"
      ],
      "metadata": {
        "colab": {
          "base_uri": "https://localhost:8080/"
        },
        "id": "msiCU42LeGn0",
        "outputId": "7ca984cd-2714-4af8-a218-41682130e1f0"
      },
      "execution_count": null,
      "outputs": [
        {
          "output_type": "stream",
          "name": "stdout",
          "text": [
            "Joker\n",
            "1917\n",
            "Once Upon a Time in Hollywood\n",
            "The Irishman\n"
          ]
        }
      ]
    },
    {
      "cell_type": "code",
      "source": [
        "soup.find_all('p', limit = 1)"
      ],
      "metadata": {
        "colab": {
          "base_uri": "https://localhost:8080/"
        },
        "id": "T25mJrsAeS4k",
        "outputId": "23e770b5-6cf5-4846-c5ce-539c1a2f073c"
      },
      "execution_count": null,
      "outputs": [
        {
          "output_type": "execute_result",
          "data": {
            "text/plain": [
              "[<p>The biggest cinema awards ceremony took place in February. This year's highlights were:</p>]"
            ]
          },
          "metadata": {},
          "execution_count": 31
        }
      ]
    },
    {
      "cell_type": "code",
      "source": [
        "soup.find_all([\"h2\", \"li\"])"
      ],
      "metadata": {
        "colab": {
          "base_uri": "https://localhost:8080/"
        },
        "id": "vlR1FIYfedTE",
        "outputId": "92f72a40-bbd1-476a-e41b-03991fea3e45"
      },
      "execution_count": null,
      "outputs": [
        {
          "output_type": "execute_result",
          "data": {
            "text/plain": [
              "[<li>Joker</li>,\n",
              " <li>1917</li>,\n",
              " <li>Once Upon a Time in Hollywood</li>,\n",
              " <li>The Irishman</li>,\n",
              " <h2>Category: best film</h2>,\n",
              " <li>Ford vs Ferrari</li>,\n",
              " <li>The Irishman</li>,\n",
              " <li>JoJo Rabbit</li>,\n",
              " <li>Joker</li>,\n",
              " <li>Little Women</li>,\n",
              " <li>Marriage Story</li>,\n",
              " <li>1917</li>,\n",
              " <li>Once Upon a Time in Hollywood</li>,\n",
              " <li class=\"winner\">Parasite <strong>[WINNER]</strong></li>,\n",
              " <h2>Category: best actor</h2>,\n",
              " <li>Antonio Banderas - Pain and Glory</li>,\n",
              " <li>Leonardo DiCaprio - Once Upon a Time In... Hollywood</li>,\n",
              " <li>Adam Driver - Marriage Story</li>,\n",
              " <li class=\"winner\">Joaquin Phoenix - Joker <strong>[WINNER]</strong></li>,\n",
              " <li>Jonathan Price - The Two Popes</li>,\n",
              " <h2>Category: best actress</h2>,\n",
              " <li>Cythia Erivo - Harriet</li>,\n",
              " <li>Scarlett Johansson - Marriage Story</li>,\n",
              " <li>Saoirse Ronan - Little Women</li>,\n",
              " <li>Charlize Theron - The Scandal</li>,\n",
              " <li class=\"winner\">Renée Zellweger - Judy: Far Over the Rainbow <strong>[WINNER]</strong></li>]"
            ]
          },
          "metadata": {},
          "execution_count": 32
        }
      ]
    },
    {
      "cell_type": "code",
      "source": [
        "soup.find_all(\"li\", text=\"Coringa\")"
      ],
      "metadata": {
        "colab": {
          "base_uri": "https://localhost:8080/"
        },
        "id": "qPAI1vuleiRU",
        "outputId": "89791f53-6c21-4d05-d05f-ca9e42e5e2a9"
      },
      "execution_count": null,
      "outputs": [
        {
          "output_type": "stream",
          "name": "stderr",
          "text": [
            "/tmp/ipython-input-34-57135969.py:1: DeprecationWarning: The 'text' argument to find()-type methods is deprecated. Use 'string' instead.\n",
            "  soup.find_all(\"li\", text=\"Coringa\")\n"
          ]
        },
        {
          "output_type": "execute_result",
          "data": {
            "text/plain": [
              "[]"
            ]
          },
          "metadata": {},
          "execution_count": 34
        }
      ]
    },
    {
      "cell_type": "code",
      "source": [
        "soup.find_all(\"ul\", {\"class\": \"best-actress-category\"})"
      ],
      "metadata": {
        "colab": {
          "base_uri": "https://localhost:8080/"
        },
        "id": "rMYA8plses3Q",
        "outputId": "687b9db1-10ff-495e-c4e2-677967b00925"
      },
      "execution_count": null,
      "outputs": [
        {
          "output_type": "execute_result",
          "data": {
            "text/plain": [
              "[]"
            ]
          },
          "metadata": {},
          "execution_count": 33
        }
      ]
    },
    {
      "cell_type": "code",
      "source": [
        "best_film_winner = soup.find('div', class_='best-film-category').find('li', class_='winner')\n",
        "print(f\"Best Film Winner: {best_film_winner.get_text()}\")"
      ],
      "metadata": {
        "colab": {
          "base_uri": "https://localhost:8080/"
        },
        "id": "7lgJ260me4YJ",
        "outputId": "a3ad33b5-39f3-4bb0-8f8f-b5b851f11027"
      },
      "execution_count": null,
      "outputs": [
        {
          "output_type": "stream",
          "name": "stdout",
          "text": [
            "Best Film Winner: Parasite [WINNER]\n"
          ]
        }
      ]
    },
    {
      "cell_type": "code",
      "source": [
        "winner_parent = best_film_winner.parent\n",
        "print(f\"Winner's Parent Tag: {winner_parent.name}\")"
      ],
      "metadata": {
        "colab": {
          "base_uri": "https://localhost:8080/"
        },
        "id": "QxscXfJUe-Oz",
        "outputId": "5e10e836-b42c-4430-ab14-6f65036aed5b"
      },
      "execution_count": null,
      "outputs": [
        {
          "output_type": "stream",
          "name": "stdout",
          "text": [
            "Winner's Parent Tag: ul\n"
          ]
        }
      ]
    },
    {
      "cell_type": "code",
      "source": [],
      "metadata": {
        "id": "Kfbu6SQ2Gvth"
      },
      "execution_count": null,
      "outputs": []
    },
    {
      "cell_type": "code",
      "source": [
        "next_category = winner_parent.find_next_sibling('div')\n",
        "previous_category = winner_parent.find_previous_sibling('div')\n",
        "print(f\"Next Category: {next_category.h2.get_text() if next_category else 'None'}\")\n",
        "print(f\"Previous Category: {previous_category.h2.get_text() if previous_category else 'None'}\")"
      ],
      "metadata": {
        "colab": {
          "base_uri": "https://localhost:8080/"
        },
        "id": "Lm9LuhrYfF4Y",
        "outputId": "ef4a3aab-9fc1-4692-aaf4-ba120eb6485d"
      },
      "execution_count": null,
      "outputs": [
        {
          "output_type": "stream",
          "name": "stdout",
          "text": [
            "Next Category: None\n",
            "Previous Category: None\n"
          ]
        }
      ]
    },
    {
      "cell_type": "code",
      "source": [
        "winner_parent = winner_parent.parent\n",
        "next_category = winner_parent.find_next_sibling('div')\n",
        "previous_category = winner_parent.find_previous_sibling('div')\n",
        "print(f\"Next Category: {next_category.h2.get_text() if next_category else 'None'}\")\n",
        "print(f\"Previous Category: {previous_category.h2.get_text() if previous_category else 'None'}\")"
      ],
      "metadata": {
        "colab": {
          "base_uri": "https://localhost:8080/"
        },
        "id": "6zaO3KOVhsYp",
        "outputId": "d87d742a-e86f-403b-aaf5-d9668d740e33"
      },
      "execution_count": null,
      "outputs": [
        {
          "output_type": "stream",
          "name": "stdout",
          "text": [
            "Next Category: Category: best actor\n",
            "Previous Category: None\n"
          ]
        }
      ]
    },
    {
      "cell_type": "code",
      "source": [],
      "metadata": {
        "id": "QwGFk1ybjLQv"
      },
      "execution_count": null,
      "outputs": []
    },
    {
      "cell_type": "code",
      "source": [
        "next_element = best_film_winner.find_next()\n",
        "print(f\"Next Element after Winner: {next_element}\")"
      ],
      "metadata": {
        "colab": {
          "base_uri": "https://localhost:8080/"
        },
        "id": "DwP6t2FQfa-H",
        "outputId": "d56f1f5c-7378-4869-82ff-4a62b1fc00ae"
      },
      "execution_count": null,
      "outputs": [
        {
          "output_type": "stream",
          "name": "stdout",
          "text": [
            "Next Element after Winner: <strong>[WINNER]</strong>\n"
          ]
        }
      ]
    },
    {
      "cell_type": "code",
      "source": [
        "from urllib.request import urlopen\n",
        "url = 'https://www.scrapethissite.com/pages/forms/'\n",
        "response = urlopen(url)\n",
        "html_ws = response.read()\n",
        "html_ws\n",
        "soup_ws = BeautifulSoup(html_ws, 'html.parser')\n",
        "print(soup_ws.prettify())"
      ],
      "metadata": {
        "colab": {
          "base_uri": "https://localhost:8080/"
        },
        "id": "sOU7nwR4foRP",
        "outputId": "be169562-dc02-48b2-ebd9-cdd5da228f4a"
      },
      "execution_count": null,
      "outputs": [
        {
          "output_type": "stream",
          "name": "stdout",
          "text": [
            "<!DOCTYPE html>\n",
            "<html lang=\"en\">\n",
            " <head>\n",
            "  <meta charset=\"utf-8\"/>\n",
            "  <title>\n",
            "   Hockey Teams: Forms, Searching and Pagination | Scrape This Site | A public sandbox for learning web scraping\n",
            "  </title>\n",
            "  <link href=\"/static/images/scraper-icon.png\" rel=\"icon\" type=\"image/png\"/>\n",
            "  <meta content=\"width=device-width, initial-scale=1.0\" name=\"viewport\"/>\n",
            "  <meta content=\"Browse through a database of NHL team stats since 1990. Practice building a scraper that handles common website interface components.\" name=\"description\"/>\n",
            "  <link crossorigin=\"anonymous\" href=\"https://maxcdn.bootstrapcdn.com/bootstrap/3.3.5/css/bootstrap.min.css\" integrity=\"sha256-MfvZlkHCEqatNoGiOXveE8FIwMzZg4W85qfrfIFBfYc= sha512-dTfge/zgoMYpP7QbHy4gWMEGsbsdZeCXz7irItjcC3sPUFtf0kuFbDz/ixG7ArTxmDjLXDmezHubeNikyKGVyQ==\" rel=\"stylesheet\"/>\n",
            "  <link href=\"https://fonts.googleapis.com/css?family=Lato:400,700\" rel=\"stylesheet\" type=\"text/css\"/>\n",
            "  <link href=\"/static/css/styles.css\" rel=\"stylesheet\" type=\"text/css\"/>\n",
            "  <meta content=\"noindex\" name=\"robots\"/>\n",
            " </head>\n",
            " <body>\n",
            "  <nav id=\"site-nav\">\n",
            "   <div class=\"container\">\n",
            "    <div class=\"col-md-12\">\n",
            "     <ul class=\"nav nav-tabs\">\n",
            "      <li id=\"nav-homepage\">\n",
            "       <a class=\"nav-link hidden-sm hidden-xs\" href=\"/\">\n",
            "        <img id=\"nav-logo\" src=\"/static/images/scraper-icon.png\"/>\n",
            "        Scrape This Site\n",
            "       </a>\n",
            "      </li>\n",
            "      <li id=\"nav-sandbox\">\n",
            "       <a class=\"nav-link\" href=\"/pages/\">\n",
            "        <i class=\"glyphicon glyphicon-console hidden-sm hidden-xs\">\n",
            "        </i>\n",
            "        Sandbox\n",
            "       </a>\n",
            "      </li>\n",
            "      <li id=\"nav-lessons\">\n",
            "       <a class=\"nav-link\" href=\"/lessons/\">\n",
            "        <i class=\"glyphicon glyphicon-education hidden-sm hidden-xs\">\n",
            "        </i>\n",
            "        Lessons\n",
            "       </a>\n",
            "      </li>\n",
            "      <li id=\"nav-faq\">\n",
            "       <a class=\"nav-link\" href=\"/faq/\">\n",
            "        <i class=\"glyphicon glyphicon-flag hidden-sm hidden-xs\">\n",
            "        </i>\n",
            "        FAQ\n",
            "       </a>\n",
            "      </li>\n",
            "      <li class=\"pull-right\" id=\"nav-login\">\n",
            "       <a class=\"nav-link\" href=\"/login/\">\n",
            "        Login\n",
            "       </a>\n",
            "      </li>\n",
            "     </ul>\n",
            "    </div>\n",
            "   </div>\n",
            "  </nav>\n",
            "  <script type=\"text/javascript\">\n",
            "   var path = document.location.pathname;\n",
            "            var tab = undefined;\n",
            "            if (path === \"/\"){\n",
            "                tab = document.querySelector(\"#nav-homepage\");\n",
            "            } else if (path.indexOf(\"/faq/\") === 0){\n",
            "                tab = document.querySelector(\"#nav-faq\");\n",
            "            } else if (path.indexOf(\"/lessons/\") === 0){\n",
            "                tab = document.querySelector(\"#nav-lessons\");\n",
            "            } else if (path.indexOf(\"/pages/\") === 0) {\n",
            "                tab = document.querySelector(\"#nav-sandbox\");\n",
            "            } else if (path.indexOf(\"/login/\") === 0) {\n",
            "                tab = document.querySelector(\"#nav-login\");\n",
            "            }\n",
            "            tab.classList.add(\"active\")\n",
            "  </script>\n",
            "  <div id=\"page\">\n",
            "   <section id=\"hockey\">\n",
            "    <div class=\"container\">\n",
            "     <div class=\"row\">\n",
            "      <div class=\"col-md-12\">\n",
            "       <h1>\n",
            "        Hockey Teams: Forms, Searching and Pagination\n",
            "        <small>\n",
            "         25 items\n",
            "        </small>\n",
            "       </h1>\n",
            "       <hr/>\n",
            "      </div>\n",
            "     </div>\n",
            "     <div class=\"row\">\n",
            "      <div class=\"col-md-12\">\n",
            "       <p class=\"lead\">\n",
            "        Browse through a database of NHL team stats since 1990. Practice building a scraper that handles common website interface components.\n",
            "                            Take a look at how pagination and search elements change the URL as your browse. Build a web scraper that can conduct searches and paginate through the results.\n",
            "       </p>\n",
            "       <hr/>\n",
            "      </div>\n",
            "     </div>\n",
            "     <div class=\"row\">\n",
            "      <div class=\"col-md-6\">\n",
            "       <p>\n",
            "        <i class=\"glyphicon glyphicon-education\">\n",
            "        </i>\n",
            "        There are\n",
            "        <a href=\"/lessons/\">\n",
            "         8 video lessons\n",
            "        </a>\n",
            "        that show you how to scrape this page.\n",
            "       </p>\n",
            "       <hr/>\n",
            "      </div>\n",
            "      <div class=\"col-md-6 text-right\">\n",
            "       <p>\n",
            "        Data via\n",
            "        <a class=\"data-attribution\" href=\"http://www.opensourcesports.com/hockey/\" target=\"_blank\">\n",
            "         http://www.opensourcesports.com/hockey/\n",
            "        </a>\n",
            "       </p>\n",
            "       <hr/>\n",
            "      </div>\n",
            "     </div>\n",
            "     <div class=\"row search-area\">\n",
            "      <div class=\"col-md-12 text-center\">\n",
            "       <form action=\"/pages/forms/\" class=\"form form-inline\" method=\"GET\">\n",
            "        <label for=\"q\">\n",
            "         Search for Teams:\n",
            "        </label>\n",
            "        <input class=\"form-control\" id=\"q\" name=\"q\" placeholder=\"Search for Teams\" type=\"text\"/>\n",
            "        <input class=\"btn btn-primary\" type=\"submit\" value=\"Search\"/>\n",
            "       </form>\n",
            "       <hr/>\n",
            "      </div>\n",
            "     </div>\n",
            "     <!--.row.search-area-->\n",
            "     <table class=\"table\">\n",
            "      <tr>\n",
            "       <th>\n",
            "        Team Name\n",
            "       </th>\n",
            "       <th>\n",
            "        Year\n",
            "       </th>\n",
            "       <th>\n",
            "        Wins\n",
            "       </th>\n",
            "       <th>\n",
            "        Losses\n",
            "       </th>\n",
            "       <th>\n",
            "        OT Losses\n",
            "       </th>\n",
            "       <th>\n",
            "        Win %\n",
            "       </th>\n",
            "       <th>\n",
            "        Goals For (GF)\n",
            "       </th>\n",
            "       <th>\n",
            "        Goals Against (GA)\n",
            "       </th>\n",
            "       <th>\n",
            "        + / -\n",
            "       </th>\n",
            "      </tr>\n",
            "      <tr class=\"team\">\n",
            "       <td class=\"name\">\n",
            "        Boston Bruins\n",
            "       </td>\n",
            "       <td class=\"year\">\n",
            "        1990\n",
            "       </td>\n",
            "       <td class=\"wins\">\n",
            "        44\n",
            "       </td>\n",
            "       <td class=\"losses\">\n",
            "        24\n",
            "       </td>\n",
            "       <td class=\"ot-losses\">\n",
            "       </td>\n",
            "       <td class=\"pct text-success\">\n",
            "        0.55\n",
            "       </td>\n",
            "       <td class=\"gf\">\n",
            "        299\n",
            "       </td>\n",
            "       <td class=\"ga\">\n",
            "        264\n",
            "       </td>\n",
            "       <td class=\"diff text-success\">\n",
            "        35\n",
            "       </td>\n",
            "      </tr>\n",
            "      <tr class=\"team\">\n",
            "       <td class=\"name\">\n",
            "        Buffalo Sabres\n",
            "       </td>\n",
            "       <td class=\"year\">\n",
            "        1990\n",
            "       </td>\n",
            "       <td class=\"wins\">\n",
            "        31\n",
            "       </td>\n",
            "       <td class=\"losses\">\n",
            "        30\n",
            "       </td>\n",
            "       <td class=\"ot-losses\">\n",
            "       </td>\n",
            "       <td class=\"pct text-danger\">\n",
            "        0.388\n",
            "       </td>\n",
            "       <td class=\"gf\">\n",
            "        292\n",
            "       </td>\n",
            "       <td class=\"ga\">\n",
            "        278\n",
            "       </td>\n",
            "       <td class=\"diff text-success\">\n",
            "        14\n",
            "       </td>\n",
            "      </tr>\n",
            "      <tr class=\"team\">\n",
            "       <td class=\"name\">\n",
            "        Calgary Flames\n",
            "       </td>\n",
            "       <td class=\"year\">\n",
            "        1990\n",
            "       </td>\n",
            "       <td class=\"wins\">\n",
            "        46\n",
            "       </td>\n",
            "       <td class=\"losses\">\n",
            "        26\n",
            "       </td>\n",
            "       <td class=\"ot-losses\">\n",
            "       </td>\n",
            "       <td class=\"pct text-success\">\n",
            "        0.575\n",
            "       </td>\n",
            "       <td class=\"gf\">\n",
            "        344\n",
            "       </td>\n",
            "       <td class=\"ga\">\n",
            "        263\n",
            "       </td>\n",
            "       <td class=\"diff text-success\">\n",
            "        81\n",
            "       </td>\n",
            "      </tr>\n",
            "      <tr class=\"team\">\n",
            "       <td class=\"name\">\n",
            "        Chicago Blackhawks\n",
            "       </td>\n",
            "       <td class=\"year\">\n",
            "        1990\n",
            "       </td>\n",
            "       <td class=\"wins\">\n",
            "        49\n",
            "       </td>\n",
            "       <td class=\"losses\">\n",
            "        23\n",
            "       </td>\n",
            "       <td class=\"ot-losses\">\n",
            "       </td>\n",
            "       <td class=\"pct text-success\">\n",
            "        0.613\n",
            "       </td>\n",
            "       <td class=\"gf\">\n",
            "        284\n",
            "       </td>\n",
            "       <td class=\"ga\">\n",
            "        211\n",
            "       </td>\n",
            "       <td class=\"diff text-success\">\n",
            "        73\n",
            "       </td>\n",
            "      </tr>\n",
            "      <tr class=\"team\">\n",
            "       <td class=\"name\">\n",
            "        Detroit Red Wings\n",
            "       </td>\n",
            "       <td class=\"year\">\n",
            "        1990\n",
            "       </td>\n",
            "       <td class=\"wins\">\n",
            "        34\n",
            "       </td>\n",
            "       <td class=\"losses\">\n",
            "        38\n",
            "       </td>\n",
            "       <td class=\"ot-losses\">\n",
            "       </td>\n",
            "       <td class=\"pct text-danger\">\n",
            "        0.425\n",
            "       </td>\n",
            "       <td class=\"gf\">\n",
            "        273\n",
            "       </td>\n",
            "       <td class=\"ga\">\n",
            "        298\n",
            "       </td>\n",
            "       <td class=\"diff text-danger\">\n",
            "        -25\n",
            "       </td>\n",
            "      </tr>\n",
            "      <tr class=\"team\">\n",
            "       <td class=\"name\">\n",
            "        Edmonton Oilers\n",
            "       </td>\n",
            "       <td class=\"year\">\n",
            "        1990\n",
            "       </td>\n",
            "       <td class=\"wins\">\n",
            "        37\n",
            "       </td>\n",
            "       <td class=\"losses\">\n",
            "        37\n",
            "       </td>\n",
            "       <td class=\"ot-losses\">\n",
            "       </td>\n",
            "       <td class=\"pct text-danger\">\n",
            "        0.463\n",
            "       </td>\n",
            "       <td class=\"gf\">\n",
            "        272\n",
            "       </td>\n",
            "       <td class=\"ga\">\n",
            "        272\n",
            "       </td>\n",
            "       <td class=\"diff text-success\">\n",
            "        0\n",
            "       </td>\n",
            "      </tr>\n",
            "      <tr class=\"team\">\n",
            "       <td class=\"name\">\n",
            "        Hartford Whalers\n",
            "       </td>\n",
            "       <td class=\"year\">\n",
            "        1990\n",
            "       </td>\n",
            "       <td class=\"wins\">\n",
            "        31\n",
            "       </td>\n",
            "       <td class=\"losses\">\n",
            "        38\n",
            "       </td>\n",
            "       <td class=\"ot-losses\">\n",
            "       </td>\n",
            "       <td class=\"pct text-danger\">\n",
            "        0.388\n",
            "       </td>\n",
            "       <td class=\"gf\">\n",
            "        238\n",
            "       </td>\n",
            "       <td class=\"ga\">\n",
            "        276\n",
            "       </td>\n",
            "       <td class=\"diff text-danger\">\n",
            "        -38\n",
            "       </td>\n",
            "      </tr>\n",
            "      <tr class=\"team\">\n",
            "       <td class=\"name\">\n",
            "        Los Angeles Kings\n",
            "       </td>\n",
            "       <td class=\"year\">\n",
            "        1990\n",
            "       </td>\n",
            "       <td class=\"wins\">\n",
            "        46\n",
            "       </td>\n",
            "       <td class=\"losses\">\n",
            "        24\n",
            "       </td>\n",
            "       <td class=\"ot-losses\">\n",
            "       </td>\n",
            "       <td class=\"pct text-success\">\n",
            "        0.575\n",
            "       </td>\n",
            "       <td class=\"gf\">\n",
            "        340\n",
            "       </td>\n",
            "       <td class=\"ga\">\n",
            "        254\n",
            "       </td>\n",
            "       <td class=\"diff text-success\">\n",
            "        86\n",
            "       </td>\n",
            "      </tr>\n",
            "      <tr class=\"team\">\n",
            "       <td class=\"name\">\n",
            "        Minnesota North Stars\n",
            "       </td>\n",
            "       <td class=\"year\">\n",
            "        1990\n",
            "       </td>\n",
            "       <td class=\"wins\">\n",
            "        27\n",
            "       </td>\n",
            "       <td class=\"losses\">\n",
            "        39\n",
            "       </td>\n",
            "       <td class=\"ot-losses\">\n",
            "       </td>\n",
            "       <td class=\"pct text-danger\">\n",
            "        0.338\n",
            "       </td>\n",
            "       <td class=\"gf\">\n",
            "        256\n",
            "       </td>\n",
            "       <td class=\"ga\">\n",
            "        266\n",
            "       </td>\n",
            "       <td class=\"diff text-danger\">\n",
            "        -10\n",
            "       </td>\n",
            "      </tr>\n",
            "      <tr class=\"team\">\n",
            "       <td class=\"name\">\n",
            "        Montreal Canadiens\n",
            "       </td>\n",
            "       <td class=\"year\">\n",
            "        1990\n",
            "       </td>\n",
            "       <td class=\"wins\">\n",
            "        39\n",
            "       </td>\n",
            "       <td class=\"losses\">\n",
            "        30\n",
            "       </td>\n",
            "       <td class=\"ot-losses\">\n",
            "       </td>\n",
            "       <td class=\"pct text-danger\">\n",
            "        0.487\n",
            "       </td>\n",
            "       <td class=\"gf\">\n",
            "        273\n",
            "       </td>\n",
            "       <td class=\"ga\">\n",
            "        249\n",
            "       </td>\n",
            "       <td class=\"diff text-success\">\n",
            "        24\n",
            "       </td>\n",
            "      </tr>\n",
            "      <tr class=\"team\">\n",
            "       <td class=\"name\">\n",
            "        New Jersey Devils\n",
            "       </td>\n",
            "       <td class=\"year\">\n",
            "        1990\n",
            "       </td>\n",
            "       <td class=\"wins\">\n",
            "        32\n",
            "       </td>\n",
            "       <td class=\"losses\">\n",
            "        33\n",
            "       </td>\n",
            "       <td class=\"ot-losses\">\n",
            "       </td>\n",
            "       <td class=\"pct text-danger\">\n",
            "        0.4\n",
            "       </td>\n",
            "       <td class=\"gf\">\n",
            "        272\n",
            "       </td>\n",
            "       <td class=\"ga\">\n",
            "        264\n",
            "       </td>\n",
            "       <td class=\"diff text-success\">\n",
            "        8\n",
            "       </td>\n",
            "      </tr>\n",
            "      <tr class=\"team\">\n",
            "       <td class=\"name\">\n",
            "        New York Islanders\n",
            "       </td>\n",
            "       <td class=\"year\">\n",
            "        1990\n",
            "       </td>\n",
            "       <td class=\"wins\">\n",
            "        25\n",
            "       </td>\n",
            "       <td class=\"losses\">\n",
            "        45\n",
            "       </td>\n",
            "       <td class=\"ot-losses\">\n",
            "       </td>\n",
            "       <td class=\"pct text-danger\">\n",
            "        0.312\n",
            "       </td>\n",
            "       <td class=\"gf\">\n",
            "        223\n",
            "       </td>\n",
            "       <td class=\"ga\">\n",
            "        290\n",
            "       </td>\n",
            "       <td class=\"diff text-danger\">\n",
            "        -67\n",
            "       </td>\n",
            "      </tr>\n",
            "      <tr class=\"team\">\n",
            "       <td class=\"name\">\n",
            "        New York Rangers\n",
            "       </td>\n",
            "       <td class=\"year\">\n",
            "        1990\n",
            "       </td>\n",
            "       <td class=\"wins\">\n",
            "        36\n",
            "       </td>\n",
            "       <td class=\"losses\">\n",
            "        31\n",
            "       </td>\n",
            "       <td class=\"ot-losses\">\n",
            "       </td>\n",
            "       <td class=\"pct text-danger\">\n",
            "        0.45\n",
            "       </td>\n",
            "       <td class=\"gf\">\n",
            "        297\n",
            "       </td>\n",
            "       <td class=\"ga\">\n",
            "        265\n",
            "       </td>\n",
            "       <td class=\"diff text-success\">\n",
            "        32\n",
            "       </td>\n",
            "      </tr>\n",
            "      <tr class=\"team\">\n",
            "       <td class=\"name\">\n",
            "        Philadelphia Flyers\n",
            "       </td>\n",
            "       <td class=\"year\">\n",
            "        1990\n",
            "       </td>\n",
            "       <td class=\"wins\">\n",
            "        33\n",
            "       </td>\n",
            "       <td class=\"losses\">\n",
            "        37\n",
            "       </td>\n",
            "       <td class=\"ot-losses\">\n",
            "       </td>\n",
            "       <td class=\"pct text-danger\">\n",
            "        0.412\n",
            "       </td>\n",
            "       <td class=\"gf\">\n",
            "        252\n",
            "       </td>\n",
            "       <td class=\"ga\">\n",
            "        267\n",
            "       </td>\n",
            "       <td class=\"diff text-danger\">\n",
            "        -15\n",
            "       </td>\n",
            "      </tr>\n",
            "      <tr class=\"team\">\n",
            "       <td class=\"name\">\n",
            "        Pittsburgh Penguins\n",
            "       </td>\n",
            "       <td class=\"year\">\n",
            "        1990\n",
            "       </td>\n",
            "       <td class=\"wins\">\n",
            "        41\n",
            "       </td>\n",
            "       <td class=\"losses\">\n",
            "        33\n",
            "       </td>\n",
            "       <td class=\"ot-losses\">\n",
            "       </td>\n",
            "       <td class=\"pct text-success\">\n",
            "        0.512\n",
            "       </td>\n",
            "       <td class=\"gf\">\n",
            "        342\n",
            "       </td>\n",
            "       <td class=\"ga\">\n",
            "        305\n",
            "       </td>\n",
            "       <td class=\"diff text-success\">\n",
            "        37\n",
            "       </td>\n",
            "      </tr>\n",
            "      <tr class=\"team\">\n",
            "       <td class=\"name\">\n",
            "        Quebec Nordiques\n",
            "       </td>\n",
            "       <td class=\"year\">\n",
            "        1990\n",
            "       </td>\n",
            "       <td class=\"wins\">\n",
            "        16\n",
            "       </td>\n",
            "       <td class=\"losses\">\n",
            "        50\n",
            "       </td>\n",
            "       <td class=\"ot-losses\">\n",
            "       </td>\n",
            "       <td class=\"pct text-danger\">\n",
            "        0.2\n",
            "       </td>\n",
            "       <td class=\"gf\">\n",
            "        236\n",
            "       </td>\n",
            "       <td class=\"ga\">\n",
            "        354\n",
            "       </td>\n",
            "       <td class=\"diff text-danger\">\n",
            "        -118\n",
            "       </td>\n",
            "      </tr>\n",
            "      <tr class=\"team\">\n",
            "       <td class=\"name\">\n",
            "        St. Louis Blues\n",
            "       </td>\n",
            "       <td class=\"year\">\n",
            "        1990\n",
            "       </td>\n",
            "       <td class=\"wins\">\n",
            "        47\n",
            "       </td>\n",
            "       <td class=\"losses\">\n",
            "        22\n",
            "       </td>\n",
            "       <td class=\"ot-losses\">\n",
            "       </td>\n",
            "       <td class=\"pct text-success\">\n",
            "        0.588\n",
            "       </td>\n",
            "       <td class=\"gf\">\n",
            "        310\n",
            "       </td>\n",
            "       <td class=\"ga\">\n",
            "        250\n",
            "       </td>\n",
            "       <td class=\"diff text-success\">\n",
            "        60\n",
            "       </td>\n",
            "      </tr>\n",
            "      <tr class=\"team\">\n",
            "       <td class=\"name\">\n",
            "        Toronto Maple Leafs\n",
            "       </td>\n",
            "       <td class=\"year\">\n",
            "        1990\n",
            "       </td>\n",
            "       <td class=\"wins\">\n",
            "        23\n",
            "       </td>\n",
            "       <td class=\"losses\">\n",
            "        46\n",
            "       </td>\n",
            "       <td class=\"ot-losses\">\n",
            "       </td>\n",
            "       <td class=\"pct text-danger\">\n",
            "        0.287\n",
            "       </td>\n",
            "       <td class=\"gf\">\n",
            "        241\n",
            "       </td>\n",
            "       <td class=\"ga\">\n",
            "        318\n",
            "       </td>\n",
            "       <td class=\"diff text-danger\">\n",
            "        -77\n",
            "       </td>\n",
            "      </tr>\n",
            "      <tr class=\"team\">\n",
            "       <td class=\"name\">\n",
            "        Vancouver Canucks\n",
            "       </td>\n",
            "       <td class=\"year\">\n",
            "        1990\n",
            "       </td>\n",
            "       <td class=\"wins\">\n",
            "        28\n",
            "       </td>\n",
            "       <td class=\"losses\">\n",
            "        43\n",
            "       </td>\n",
            "       <td class=\"ot-losses\">\n",
            "       </td>\n",
            "       <td class=\"pct text-danger\">\n",
            "        0.35\n",
            "       </td>\n",
            "       <td class=\"gf\">\n",
            "        243\n",
            "       </td>\n",
            "       <td class=\"ga\">\n",
            "        315\n",
            "       </td>\n",
            "       <td class=\"diff text-danger\">\n",
            "        -72\n",
            "       </td>\n",
            "      </tr>\n",
            "      <tr class=\"team\">\n",
            "       <td class=\"name\">\n",
            "        Washington Capitals\n",
            "       </td>\n",
            "       <td class=\"year\">\n",
            "        1990\n",
            "       </td>\n",
            "       <td class=\"wins\">\n",
            "        37\n",
            "       </td>\n",
            "       <td class=\"losses\">\n",
            "        36\n",
            "       </td>\n",
            "       <td class=\"ot-losses\">\n",
            "       </td>\n",
            "       <td class=\"pct text-danger\">\n",
            "        0.463\n",
            "       </td>\n",
            "       <td class=\"gf\">\n",
            "        258\n",
            "       </td>\n",
            "       <td class=\"ga\">\n",
            "        258\n",
            "       </td>\n",
            "       <td class=\"diff text-success\">\n",
            "        0\n",
            "       </td>\n",
            "      </tr>\n",
            "      <tr class=\"team\">\n",
            "       <td class=\"name\">\n",
            "        Winnipeg Jets\n",
            "       </td>\n",
            "       <td class=\"year\">\n",
            "        1990\n",
            "       </td>\n",
            "       <td class=\"wins\">\n",
            "        26\n",
            "       </td>\n",
            "       <td class=\"losses\">\n",
            "        43\n",
            "       </td>\n",
            "       <td class=\"ot-losses\">\n",
            "       </td>\n",
            "       <td class=\"pct text-danger\">\n",
            "        0.325\n",
            "       </td>\n",
            "       <td class=\"gf\">\n",
            "        260\n",
            "       </td>\n",
            "       <td class=\"ga\">\n",
            "        288\n",
            "       </td>\n",
            "       <td class=\"diff text-danger\">\n",
            "        -28\n",
            "       </td>\n",
            "      </tr>\n",
            "      <tr class=\"team\">\n",
            "       <td class=\"name\">\n",
            "        Boston Bruins\n",
            "       </td>\n",
            "       <td class=\"year\">\n",
            "        1991\n",
            "       </td>\n",
            "       <td class=\"wins\">\n",
            "        36\n",
            "       </td>\n",
            "       <td class=\"losses\">\n",
            "        32\n",
            "       </td>\n",
            "       <td class=\"ot-losses\">\n",
            "       </td>\n",
            "       <td class=\"pct text-danger\">\n",
            "        0.45\n",
            "       </td>\n",
            "       <td class=\"gf\">\n",
            "        270\n",
            "       </td>\n",
            "       <td class=\"ga\">\n",
            "        275\n",
            "       </td>\n",
            "       <td class=\"diff text-danger\">\n",
            "        -5\n",
            "       </td>\n",
            "      </tr>\n",
            "      <tr class=\"team\">\n",
            "       <td class=\"name\">\n",
            "        Buffalo Sabres\n",
            "       </td>\n",
            "       <td class=\"year\">\n",
            "        1991\n",
            "       </td>\n",
            "       <td class=\"wins\">\n",
            "        31\n",
            "       </td>\n",
            "       <td class=\"losses\">\n",
            "        37\n",
            "       </td>\n",
            "       <td class=\"ot-losses\">\n",
            "       </td>\n",
            "       <td class=\"pct text-danger\">\n",
            "        0.388\n",
            "       </td>\n",
            "       <td class=\"gf\">\n",
            "        289\n",
            "       </td>\n",
            "       <td class=\"ga\">\n",
            "        299\n",
            "       </td>\n",
            "       <td class=\"diff text-danger\">\n",
            "        -10\n",
            "       </td>\n",
            "      </tr>\n",
            "      <tr class=\"team\">\n",
            "       <td class=\"name\">\n",
            "        Calgary Flames\n",
            "       </td>\n",
            "       <td class=\"year\">\n",
            "        1991\n",
            "       </td>\n",
            "       <td class=\"wins\">\n",
            "        31\n",
            "       </td>\n",
            "       <td class=\"losses\">\n",
            "        37\n",
            "       </td>\n",
            "       <td class=\"ot-losses\">\n",
            "       </td>\n",
            "       <td class=\"pct text-danger\">\n",
            "        0.388\n",
            "       </td>\n",
            "       <td class=\"gf\">\n",
            "        296\n",
            "       </td>\n",
            "       <td class=\"ga\">\n",
            "        305\n",
            "       </td>\n",
            "       <td class=\"diff text-danger\">\n",
            "        -9\n",
            "       </td>\n",
            "      </tr>\n",
            "      <tr class=\"team\">\n",
            "       <td class=\"name\">\n",
            "        Chicago Blackhawks\n",
            "       </td>\n",
            "       <td class=\"year\">\n",
            "        1991\n",
            "       </td>\n",
            "       <td class=\"wins\">\n",
            "        36\n",
            "       </td>\n",
            "       <td class=\"losses\">\n",
            "        29\n",
            "       </td>\n",
            "       <td class=\"ot-losses\">\n",
            "       </td>\n",
            "       <td class=\"pct text-danger\">\n",
            "        0.45\n",
            "       </td>\n",
            "       <td class=\"gf\">\n",
            "        257\n",
            "       </td>\n",
            "       <td class=\"ga\">\n",
            "        236\n",
            "       </td>\n",
            "       <td class=\"diff text-success\">\n",
            "        21\n",
            "       </td>\n",
            "      </tr>\n",
            "     </table>\n",
            "     <div class=\"row pagination-area\">\n",
            "      <div class=\"col-md-10 text-center\">\n",
            "       <ul class=\"pagination\">\n",
            "        <li>\n",
            "         <a href=\"/pages/forms/?page_num=1\">\n",
            "          1\n",
            "         </a>\n",
            "        </li>\n",
            "        <li>\n",
            "         <a href=\"/pages/forms/?page_num=2\">\n",
            "          2\n",
            "         </a>\n",
            "        </li>\n",
            "        <li>\n",
            "         <a href=\"/pages/forms/?page_num=3\">\n",
            "          3\n",
            "         </a>\n",
            "        </li>\n",
            "        <li>\n",
            "         <a href=\"/pages/forms/?page_num=4\">\n",
            "          4\n",
            "         </a>\n",
            "        </li>\n",
            "        <li>\n",
            "         <a href=\"/pages/forms/?page_num=5\">\n",
            "          5\n",
            "         </a>\n",
            "        </li>\n",
            "        <li>\n",
            "         <a href=\"/pages/forms/?page_num=6\">\n",
            "          6\n",
            "         </a>\n",
            "        </li>\n",
            "        <li>\n",
            "         <a href=\"/pages/forms/?page_num=7\">\n",
            "          7\n",
            "         </a>\n",
            "        </li>\n",
            "        <li>\n",
            "         <a href=\"/pages/forms/?page_num=8\">\n",
            "          8\n",
            "         </a>\n",
            "        </li>\n",
            "        <li>\n",
            "         <a href=\"/pages/forms/?page_num=9\">\n",
            "          9\n",
            "         </a>\n",
            "        </li>\n",
            "        <li>\n",
            "         <a href=\"/pages/forms/?page_num=10\">\n",
            "          10\n",
            "         </a>\n",
            "        </li>\n",
            "        <li>\n",
            "         <a href=\"/pages/forms/?page_num=11\">\n",
            "          11\n",
            "         </a>\n",
            "        </li>\n",
            "        <li>\n",
            "         <a href=\"/pages/forms/?page_num=12\">\n",
            "          12\n",
            "         </a>\n",
            "        </li>\n",
            "        <li>\n",
            "         <a href=\"/pages/forms/?page_num=13\">\n",
            "          13\n",
            "         </a>\n",
            "        </li>\n",
            "        <li>\n",
            "         <a href=\"/pages/forms/?page_num=14\">\n",
            "          14\n",
            "         </a>\n",
            "        </li>\n",
            "        <li>\n",
            "         <a href=\"/pages/forms/?page_num=15\">\n",
            "          15\n",
            "         </a>\n",
            "        </li>\n",
            "        <li>\n",
            "         <a href=\"/pages/forms/?page_num=16\">\n",
            "          16\n",
            "         </a>\n",
            "        </li>\n",
            "        <li>\n",
            "         <a href=\"/pages/forms/?page_num=17\">\n",
            "          17\n",
            "         </a>\n",
            "        </li>\n",
            "        <li>\n",
            "         <a href=\"/pages/forms/?page_num=18\">\n",
            "          18\n",
            "         </a>\n",
            "        </li>\n",
            "        <li>\n",
            "         <a href=\"/pages/forms/?page_num=19\">\n",
            "          19\n",
            "         </a>\n",
            "        </li>\n",
            "        <li>\n",
            "         <a href=\"/pages/forms/?page_num=20\">\n",
            "          20\n",
            "         </a>\n",
            "        </li>\n",
            "        <li>\n",
            "         <a href=\"/pages/forms/?page_num=21\">\n",
            "          21\n",
            "         </a>\n",
            "        </li>\n",
            "        <li>\n",
            "         <a href=\"/pages/forms/?page_num=22\">\n",
            "          22\n",
            "         </a>\n",
            "        </li>\n",
            "        <li>\n",
            "         <a href=\"/pages/forms/?page_num=23\">\n",
            "          23\n",
            "         </a>\n",
            "        </li>\n",
            "        <li>\n",
            "         <a href=\"/pages/forms/?page_num=24\">\n",
            "          24\n",
            "         </a>\n",
            "        </li>\n",
            "        <li>\n",
            "         <a aria-label=\"Next\" href=\"/pages/forms/?page_num=1\">\n",
            "          <span aria-hidden=\"true\">\n",
            "           »\n",
            "          </span>\n",
            "         </a>\n",
            "        </li>\n",
            "       </ul>\n",
            "      </div>\n",
            "      <!--.col-->\n",
            "      <div class=\"col-md-1\" style=\"padding:20px 0\">\n",
            "       <strong>\n",
            "        Per Page\n",
            "       </strong>\n",
            "      </div>\n",
            "      <div class=\"col-md-1\" style=\"padding:20px 0\">\n",
            "       <select class=\"form-control col-md-3\" id=\"per_page\">\n",
            "        <option value=\"25\">\n",
            "         25\n",
            "        </option>\n",
            "        <option value=\"50\">\n",
            "         50\n",
            "        </option>\n",
            "        <option value=\"100\">\n",
            "         100\n",
            "        </option>\n",
            "       </select>\n",
            "      </div>\n",
            "      <!--.col-->\n",
            "     </div>\n",
            "     <!--.row.pagination-area-->\n",
            "    </div>\n",
            "    <!--.container-->\n",
            "   </section>\n",
            "  </div>\n",
            "  <!--#page-->\n",
            "  <section id=\"footer\">\n",
            "   <div class=\"container\">\n",
            "    <div class=\"row\">\n",
            "     <div class=\"col-md-12 text-center text-muted\">\n",
            "      Lessons and Videos © Hartley Brody 2023\n",
            "     </div>\n",
            "     <!--.col-->\n",
            "    </div>\n",
            "    <!--.row-->\n",
            "   </div>\n",
            "   <!--.container-->\n",
            "  </section>\n",
            " </body>\n",
            " <script src=\"https://ajax.googleapis.com/ajax/libs/jquery/1.11.3/jquery.min.js\">\n",
            " </script>\n",
            " <script crossorigin=\"anonymous\" integrity=\"sha256-Sk3nkD6mLTMOF0EOpNtsIry+s1CsaqQC1rVLTAy+0yc= sha512-K1qjQ+NcF2TYO/eI3M6v8EiNYZfA95pQumfvcVrTHtwQVDG+aHRqLi/ETn2uB+1JqwYqVG3LIvdm9lj6imS/pQ==\" src=\"https://maxcdn.bootstrapcdn.com/bootstrap/3.3.5/js/bootstrap.min.js\">\n",
            " </script>\n",
            " <script type=\"text/javascript\">\n",
            "  $(document).ready( function(){\n",
            "            $(\"#per_page\").change(function(){\n",
            "                prot = document.location.protocol\n",
            "                host = 'www.scrapethissite.com'\n",
            "                path = document.location.pathname\n",
            "                args = {\n",
            "                    \"per_page\": $(\"#per_page\").val(),\n",
            "                }\n",
            "                search_val = $(\"#q\").val()\n",
            "                if (search_val){\n",
            "                    args[\"q\"] = search_val;\n",
            "                }\n",
            "                document.location = prot + '//' + host + path + '?' + $.param(args);\n",
            "            })\n",
            "        });\n",
            " </script>\n",
            " <script src=\"https://cdnjs.cloudflare.com/ajax/libs/pnotify/2.1.0/pnotify.core.min.js\">\n",
            " </script>\n",
            " <link href=\"https://cdnjs.cloudflare.com/ajax/libs/pnotify/2.1.0/pnotify.core.min.css\" rel=\"stylesheet\" type=\"text/css\"/>\n",
            " <!-- pnotify messages -->\n",
            " <script type=\"text/javascript\">\n",
            "  PNotify.prototype.options.styling = \"bootstrap3\";\n",
            "    $(function(){\n",
            "      \n",
            "    });\n",
            "    \n",
            "\n",
            "    $(function () {\n",
            "      $('[data-toggle=\"tooltip\"]').tooltip()\n",
            "    })\n",
            " </script>\n",
            " <!-- golbal video controls -->\n",
            " <script type=\"text/javascript\">\n",
            "  $(\"video\").hover(function() {\n",
            "        $(this).prop(\"controls\", true);\n",
            "    }, function() {\n",
            "        $(this).prop(\"controls\", false);\n",
            "    });\n",
            "\n",
            "    $(\"video\").click(function() {\n",
            "        if( this.paused){\n",
            "            this.play();\n",
            "        }\n",
            "        else {\n",
            "            this.pause();\n",
            "        }\n",
            "    });\n",
            " </script>\n",
            " <!-- insert google analytics here -->\n",
            " <script>\n",
            "  (function(i,s,o,g,r,a,m){i['GoogleAnalyticsObject']=r;i[r]=i[r]||function(){\n",
            "    (i[r].q=i[r].q||[]).push(arguments)},i[r].l=1*new Date();a=s.createElement(o),\n",
            "    m=s.getElementsByTagName(o)[0];a.async=1;a.src=g;m.parentNode.insertBefore(a,m)\n",
            "    })(window,document,'script','https://www.google-analytics.com/analytics.js','ga');\n",
            "\n",
            "    ga('create', 'UA-41551755-8', 'auto');\n",
            "    ga('send', 'pageview');\n",
            " </script>\n",
            " <!-- Facebook Pixel Code -->\n",
            " <script>\n",
            "  !function(f,b,e,v,n,t,s){if(f.fbq)return;n=f.fbq=function(){n.callMethod?\n",
            "  n.callMethod.apply(n,arguments):n.queue.push(arguments)};if(!f._fbq)f._fbq=n;\n",
            "  n.push=n;n.loaded=!0;n.version='2.0';n.queue=[];t=b.createElement(e);t.async=!0;\n",
            "  t.src=v;s=b.getElementsByTagName(e)[0];s.parentNode.insertBefore(t,s)}(window,\n",
            "  document,'script','https://connect.facebook.net/en_US/fbevents.js');\n",
            "\n",
            "  fbq('init', '764287443701341');\n",
            "  fbq('track', \"PageView\");\n",
            " </script>\n",
            " <noscript>\n",
            "  <img height=\"1\" src=\"https://www.facebook.com/tr?id=764287443701341&amp;ev=PageView&amp;noscript=1\" style=\"display:none\" width=\"1\"/>\n",
            " </noscript>\n",
            " <!-- End Facebook Pixel Code -->\n",
            " <!-- Google Code for Remarketing Tag -->\n",
            " <script type=\"text/javascript\">\n",
            "  /* <![CDATA[ */\n",
            "    var google_conversion_id = 950945448;\n",
            "    var google_custom_params = window.google_tag_params;\n",
            "    var google_remarketing_only = true;\n",
            "    /* ]]> */\n",
            " </script>\n",
            " <script src=\"//www.googleadservices.com/pagead/conversion.js\" type=\"text/javascript\">\n",
            " </script>\n",
            " <noscript>\n",
            "  <div style=\"display:inline;\">\n",
            "   <img alt=\"\" height=\"1\" src=\"//googleads.g.doubleclick.net/pagead/viewthroughconversion/950945448/?guid=ON&amp;script=0\" style=\"border-style:none;\" width=\"1\"/>\n",
            "  </div>\n",
            " </noscript>\n",
            " <!-- Global site tag (gtag.js) - Google AdWords: 950945448 -->\n",
            " <script async=\"\" src=\"https://www.googletagmanager.com/gtag/js?id=AW-950945448\">\n",
            " </script>\n",
            " <script>\n",
            "  window.dataLayer = window.dataLayer || [];\n",
            "   function gtag(){dataLayer.push(arguments);}\n",
            "   gtag('js', new Date());\n",
            "\n",
            "   gtag('config', 'AW-950945448');\n",
            " </script>\n",
            "</html>\n",
            "\n"
          ]
        }
      ]
    },
    {
      "cell_type": "code",
      "source": [],
      "metadata": {
        "id": "M2iji7TtgyoQ"
      },
      "execution_count": null,
      "outputs": []
    },
    {
      "cell_type": "code",
      "source": [
        "from bs4 import BeautifulSoup\n",
        "\n",
        "html = \"\"\"\n",
        "    <html>\n",
        "     <head>\n",
        "         <title>2020 Oscar nominees and winners</title>\n",
        "     </head>\n",
        "     <body>\n",
        "         <h1 id=\"oscar_title\">Oscars 2020</h1>\n",
        "         <p>The biggest cinema awards ceremony took place in February. This year's highlights were:</p>\n",
        "         <ul class=\"highlights\">\n",
        "             <li>Joker</li>\n",
        "             <li>1917</li>\n",
        "             <li>Once Upon a Time in Hollywood</li>\n",
        "             <li>The Irishman</li>\n",
        "         </ul>\n",
        "         <p>See the winners of 3 categories below.</p>\n",
        "         <div>\n",
        "             <div class=\"best-film-category\">\n",
        "                 <h2>Category: best film</h2>\n",
        "                 <ul>\n",
        "                     <li>Ford vs Ferrari</li>\n",
        "                     <li>The Irishman</li>\n",
        "                     <li>JoJo Rabbit</li>\n",
        "                     <li>Joker</li>\n",
        "                     <li>Little Women</li>\n",
        "                     <li>Marriage Story</li>\n",
        "                     <li>1917</li>\n",
        "                     <li>Once Upon a Time in Hollywood</li>\n",
        "                     <li class=\"winner\">Parasite <strong>[WINNER]</strong></li>\n",
        "                 </ul>\n",
        "             </div>\n",
        "             <br>\n",
        "             <div class=\"best-actor-category\">\n",
        "                 <h2>Category: best actor</h2>\n",
        "                 <ul>\n",
        "                     <li>Antonio Banderas - Pain and Glory</li>\n",
        "                     <li>Leonardo DiCaprio - Once Upon a Time In... Hollywood</li>\n",
        "                     <li>Adam Driver - Marriage Story</li>\n",
        "                     <li class=\"winner\">Joaquin Phoenix - Joker <strong>[WINNER]</strong></li>\n",
        "                     <li>Jonathan Price - The Two Popes</li>\n",
        "                 </ul>\n",
        "             </div>\n",
        "             <br>\n",
        "             <div class=\"best-actress-category\">\n",
        "                 <h2>Category: best actress</h2>\n",
        "                 <ul>\n",
        "                     <li>Cythia Erivo - Harriet</li>\n",
        "                     <li>Scarlett Johansson - Marriage Story</li>\n",
        "                     <li>Saoirse Ronan - Little Women</li>\n",
        "                     <li>Charlize Theron - The Scandal</li>\n",
        "                     <li class=\"winner\">Renée Zellweger - Judy: Far Over the Rainbow <strong>[WINNER]</strong></li>\n",
        "                 </ul>\n",
        "             </div>\n",
        "         </div>\n",
        "     </body>\n",
        "</html>\"\"\""
      ],
      "metadata": {
        "id": "xTMmvYMdgzHg"
      },
      "execution_count": null,
      "outputs": []
    },
    {
      "cell_type": "code",
      "source": [
        "soup = BeautifulSoup(html, 'html.parser')\n",
        "print(soup.prettify())"
      ],
      "metadata": {
        "colab": {
          "base_uri": "https://localhost:8080/"
        },
        "id": "NMg4Oz0jg1Db",
        "outputId": "c4a6ff5a-5227-409d-f039-c61e8e35864b"
      },
      "execution_count": null,
      "outputs": [
        {
          "output_type": "stream",
          "name": "stdout",
          "text": [
            "<html>\n",
            " <head>\n",
            "  <title>\n",
            "   2020 Oscar nominees and winners\n",
            "  </title>\n",
            " </head>\n",
            " <body>\n",
            "  <h1 id=\"oscar_title\">\n",
            "   Oscars 2020\n",
            "  </h1>\n",
            "  <p>\n",
            "   The biggest cinema awards ceremony took place in February. This year's highlights were:\n",
            "  </p>\n",
            "  <ul class=\"highlights\">\n",
            "   <li>\n",
            "    Joker\n",
            "   </li>\n",
            "   <li>\n",
            "    1917\n",
            "   </li>\n",
            "   <li>\n",
            "    Once Upon a Time in Hollywood\n",
            "   </li>\n",
            "   <li>\n",
            "    The Irishman\n",
            "   </li>\n",
            "  </ul>\n",
            "  <p>\n",
            "   See the winners of 3 categories below.\n",
            "  </p>\n",
            "  <div>\n",
            "   <div class=\"best-film-category\">\n",
            "    <h2>\n",
            "     Category: best film\n",
            "    </h2>\n",
            "    <ul>\n",
            "     <li>\n",
            "      Ford vs Ferrari\n",
            "     </li>\n",
            "     <li>\n",
            "      The Irishman\n",
            "     </li>\n",
            "     <li>\n",
            "      JoJo Rabbit\n",
            "     </li>\n",
            "     <li>\n",
            "      Joker\n",
            "     </li>\n",
            "     <li>\n",
            "      Little Women\n",
            "     </li>\n",
            "     <li>\n",
            "      Marriage Story\n",
            "     </li>\n",
            "     <li>\n",
            "      1917\n",
            "     </li>\n",
            "     <li>\n",
            "      Once Upon a Time in Hollywood\n",
            "     </li>\n",
            "     <li class=\"winner\">\n",
            "      Parasite\n",
            "      <strong>\n",
            "       [WINNER]\n",
            "      </strong>\n",
            "     </li>\n",
            "    </ul>\n",
            "   </div>\n",
            "   <br/>\n",
            "   <div class=\"best-actor-category\">\n",
            "    <h2>\n",
            "     Category: best actor\n",
            "    </h2>\n",
            "    <ul>\n",
            "     <li>\n",
            "      Antonio Banderas - Pain and Glory\n",
            "     </li>\n",
            "     <li>\n",
            "      Leonardo DiCaprio - Once Upon a Time In... Hollywood\n",
            "     </li>\n",
            "     <li>\n",
            "      Adam Driver - Marriage Story\n",
            "     </li>\n",
            "     <li class=\"winner\">\n",
            "      Joaquin Phoenix - Joker\n",
            "      <strong>\n",
            "       [WINNER]\n",
            "      </strong>\n",
            "     </li>\n",
            "     <li>\n",
            "      Jonathan Price - The Two Popes\n",
            "     </li>\n",
            "    </ul>\n",
            "   </div>\n",
            "   <br/>\n",
            "   <div class=\"best-actress-category\">\n",
            "    <h2>\n",
            "     Category: best actress\n",
            "    </h2>\n",
            "    <ul>\n",
            "     <li>\n",
            "      Cythia Erivo - Harriet\n",
            "     </li>\n",
            "     <li>\n",
            "      Scarlett Johansson - Marriage Story\n",
            "     </li>\n",
            "     <li>\n",
            "      Saoirse Ronan - Little Women\n",
            "     </li>\n",
            "     <li>\n",
            "      Charlize Theron - The Scandal\n",
            "     </li>\n",
            "     <li class=\"winner\">\n",
            "      Renée Zellweger - Judy: Far Over the Rainbow\n",
            "      <strong>\n",
            "       [WINNER]\n",
            "      </strong>\n",
            "     </li>\n",
            "    </ul>\n",
            "   </div>\n",
            "  </div>\n",
            " </body>\n",
            "</html>\n",
            "\n"
          ]
        }
      ]
    },
    {
      "cell_type": "code",
      "source": [
        "print(soup.title)\n",
        "print(soup.title.get_text())"
      ],
      "metadata": {
        "colab": {
          "base_uri": "https://localhost:8080/"
        },
        "id": "V9DARgcug1P1",
        "outputId": "dcbefe15-5b72-4b6a-d208-3cd0cc0ff3e3"
      },
      "execution_count": null,
      "outputs": [
        {
          "output_type": "stream",
          "name": "stdout",
          "text": [
            "<title>2020 Oscar nominees and winners</title>\n",
            "2020 Oscar nominees and winners\n"
          ]
        }
      ]
    },
    {
      "cell_type": "code",
      "source": [
        "print(soup.h2)"
      ],
      "metadata": {
        "colab": {
          "base_uri": "https://localhost:8080/"
        },
        "id": "K5NcVpwThI53",
        "outputId": "4bf9b120-ac79-4220-c873-8297638208bf"
      },
      "execution_count": null,
      "outputs": [
        {
          "output_type": "stream",
          "name": "stdout",
          "text": [
            "<h2>Category: best film</h2>\n"
          ]
        }
      ]
    },
    {
      "cell_type": "code",
      "source": [
        "print(soup.ul.li)"
      ],
      "metadata": {
        "colab": {
          "base_uri": "https://localhost:8080/"
        },
        "id": "DV_Wz2bEhQB6",
        "outputId": "5ec2417c-8a06-4cbe-a041-66f86d30f2ca"
      },
      "execution_count": null,
      "outputs": [
        {
          "output_type": "stream",
          "name": "stdout",
          "text": [
            "<li>Joker</li>\n"
          ]
        }
      ]
    },
    {
      "cell_type": "code",
      "source": [
        "soup.find_all(class_='best-actress-category')[0].find_all('li')"
      ],
      "metadata": {
        "colab": {
          "base_uri": "https://localhost:8080/"
        },
        "id": "XREVOJq2jMXp",
        "outputId": "2dd98797-db2a-4433-f5d2-8564580729a9"
      },
      "execution_count": null,
      "outputs": [
        {
          "output_type": "execute_result",
          "data": {
            "text/plain": [
              "[<li>Cythia Erivo - Harriet</li>,\n",
              " <li>Scarlett Johansson - Marriage Story</li>,\n",
              " <li>Saoirse Ronan - Little Women</li>,\n",
              " <li>Charlize Theron - The Scandal</li>,\n",
              " <li class=\"winner\">Renée Zellweger - Judy: Far Over the Rainbow <strong>[WINNER]</strong></li>]"
            ]
          },
          "metadata": {},
          "execution_count": 46
        }
      ]
    },
    {
      "cell_type": "code",
      "source": [
        "#First actress:\n"
      ],
      "metadata": {
        "id": "JFAYnHfksnpG"
      },
      "execution_count": null,
      "outputs": []
    },
    {
      "cell_type": "code",
      "source": [
        "import requests\n",
        "response = requests.get(\"https://www.scrapethissite.com/pages/simple/\")\n",
        "print(response.text[:100])\n",
        "websoup = BeautifulSoup(response.text, 'html.parser')"
      ],
      "metadata": {
        "colab": {
          "base_uri": "https://localhost:8080/"
        },
        "id": "FUD8VAoGjT5W",
        "outputId": "ca5e7461-0209-454d-a81c-7e00a2c8ebbc"
      },
      "execution_count": null,
      "outputs": [
        {
          "output_type": "stream",
          "name": "stdout",
          "text": [
            "<!doctype html>\n",
            "<html lang=\"en\">\n",
            "  <head>\n",
            "    <meta charset=\"utf-8\">\n",
            "    <title>Countries of the Wor\n"
          ]
        }
      ]
    },
    {
      "cell_type": "code",
      "source": [
        "print(response.text[:100])"
      ],
      "metadata": {
        "colab": {
          "base_uri": "https://localhost:8080/"
        },
        "id": "kAJUJhAJjMhS",
        "outputId": "7316e32a-3a45-4910-ca8a-25e1feac6491"
      },
      "execution_count": null,
      "outputs": [
        {
          "output_type": "stream",
          "name": "stdout",
          "text": [
            "<!doctype html>\n",
            "<html lang=\"en\">\n",
            "  <head>\n",
            "    <meta charset=\"utf-8\">\n",
            "    <title>Countries of the Wor\n"
          ]
        }
      ]
    },
    {
      "cell_type": "code",
      "source": [
        "websoup = BeautifulSoup(response.text, 'html.parser')"
      ],
      "metadata": {
        "id": "j9ucTWyojegl"
      },
      "execution_count": null,
      "outputs": []
    },
    {
      "cell_type": "code",
      "source": [
        "websoup.title"
      ],
      "metadata": {
        "colab": {
          "base_uri": "https://localhost:8080/"
        },
        "id": "c6sxJzkBjhdn",
        "outputId": "e2e15c3a-961b-44ec-df10-e3b7bf677556"
      },
      "execution_count": null,
      "outputs": [
        {
          "output_type": "execute_result",
          "data": {
            "text/plain": [
              "<title>Countries of the World: A Simple Example | Scrape This Site | A public sandbox for learning web scraping</title>"
            ]
          },
          "metadata": {},
          "execution_count": 50
        }
      ]
    },
    {
      "cell_type": "code",
      "source": [
        "countries = websoup.find_all(class_=\"country-name\")\n",
        "countries = [country.get_text().strip() for country in countries]\n",
        "countries[:5]"
      ],
      "metadata": {
        "colab": {
          "base_uri": "https://localhost:8080/"
        },
        "id": "MP4kr8HvjoWM",
        "outputId": "a6ff5a23-85e5-443a-8bf8-00fc48984024"
      },
      "execution_count": null,
      "outputs": [
        {
          "output_type": "execute_result",
          "data": {
            "text/plain": [
              "['Andorra',\n",
              " 'United Arab Emirates',\n",
              " 'Afghanistan',\n",
              " 'Antigua and Barbuda',\n",
              " 'Anguilla']"
            ]
          },
          "metadata": {},
          "execution_count": 51
        }
      ]
    },
    {
      "cell_type": "code",
      "source": [
        "import pandas as pd\n",
        "\n",
        "\n",
        "capitals = websoup.find_all(class_=\"country-capital\")\n",
        "capitals = [capital.get_text().strip() for capital in capitals]\n",
        "capitals[:5]\n"
      ],
      "metadata": {
        "colab": {
          "base_uri": "https://localhost:8080/"
        },
        "id": "kkYavhT8j1Iv",
        "outputId": "a2354084-e5fb-4c92-c293-5cbb078049c7"
      },
      "execution_count": null,
      "outputs": [
        {
          "output_type": "execute_result",
          "data": {
            "text/plain": [
              "['Andorra la Vella', 'Abu Dhabi', 'Kabul', \"St. John's\", 'The Valley']"
            ]
          },
          "metadata": {},
          "execution_count": 52
        }
      ]
    },
    {
      "cell_type": "code",
      "source": [],
      "metadata": {
        "id": "eHeUUWrAskKC"
      },
      "execution_count": null,
      "outputs": []
    },
    {
      "cell_type": "code",
      "source": [
        "areas = websoup.find_all(class_=\"country-area\")\n",
        "areas = [area.get_text().strip() for area in areas]"
      ],
      "metadata": {
        "id": "h4X66uETkAh0"
      },
      "execution_count": null,
      "outputs": []
    },
    {
      "cell_type": "code",
      "source": [
        "data = pd.DataFrame({\n",
        "    \"Country\": countries,\n",
        "    \"Capital\": capitals,\n",
        "    \"Area\": areas\n",
        "})\n",
        "data.head()"
      ],
      "metadata": {
        "colab": {
          "base_uri": "https://localhost:8080/",
          "height": 206
        },
        "id": "R1KTGrnSkJub",
        "outputId": "665f483d-8342-4569-f6ae-d5e0d4100c2c"
      },
      "execution_count": null,
      "outputs": [
        {
          "output_type": "execute_result",
          "data": {
            "text/plain": [
              "                Country           Capital      Area\n",
              "0               Andorra  Andorra la Vella     468.0\n",
              "1  United Arab Emirates         Abu Dhabi   82880.0\n",
              "2           Afghanistan             Kabul  647500.0\n",
              "3   Antigua and Barbuda        St. John's     443.0\n",
              "4              Anguilla        The Valley     102.0"
            ],
            "text/html": [
              "\n",
              "  <div id=\"df-c5c79e4a-3a49-4517-9787-060cf7fdecc2\" class=\"colab-df-container\">\n",
              "    <div>\n",
              "<style scoped>\n",
              "    .dataframe tbody tr th:only-of-type {\n",
              "        vertical-align: middle;\n",
              "    }\n",
              "\n",
              "    .dataframe tbody tr th {\n",
              "        vertical-align: top;\n",
              "    }\n",
              "\n",
              "    .dataframe thead th {\n",
              "        text-align: right;\n",
              "    }\n",
              "</style>\n",
              "<table border=\"1\" class=\"dataframe\">\n",
              "  <thead>\n",
              "    <tr style=\"text-align: right;\">\n",
              "      <th></th>\n",
              "      <th>Country</th>\n",
              "      <th>Capital</th>\n",
              "      <th>Area</th>\n",
              "    </tr>\n",
              "  </thead>\n",
              "  <tbody>\n",
              "    <tr>\n",
              "      <th>0</th>\n",
              "      <td>Andorra</td>\n",
              "      <td>Andorra la Vella</td>\n",
              "      <td>468.0</td>\n",
              "    </tr>\n",
              "    <tr>\n",
              "      <th>1</th>\n",
              "      <td>United Arab Emirates</td>\n",
              "      <td>Abu Dhabi</td>\n",
              "      <td>82880.0</td>\n",
              "    </tr>\n",
              "    <tr>\n",
              "      <th>2</th>\n",
              "      <td>Afghanistan</td>\n",
              "      <td>Kabul</td>\n",
              "      <td>647500.0</td>\n",
              "    </tr>\n",
              "    <tr>\n",
              "      <th>3</th>\n",
              "      <td>Antigua and Barbuda</td>\n",
              "      <td>St. John's</td>\n",
              "      <td>443.0</td>\n",
              "    </tr>\n",
              "    <tr>\n",
              "      <th>4</th>\n",
              "      <td>Anguilla</td>\n",
              "      <td>The Valley</td>\n",
              "      <td>102.0</td>\n",
              "    </tr>\n",
              "  </tbody>\n",
              "</table>\n",
              "</div>\n",
              "    <div class=\"colab-df-buttons\">\n",
              "\n",
              "  <div class=\"colab-df-container\">\n",
              "    <button class=\"colab-df-convert\" onclick=\"convertToInteractive('df-c5c79e4a-3a49-4517-9787-060cf7fdecc2')\"\n",
              "            title=\"Convert this dataframe to an interactive table.\"\n",
              "            style=\"display:none;\">\n",
              "\n",
              "  <svg xmlns=\"http://www.w3.org/2000/svg\" height=\"24px\" viewBox=\"0 -960 960 960\">\n",
              "    <path d=\"M120-120v-720h720v720H120Zm60-500h600v-160H180v160Zm220 220h160v-160H400v160Zm0 220h160v-160H400v160ZM180-400h160v-160H180v160Zm440 0h160v-160H620v160ZM180-180h160v-160H180v160Zm440 0h160v-160H620v160Z\"/>\n",
              "  </svg>\n",
              "    </button>\n",
              "\n",
              "  <style>\n",
              "    .colab-df-container {\n",
              "      display:flex;\n",
              "      gap: 12px;\n",
              "    }\n",
              "\n",
              "    .colab-df-convert {\n",
              "      background-color: #E8F0FE;\n",
              "      border: none;\n",
              "      border-radius: 50%;\n",
              "      cursor: pointer;\n",
              "      display: none;\n",
              "      fill: #1967D2;\n",
              "      height: 32px;\n",
              "      padding: 0 0 0 0;\n",
              "      width: 32px;\n",
              "    }\n",
              "\n",
              "    .colab-df-convert:hover {\n",
              "      background-color: #E2EBFA;\n",
              "      box-shadow: 0px 1px 2px rgba(60, 64, 67, 0.3), 0px 1px 3px 1px rgba(60, 64, 67, 0.15);\n",
              "      fill: #174EA6;\n",
              "    }\n",
              "\n",
              "    .colab-df-buttons div {\n",
              "      margin-bottom: 4px;\n",
              "    }\n",
              "\n",
              "    [theme=dark] .colab-df-convert {\n",
              "      background-color: #3B4455;\n",
              "      fill: #D2E3FC;\n",
              "    }\n",
              "\n",
              "    [theme=dark] .colab-df-convert:hover {\n",
              "      background-color: #434B5C;\n",
              "      box-shadow: 0px 1px 3px 1px rgba(0, 0, 0, 0.15);\n",
              "      filter: drop-shadow(0px 1px 2px rgba(0, 0, 0, 0.3));\n",
              "      fill: #FFFFFF;\n",
              "    }\n",
              "  </style>\n",
              "\n",
              "    <script>\n",
              "      const buttonEl =\n",
              "        document.querySelector('#df-c5c79e4a-3a49-4517-9787-060cf7fdecc2 button.colab-df-convert');\n",
              "      buttonEl.style.display =\n",
              "        google.colab.kernel.accessAllowed ? 'block' : 'none';\n",
              "\n",
              "      async function convertToInteractive(key) {\n",
              "        const element = document.querySelector('#df-c5c79e4a-3a49-4517-9787-060cf7fdecc2');\n",
              "        const dataTable =\n",
              "          await google.colab.kernel.invokeFunction('convertToInteractive',\n",
              "                                                    [key], {});\n",
              "        if (!dataTable) return;\n",
              "\n",
              "        const docLinkHtml = 'Like what you see? Visit the ' +\n",
              "          '<a target=\"_blank\" href=https://colab.research.google.com/notebooks/data_table.ipynb>data table notebook</a>'\n",
              "          + ' to learn more about interactive tables.';\n",
              "        element.innerHTML = '';\n",
              "        dataTable['output_type'] = 'display_data';\n",
              "        await google.colab.output.renderOutput(dataTable, element);\n",
              "        const docLink = document.createElement('div');\n",
              "        docLink.innerHTML = docLinkHtml;\n",
              "        element.appendChild(docLink);\n",
              "      }\n",
              "    </script>\n",
              "  </div>\n",
              "\n",
              "\n",
              "    <div id=\"df-f8809fe6-e185-4a5a-8bcd-6eaeace138fc\">\n",
              "      <button class=\"colab-df-quickchart\" onclick=\"quickchart('df-f8809fe6-e185-4a5a-8bcd-6eaeace138fc')\"\n",
              "                title=\"Suggest charts\"\n",
              "                style=\"display:none;\">\n",
              "\n",
              "<svg xmlns=\"http://www.w3.org/2000/svg\" height=\"24px\"viewBox=\"0 0 24 24\"\n",
              "     width=\"24px\">\n",
              "    <g>\n",
              "        <path d=\"M19 3H5c-1.1 0-2 .9-2 2v14c0 1.1.9 2 2 2h14c1.1 0 2-.9 2-2V5c0-1.1-.9-2-2-2zM9 17H7v-7h2v7zm4 0h-2V7h2v10zm4 0h-2v-4h2v4z\"/>\n",
              "    </g>\n",
              "</svg>\n",
              "      </button>\n",
              "\n",
              "<style>\n",
              "  .colab-df-quickchart {\n",
              "      --bg-color: #E8F0FE;\n",
              "      --fill-color: #1967D2;\n",
              "      --hover-bg-color: #E2EBFA;\n",
              "      --hover-fill-color: #174EA6;\n",
              "      --disabled-fill-color: #AAA;\n",
              "      --disabled-bg-color: #DDD;\n",
              "  }\n",
              "\n",
              "  [theme=dark] .colab-df-quickchart {\n",
              "      --bg-color: #3B4455;\n",
              "      --fill-color: #D2E3FC;\n",
              "      --hover-bg-color: #434B5C;\n",
              "      --hover-fill-color: #FFFFFF;\n",
              "      --disabled-bg-color: #3B4455;\n",
              "      --disabled-fill-color: #666;\n",
              "  }\n",
              "\n",
              "  .colab-df-quickchart {\n",
              "    background-color: var(--bg-color);\n",
              "    border: none;\n",
              "    border-radius: 50%;\n",
              "    cursor: pointer;\n",
              "    display: none;\n",
              "    fill: var(--fill-color);\n",
              "    height: 32px;\n",
              "    padding: 0;\n",
              "    width: 32px;\n",
              "  }\n",
              "\n",
              "  .colab-df-quickchart:hover {\n",
              "    background-color: var(--hover-bg-color);\n",
              "    box-shadow: 0 1px 2px rgba(60, 64, 67, 0.3), 0 1px 3px 1px rgba(60, 64, 67, 0.15);\n",
              "    fill: var(--button-hover-fill-color);\n",
              "  }\n",
              "\n",
              "  .colab-df-quickchart-complete:disabled,\n",
              "  .colab-df-quickchart-complete:disabled:hover {\n",
              "    background-color: var(--disabled-bg-color);\n",
              "    fill: var(--disabled-fill-color);\n",
              "    box-shadow: none;\n",
              "  }\n",
              "\n",
              "  .colab-df-spinner {\n",
              "    border: 2px solid var(--fill-color);\n",
              "    border-color: transparent;\n",
              "    border-bottom-color: var(--fill-color);\n",
              "    animation:\n",
              "      spin 1s steps(1) infinite;\n",
              "  }\n",
              "\n",
              "  @keyframes spin {\n",
              "    0% {\n",
              "      border-color: transparent;\n",
              "      border-bottom-color: var(--fill-color);\n",
              "      border-left-color: var(--fill-color);\n",
              "    }\n",
              "    20% {\n",
              "      border-color: transparent;\n",
              "      border-left-color: var(--fill-color);\n",
              "      border-top-color: var(--fill-color);\n",
              "    }\n",
              "    30% {\n",
              "      border-color: transparent;\n",
              "      border-left-color: var(--fill-color);\n",
              "      border-top-color: var(--fill-color);\n",
              "      border-right-color: var(--fill-color);\n",
              "    }\n",
              "    40% {\n",
              "      border-color: transparent;\n",
              "      border-right-color: var(--fill-color);\n",
              "      border-top-color: var(--fill-color);\n",
              "    }\n",
              "    60% {\n",
              "      border-color: transparent;\n",
              "      border-right-color: var(--fill-color);\n",
              "    }\n",
              "    80% {\n",
              "      border-color: transparent;\n",
              "      border-right-color: var(--fill-color);\n",
              "      border-bottom-color: var(--fill-color);\n",
              "    }\n",
              "    90% {\n",
              "      border-color: transparent;\n",
              "      border-bottom-color: var(--fill-color);\n",
              "    }\n",
              "  }\n",
              "</style>\n",
              "\n",
              "      <script>\n",
              "        async function quickchart(key) {\n",
              "          const quickchartButtonEl =\n",
              "            document.querySelector('#' + key + ' button');\n",
              "          quickchartButtonEl.disabled = true;  // To prevent multiple clicks.\n",
              "          quickchartButtonEl.classList.add('colab-df-spinner');\n",
              "          try {\n",
              "            const charts = await google.colab.kernel.invokeFunction(\n",
              "                'suggestCharts', [key], {});\n",
              "          } catch (error) {\n",
              "            console.error('Error during call to suggestCharts:', error);\n",
              "          }\n",
              "          quickchartButtonEl.classList.remove('colab-df-spinner');\n",
              "          quickchartButtonEl.classList.add('colab-df-quickchart-complete');\n",
              "        }\n",
              "        (() => {\n",
              "          let quickchartButtonEl =\n",
              "            document.querySelector('#df-f8809fe6-e185-4a5a-8bcd-6eaeace138fc button');\n",
              "          quickchartButtonEl.style.display =\n",
              "            google.colab.kernel.accessAllowed ? 'block' : 'none';\n",
              "        })();\n",
              "      </script>\n",
              "    </div>\n",
              "\n",
              "    </div>\n",
              "  </div>\n"
            ],
            "application/vnd.google.colaboratory.intrinsic+json": {
              "type": "dataframe",
              "variable_name": "data",
              "summary": "{\n  \"name\": \"data\",\n  \"rows\": 250,\n  \"fields\": [\n    {\n      \"column\": \"Country\",\n      \"properties\": {\n        \"dtype\": \"string\",\n        \"num_unique_values\": 250,\n        \"samples\": [\n          \"Marshall Islands\",\n          \"Armenia\",\n          \"Croatia\"\n        ],\n        \"semantic_type\": \"\",\n        \"description\": \"\"\n      }\n    },\n    {\n      \"column\": \"Capital\",\n      \"properties\": {\n        \"dtype\": \"string\",\n        \"num_unique_values\": 242,\n        \"samples\": [\n          \"Porto-Novo\",\n          \"Yerevan\",\n          \"Mexico City\"\n        ],\n        \"semantic_type\": \"\",\n        \"description\": \"\"\n      }\n    },\n    {\n      \"column\": \"Area\",\n      \"properties\": {\n        \"dtype\": \"string\",\n        \"num_unique_values\": 246,\n        \"samples\": [\n          \"49.0\",\n          \"29800.0\",\n          \"458.0\"\n        ],\n        \"semantic_type\": \"\",\n        \"description\": \"\"\n      }\n    }\n  ]\n}"
            }
          },
          "metadata": {},
          "execution_count": 54
        }
      ]
    }
  ]
}
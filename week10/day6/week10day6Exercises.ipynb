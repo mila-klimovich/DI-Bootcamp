{
  "nbformat": 4,
  "nbformat_minor": 0,
  "metadata": {
    "colab": {
      "provenance": []
    },
    "kernelspec": {
      "name": "python3",
      "display_name": "Python 3"
    },
    "language_info": {
      "name": "python"
    }
  },
  "cells": [
    {
      "cell_type": "code",
      "execution_count": 1,
      "metadata": {
        "colab": {
          "base_uri": "https://localhost:8080/"
        },
        "id": "Ut8pm29S2TyT",
        "outputId": "3503b921-c1a1-4c90-f6b1-f138ffab9ef3"
      },
      "outputs": [
        {
          "output_type": "stream",
          "name": "stdout",
          "text": [
            "Created 1D array:\n",
            "[0 1 2 3 4 5 6 7 8 9]\n"
          ]
        }
      ],
      "source": [
        "import numpy as np\n",
        "\n",
        "# Create a 1D array with numbers from 0 to 9\n",
        "arr = np.arange(10)\n",
        "\n",
        "print(\"Created 1D array:\")\n",
        "print(arr)"
      ]
    },
    {
      "cell_type": "code",
      "source": [
        "# Original list\n",
        "lst = [3.14, 2.17, 0, 1, 2]\n",
        "\n",
        "# Convert to NumPy array and change data type to integer\n",
        "arr = np.array(lst, dtype=int)\n",
        "\n",
        "print(\"Converted array with integer data type:\")\n",
        "print(arr)"
      ],
      "metadata": {
        "colab": {
          "base_uri": "https://localhost:8080/"
        },
        "id": "SI9EMbZ82ttU",
        "outputId": "1458cdeb-c512-4761-aad8-65bb39499380"
      },
      "execution_count": 3,
      "outputs": [
        {
          "output_type": "stream",
          "name": "stdout",
          "text": [
            "Converted array with integer data type:\n",
            "[3 2 0 1 2]\n"
          ]
        }
      ]
    },
    {
      "cell_type": "code",
      "source": [
        "# Create a 3x3 array with values from 1 to 9\n",
        "arr = np.arange(1, 10).reshape(3, 3)\n",
        "\n",
        "print(\"3x3 array:\")\n",
        "print(arr)\n"
      ],
      "metadata": {
        "colab": {
          "base_uri": "https://localhost:8080/"
        },
        "id": "emfyGbea2twW",
        "outputId": "93b54962-557a-4f2f-d761-395c1eac41e2"
      },
      "execution_count": 4,
      "outputs": [
        {
          "output_type": "stream",
          "name": "stdout",
          "text": [
            "3x3 array:\n",
            "[[1 2 3]\n",
            " [4 5 6]\n",
            " [7 8 9]]\n"
          ]
        }
      ]
    },
    {
      "cell_type": "code",
      "source": [
        "# Create a 2D array of shape (4, 5) with random float numbers between 0 and 1\n",
        "arr = np.random.rand(4, 5)\n",
        "\n",
        "# Optional: round the numbers for better readability\n",
        "arr = np.round(arr, 2)\n",
        "\n",
        "print(\"Random 4x5 array:\")\n",
        "print(arr)"
      ],
      "metadata": {
        "colab": {
          "base_uri": "https://localhost:8080/"
        },
        "id": "iGEt_dlp2tz_",
        "outputId": "31bd3d46-6bd9-4f12-e0a8-0af08109d95c"
      },
      "execution_count": 6,
      "outputs": [
        {
          "output_type": "stream",
          "name": "stdout",
          "text": [
            "Random 4x5 array:\n",
            "[[0.25 0.03 0.93 0.72 0.11]\n",
            " [0.39 0.86 0.62 0.84 0.86]\n",
            " [0.43 0.58 0.77 0.52 0.17]\n",
            " [0.75 0.17 0.51 1.   0.74]]\n"
          ]
        }
      ]
    },
    {
      "cell_type": "code",
      "source": [
        "# Given 2D array\n",
        "array = np.array([\n",
        "    [21, 22, 23, 22, 22],\n",
        "    [20, 21, 22, 23, 24],\n",
        "    [21, 22, 23, 22, 22]\n",
        "])\n",
        "\n",
        "# Select the second row (index 1)\n",
        "second_row = array[1]\n",
        "\n",
        "print(\"Second row of the array:\")\n",
        "print(second_row)\n"
      ],
      "metadata": {
        "colab": {
          "base_uri": "https://localhost:8080/"
        },
        "id": "P61YPJQa2t3q",
        "outputId": "d52548a2-ea1b-46e5-c76f-3eb7f533f845"
      },
      "execution_count": 7,
      "outputs": [
        {
          "output_type": "stream",
          "name": "stdout",
          "text": [
            "Second row of the array:\n",
            "[20 21 22 23 24]\n"
          ]
        }
      ]
    },
    {
      "cell_type": "code",
      "source": [
        "# Create the original 1D array\n",
        "arr = np.arange(10)\n",
        "\n",
        "# Reverse the array using slicing\n",
        "reversed_arr = arr[::-1]\n",
        "\n",
        "print(\"Reversed array:\")\n",
        "print(reversed_arr)\n"
      ],
      "metadata": {
        "colab": {
          "base_uri": "https://localhost:8080/"
        },
        "id": "YQrsJj472t7Q",
        "outputId": "43b4b77a-0c3b-4e7b-c0bb-affb64c66639"
      },
      "execution_count": 8,
      "outputs": [
        {
          "output_type": "stream",
          "name": "stdout",
          "text": [
            "Reversed array:\n",
            "[9 8 7 6 5 4 3 2 1 0]\n"
          ]
        }
      ]
    },
    {
      "cell_type": "code",
      "source": [
        "identity_matrix = np.identity(4)\n",
        "print(identity_matrix)"
      ],
      "metadata": {
        "colab": {
          "base_uri": "https://localhost:8080/"
        },
        "id": "-0Poi1BE2uMb",
        "outputId": "50e60892-1763-4362-c685-66bb50357768"
      },
      "execution_count": 9,
      "outputs": [
        {
          "output_type": "stream",
          "name": "stdout",
          "text": [
            "[[1. 0. 0. 0.]\n",
            " [0. 1. 0. 0.]\n",
            " [0. 0. 1. 0.]\n",
            " [0. 0. 0. 1.]]\n"
          ]
        }
      ]
    },
    {
      "cell_type": "code",
      "source": [
        "arr = np.array([0, 1, 2, 3, 4, 5, 6, 7, 8, 9])\n",
        "\n",
        "total_sum = np.sum(arr)\n",
        "average = np.mean(arr)\n",
        "\n",
        "print(f\"Sum: {total_sum}, Average: {average}\")"
      ],
      "metadata": {
        "colab": {
          "base_uri": "https://localhost:8080/"
        },
        "id": "I7sUHqgv4E5H",
        "outputId": "22d83ce9-a6e7-401c-81cf-0c447c8447c8"
      },
      "execution_count": 11,
      "outputs": [
        {
          "output_type": "stream",
          "name": "stdout",
          "text": [
            "Sum: 45, Average: 4.5\n"
          ]
        }
      ]
    },
    {
      "cell_type": "code",
      "source": [
        "arr = np.arange(1, 21)       # Создаём массив от 1 до 20 включительно\n",
        "reshaped_arr = arr.reshape(4, 5)  # Меняем форму на 4 строки и 5 столбцов\n",
        "\n",
        "print(reshaped_arr)"
      ],
      "metadata": {
        "colab": {
          "base_uri": "https://localhost:8080/"
        },
        "id": "lIOxOIPI4E8H",
        "outputId": "54a3b70e-2e80-415f-9a6f-c887169acc0a"
      },
      "execution_count": 12,
      "outputs": [
        {
          "output_type": "stream",
          "name": "stdout",
          "text": [
            "[[ 1  2  3  4  5]\n",
            " [ 6  7  8  9 10]\n",
            " [11 12 13 14 15]\n",
            " [16 17 18 19 20]]\n"
          ]
        }
      ]
    },
    {
      "cell_type": "code",
      "source": [
        "arr = np.array([1, 2, 3, 4, 5, 6, 7, 8, 9, 10])\n",
        "\n",
        "odd_numbers = arr[arr % 2 == 1]\n",
        "\n",
        "print(odd_numbers)"
      ],
      "metadata": {
        "colab": {
          "base_uri": "https://localhost:8080/"
        },
        "id": "fA5cpstd4e1L",
        "outputId": "07d45034-78d9-44fd-de4b-28ff650c0eae"
      },
      "execution_count": 13,
      "outputs": [
        {
          "output_type": "stream",
          "name": "stdout",
          "text": [
            "[1 3 5 7 9]\n"
          ]
        }
      ]
    },
    {
      "cell_type": "code",
      "source": [],
      "metadata": {
        "id": "S2HBiMMY4e3z"
      },
      "execution_count": null,
      "outputs": []
    },
    {
      "cell_type": "code",
      "source": [],
      "metadata": {
        "id": "pCobjuuV4e7e"
      },
      "execution_count": null,
      "outputs": []
    },
    {
      "cell_type": "code",
      "source": [],
      "metadata": {
        "id": "4aCgR6Ck4FFF"
      },
      "execution_count": null,
      "outputs": []
    }
  ]
}
{
  "nbformat": 4,
  "nbformat_minor": 0,
  "metadata": {
    "colab": {
      "provenance": []
    },
    "kernelspec": {
      "name": "python3",
      "display_name": "Python 3"
    },
    "language_info": {
      "name": "python"
    }
  },
  "cells": [
    {
      "cell_type": "code",
      "execution_count": 1,
      "metadata": {
        "colab": {
          "base_uri": "https://localhost:8080/"
        },
        "id": "drcf72gimlYd",
        "outputId": "fcf98386-6ccd-4ab8-9e98-f48e59922c7c"
      },
      "outputs": [
        {
          "output_type": "stream",
          "name": "stdout",
          "text": [
            "Requirement already satisfied: numpy in /usr/local/lib/python3.11/dist-packages (2.0.2)\n"
          ]
        }
      ],
      "source": [
        "!pip install numpy"
      ]
    },
    {
      "cell_type": "code",
      "source": [
        "import numpy as np"
      ],
      "metadata": {
        "id": "9FGW8CEem5nI"
      },
      "execution_count": 2,
      "outputs": []
    },
    {
      "cell_type": "code",
      "source": [
        "print(np.__version__)"
      ],
      "metadata": {
        "colab": {
          "base_uri": "https://localhost:8080/"
        },
        "id": "GtraQMxvm5s1",
        "outputId": "b9d4f40a-70f8-4f3e-8148-d3b1462366ba"
      },
      "execution_count": 3,
      "outputs": [
        {
          "output_type": "stream",
          "name": "stdout",
          "text": [
            "2.0.2\n"
          ]
        }
      ]
    },
    {
      "cell_type": "code",
      "source": [
        "import numpy as np\n",
        "\n",
        "# Creating a 1D NumPy array\n",
        "array_1d = np.array([1, 2, 3, 4])\n",
        "print(\"1D Array:\", array_1d)\n",
        "\n",
        "# Creating a 2D NumPy array\n",
        "array_2d = np.array([[1, 2, 3], [4, 5, 6]])\n",
        "print(\"\\n2D Array:\\n\", array_2d)\n",
        "\n",
        "array_3d = np.array([[[1, 2], [3, 4]], [[5, 6], [7, 8]]])\n",
        "print(\"\\n3D Array:\\n\", array_3d)"
      ],
      "metadata": {
        "colab": {
          "base_uri": "https://localhost:8080/"
        },
        "id": "UFg_oamjm52E",
        "outputId": "458629d3-0a87-4a6c-f765-6813cd57fb35"
      },
      "execution_count": 4,
      "outputs": [
        {
          "output_type": "stream",
          "name": "stdout",
          "text": [
            "1D Array: [1 2 3 4]\n",
            "\n",
            "2D Array:\n",
            " [[1 2 3]\n",
            " [4 5 6]]\n",
            "\n",
            "3D Array:\n",
            " [[[1 2]\n",
            "  [3 4]]\n",
            "\n",
            " [[5 6]\n",
            "  [7 8]]]\n"
          ]
        }
      ]
    },
    {
      "cell_type": "code",
      "source": [
        "# Array attributes\n",
        "print(\"Shape:\", array_2d.shape)  # Expected Output: Shape: (2, 3) - 2 rows and 3 columns\n",
        "print(\"Size:\", array_2d.size)   # Expected Output: Size: 6 - Total 6 elements\n",
        "print(\"Data Type:\", array_2d.dtype)  # Expected Output: Data Type: int64 (or similar, depending on system)"
      ],
      "metadata": {
        "colab": {
          "base_uri": "https://localhost:8080/"
        },
        "id": "PZKTrmeAm57J",
        "outputId": "6852f09e-04b1-496e-fa9d-704fd65742a5"
      },
      "execution_count": 5,
      "outputs": [
        {
          "output_type": "stream",
          "name": "stdout",
          "text": [
            "Shape: (2, 3)\n",
            "Size: 6\n",
            "Data Type: int64\n"
          ]
        }
      ]
    },
    {
      "cell_type": "code",
      "source": [
        "array_1d = np.array([1, 2, 3, 4])\n",
        "# Output: 1D Array: [1 2 3 4], Shape: (4,), Size: 4\n",
        "array_1d"
      ],
      "metadata": {
        "colab": {
          "base_uri": "https://localhost:8080/"
        },
        "id": "eOgwz0scoAaX",
        "outputId": "c64e3777-9161-4b97-a7f0-5698fc0ecc1d"
      },
      "execution_count": 6,
      "outputs": [
        {
          "output_type": "execute_result",
          "data": {
            "text/plain": [
              "array([1, 2, 3, 4])"
            ]
          },
          "metadata": {},
          "execution_count": 6
        }
      ]
    },
    {
      "cell_type": "code",
      "source": [
        "array_2d = np.array([[1, 2, 3], [4, 5, 6]])\n",
        "array_2d\n",
        "# Shape: (2, 3), Size: 6"
      ],
      "metadata": {
        "colab": {
          "base_uri": "https://localhost:8080/"
        },
        "id": "RYqrwzuloAhF",
        "outputId": "9f877bf5-bdb3-43bd-809e-01bacec8e69f"
      },
      "execution_count": 7,
      "outputs": [
        {
          "output_type": "execute_result",
          "data": {
            "text/plain": [
              "array([[1, 2, 3],\n",
              "       [4, 5, 6]])"
            ]
          },
          "metadata": {},
          "execution_count": 7
        }
      ]
    },
    {
      "cell_type": "code",
      "source": [
        "array_3d = np.array([[[1, 2], [3, 4]], [[5, 6], [7, 8]]])\n",
        "array_3d\n",
        "# Shape: (2, 2, 2), Size: 8"
      ],
      "metadata": {
        "colab": {
          "base_uri": "https://localhost:8080/"
        },
        "id": "tuSdpw9vpXay",
        "outputId": "4ec90d18-b80b-4068-8468-0f966d5aa805"
      },
      "execution_count": 8,
      "outputs": [
        {
          "output_type": "execute_result",
          "data": {
            "text/plain": [
              "array([[[1, 2],\n",
              "        [3, 4]],\n",
              "\n",
              "       [[5, 6],\n",
              "        [7, 8]]])"
            ]
          },
          "metadata": {},
          "execution_count": 8
        }
      ]
    },
    {
      "cell_type": "code",
      "source": [
        "np.zeros((3, 2))  # 3 rows, 2 columns"
      ],
      "metadata": {
        "colab": {
          "base_uri": "https://localhost:8080/"
        },
        "id": "8JTJw4CipXdm",
        "outputId": "bcb4635c-5662-49da-9cba-fb8cc7e518d5"
      },
      "execution_count": 9,
      "outputs": [
        {
          "output_type": "execute_result",
          "data": {
            "text/plain": [
              "array([[0., 0.],\n",
              "       [0., 0.],\n",
              "       [0., 0.]])"
            ]
          },
          "metadata": {},
          "execution_count": 9
        }
      ]
    },
    {
      "cell_type": "code",
      "source": [
        "np.ones((2, 3))"
      ],
      "metadata": {
        "colab": {
          "base_uri": "https://localhost:8080/"
        },
        "id": "sVrvgAMUpXj-",
        "outputId": "a4b10af4-dfcb-4927-a9e3-4e63ca6305a7"
      },
      "execution_count": 10,
      "outputs": [
        {
          "output_type": "execute_result",
          "data": {
            "text/plain": [
              "array([[1., 1., 1.],\n",
              "       [1., 1., 1.]])"
            ]
          },
          "metadata": {},
          "execution_count": 10
        }
      ]
    },
    {
      "cell_type": "code",
      "source": [
        "np.zeros((2, 3), dtype=int) #np.array([1, 2, 3], dtype=float) #np.zeros((2, 3), dtype=np.float64)\n",
        "#arr.astype(int)"
      ],
      "metadata": {
        "colab": {
          "base_uri": "https://localhost:8080/"
        },
        "id": "BYArfGz4pXpK",
        "outputId": "feb7cea2-f48e-4f71-a575-2e20a4a1bb6d"
      },
      "execution_count": 11,
      "outputs": [
        {
          "output_type": "execute_result",
          "data": {
            "text/plain": [
              "array([[0, 0, 0],\n",
              "       [0, 0, 0]])"
            ]
          },
          "metadata": {},
          "execution_count": 11
        }
      ]
    },
    {
      "cell_type": "code",
      "source": [
        "random_array_2d = np.random.randint(1, 11, size=(2, 5))\n",
        "print(\"\\n2D Random Array (2x5):\\n\", random_array_2d)\n",
        "print(\"Shape:\", random_array_2d.shape)"
      ],
      "metadata": {
        "colab": {
          "base_uri": "https://localhost:8080/"
        },
        "id": "K35dBkl9pXth",
        "outputId": "8e803fa9-e6e9-449b-af62-4fa5c0eb63b6"
      },
      "execution_count": 12,
      "outputs": [
        {
          "output_type": "stream",
          "name": "stdout",
          "text": [
            "\n",
            "2D Random Array (2x5):\n",
            " [[6 6 6 3 5]\n",
            " [2 8 2 7 7]]\n",
            "Shape: (2, 5)\n"
          ]
        }
      ]
    },
    {
      "cell_type": "code",
      "source": [
        "pixels = np.random.randint(0, 256, size=(3, 3, 3))\n",
        "print(\"\\n3D Pixel Array (Image - 3x3 pixels, RGB):\\n\", pixels)\n",
        "print(\"Shape:\", pixels.shape)"
      ],
      "metadata": {
        "colab": {
          "base_uri": "https://localhost:8080/"
        },
        "id": "x-V9XJbfoAqi",
        "outputId": "c5ed9034-6782-4a14-9e29-ba78ac1b896b"
      },
      "execution_count": 13,
      "outputs": [
        {
          "output_type": "stream",
          "name": "stdout",
          "text": [
            "\n",
            "3D Pixel Array (Image - 3x3 pixels, RGB):\n",
            " [[[167 168  99]\n",
            "  [ 69 105 216]\n",
            "  [143  38 224]]\n",
            "\n",
            " [[112 224 121]\n",
            "  [124 167  70]\n",
            "  [235 150 195]]\n",
            "\n",
            " [[218 192 119]\n",
            "  [164 221  43]\n",
            "  [177 228 255]]]\n",
            "Shape: (3, 3, 3)\n"
          ]
        }
      ]
    },
    {
      "cell_type": "code",
      "source": [
        "# Example 2D array\n",
        "array_2d = np.array([[1, 2, 3], [4, 5, 6], [7, 8, 9]])\n",
        "\n",
        "# Accessing a single element\n",
        "print(\"Element at row 1, column 2:\", array_2d[1, 2])  # Output: 6\n",
        "\n",
        "# Accessing a row\n",
        "print(\"Second row:\", array_2d[1, :])  # Output: [4 5 6]\n",
        "\n",
        "# Accessing a column\n",
        "print(\"Third column:\", array_2d[:, 2])  # Output: [3 6 9]"
      ],
      "metadata": {
        "colab": {
          "base_uri": "https://localhost:8080/"
        },
        "id": "oXTrcy7Bqmk3",
        "outputId": "1094df1c-5ac3-465e-d4af-ffc987a5e315"
      },
      "execution_count": 14,
      "outputs": [
        {
          "output_type": "stream",
          "name": "stdout",
          "text": [
            "Element at row 1, column 2: 6\n",
            "Second row: [4 5 6]\n",
            "Third column: [3 6 9]\n"
          ]
        }
      ]
    },
    {
      "cell_type": "code",
      "source": [
        "# Example 2D array\n",
        "array_2d = np.array([[1, 2, 3], [4, 5, 6], [7, 8, 9]])\n",
        "\n",
        "# Slicing a portion of the array\n",
        "print(\"Slice of the array:\", array_2d[0:2, 1:3])  # Output: [[2 3] [5 6]]"
      ],
      "metadata": {
        "colab": {
          "base_uri": "https://localhost:8080/"
        },
        "id": "xO7T_60Cqmpn",
        "outputId": "0ef93d26-1681-4e4f-95f3-a1995dcfb10a"
      },
      "execution_count": 15,
      "outputs": [
        {
          "output_type": "stream",
          "name": "stdout",
          "text": [
            "Slice of the array: [[2 3]\n",
            " [5 6]]\n"
          ]
        }
      ]
    },
    {
      "cell_type": "code",
      "source": [
        "# Example array\n",
        "array = np.array([[1, 2], [3, 4], [5, 6]])\n",
        "\n",
        "# Boolean indexing\n",
        "result = array[array > 3]\n",
        "print(\"Result of Boolean Indexing:\", result)  # Output: [4 5 6], a 1D array"
      ],
      "metadata": {
        "colab": {
          "base_uri": "https://localhost:8080/"
        },
        "id": "ISm460sEqmr2",
        "outputId": "d0def3e9-5e9f-49af-beec-f397c73a21af"
      },
      "execution_count": 16,
      "outputs": [
        {
          "output_type": "stream",
          "name": "stdout",
          "text": [
            "Result of Boolean Indexing: [4 5 6]\n"
          ]
        }
      ]
    },
    {
      "cell_type": "code",
      "source": [
        "# Creating a sample array\n",
        "array = np.array([10, 20, 30, 40, 50])\n",
        "\n",
        "# Indexing (accessing a single element)\n",
        "print(\"First element:\", array[0])\n",
        "\n",
        "# Slicing (accessing multiple elements)\n",
        "print(\"First three elements:\", array[:3])"
      ],
      "metadata": {
        "colab": {
          "base_uri": "https://localhost:8080/"
        },
        "id": "6SdtjEkqqmts",
        "outputId": "f83a9ec8-3ea5-48b5-ad59-9c11582a2a1e"
      },
      "execution_count": 17,
      "outputs": [
        {
          "output_type": "stream",
          "name": "stdout",
          "text": [
            "First element: 10\n",
            "First three elements: [10 20 30]\n"
          ]
        }
      ]
    },
    {
      "cell_type": "code",
      "source": [
        "# Boolean indexing\n",
        "print(\"Elements greater than 25:\", array[array > 25])\n",
        "\n",
        "# Fancy indexing (using a list of indices)\n",
        "print(\"Select specific elements:\", array[[1, 3]])"
      ],
      "metadata": {
        "colab": {
          "base_uri": "https://localhost:8080/"
        },
        "id": "8IOIEJObqmwC",
        "outputId": "d13082b9-c7cb-435a-b3a9-46153758fd08"
      },
      "execution_count": 18,
      "outputs": [
        {
          "output_type": "stream",
          "name": "stdout",
          "text": [
            "Elements greater than 25: [30 40 50]\n",
            "Select specific elements: [20 40]\n"
          ]
        }
      ]
    },
    {
      "cell_type": "code",
      "source": [
        "# 1. Basic Indexing: Create an array of 10 elements\n",
        "arr = np.arange(10)  # [0 1 2 3 4 5 6 7 8 9]\n",
        "\n",
        "# Access the 5th element (index 4)\n",
        "fifth_element = arr[4]\n",
        "print(\"5th element:\", fifth_element)\n",
        "\n",
        "# 2. Basic Slicing: Extract 3rd to 8th elements (index 2 to 7)\n",
        "slice_3_to_8 = arr[2:8]\n",
        "print(\"Slice from 3rd to 8th element:\", slice_3_to_8)\n",
        "\n",
        "# 3. Boolean Indexing: Create array of 6 random integers from 10 to 50\n",
        "random_array = np.random.randint(10, 51, size=6)\n",
        "greater_than_30 = random_array[random_array > 30]\n",
        "print(\"Random array:\", random_array)\n",
        "print(\"Elements > 30:\", greater_than_30)\n",
        "\n",
        "# 4. Fancy Indexing: Access 2nd, 4th, and 6th elements (indices 1, 3, 5)\n",
        "fancy_selected = random_array[[1, 3, 5]]\n",
        "print(\"Fancy indexing (2nd, 4th, 6th):\", fancy_selected)"
      ],
      "metadata": {
        "colab": {
          "base_uri": "https://localhost:8080/"
        },
        "id": "U9MSIZSkqmyn",
        "outputId": "79d63e06-6d9b-4270-8267-9a44176673b2"
      },
      "execution_count": 20,
      "outputs": [
        {
          "output_type": "stream",
          "name": "stdout",
          "text": [
            "5th element: 4\n",
            "Slice from 3rd to 8th element: [2 3 4 5 6 7]\n",
            "Random array: [24 46 44 26 33 36]\n",
            "Elements > 30: [46 44 33 36]\n",
            "Fancy indexing (2nd, 4th, 6th): [46 26 36]\n"
          ]
        }
      ]
    },
    {
      "cell_type": "code",
      "source": [
        "x = np.array([1, 2, 3, 4, 5, 6, 7])\n",
        "new = np.random.permutation(x)\n",
        "new"
      ],
      "metadata": {
        "colab": {
          "base_uri": "https://localhost:8080/"
        },
        "id": "Azc-D55Kqm2-",
        "outputId": "4ae35069-f319-4ec2-b4a4-1668bd6d7c50"
      },
      "execution_count": 21,
      "outputs": [
        {
          "output_type": "execute_result",
          "data": {
            "text/plain": [
              "array([7, 1, 2, 3, 5, 6, 4])"
            ]
          },
          "metadata": {},
          "execution_count": 21
        }
      ]
    },
    {
      "cell_type": "code",
      "source": [
        "two = np.array([[1,2], [3,4], [5,6]])\n",
        "np.random.permutation(two)"
      ],
      "metadata": {
        "colab": {
          "base_uri": "https://localhost:8080/"
        },
        "id": "ZDyvEweHqm5P",
        "outputId": "11a85e8b-11d6-45e5-a446-65eca183f81f"
      },
      "execution_count": 22,
      "outputs": [
        {
          "output_type": "execute_result",
          "data": {
            "text/plain": [
              "array([[5, 6],\n",
              "       [3, 4],\n",
              "       [1, 2]])"
            ]
          },
          "metadata": {},
          "execution_count": 22
        }
      ]
    },
    {
      "cell_type": "code",
      "source": [
        "x = np.arange(10)\n",
        "x"
      ],
      "metadata": {
        "colab": {
          "base_uri": "https://localhost:8080/"
        },
        "id": "dVLO3GLYu4d_",
        "outputId": "3f8527de-8071-43de-d77a-3c05dd79ff4a"
      },
      "execution_count": 24,
      "outputs": [
        {
          "output_type": "execute_result",
          "data": {
            "text/plain": [
              "array([0, 1, 2, 3, 4, 5, 6, 7, 8, 9])"
            ]
          },
          "metadata": {},
          "execution_count": 24
        }
      ]
    },
    {
      "cell_type": "code",
      "source": [
        "arr = np.array([1, 2, 3, 4, 5])\n",
        "arr[2] = 10  # Changing the third element\n",
        "print(arr)  # Output: [1, 2, 10, 4, 5]"
      ],
      "metadata": {
        "colab": {
          "base_uri": "https://localhost:8080/"
        },
        "id": "IQyM6iUmu4hT",
        "outputId": "c817a809-1cdd-4437-8c5e-dee6187faef8"
      },
      "execution_count": 25,
      "outputs": [
        {
          "output_type": "stream",
          "name": "stdout",
          "text": [
            "[ 1  2 10  4  5]\n"
          ]
        }
      ]
    },
    {
      "cell_type": "code",
      "source": [
        "arr[1:4] = [20, 30, 40]\n",
        "print(arr)  # Output: [1, 20, 30, 40, 5]"
      ],
      "metadata": {
        "colab": {
          "base_uri": "https://localhost:8080/"
        },
        "id": "u9x0r5hSu4nD",
        "outputId": "b7b80fb4-3f2f-4b8f-b1e4-3d0d1ef7ea4a"
      },
      "execution_count": 26,
      "outputs": [
        {
          "output_type": "stream",
          "name": "stdout",
          "text": [
            "[ 1 20 30 40  5]\n"
          ]
        }
      ]
    },
    {
      "cell_type": "code",
      "source": [
        "arr[arr > 10] = 100\n",
        "print(arr)  # Output: [1, 100, 100, 100, 5]"
      ],
      "metadata": {
        "colab": {
          "base_uri": "https://localhost:8080/"
        },
        "id": "fB9ma5pnu4qZ",
        "outputId": "2cd42214-fde3-43d2-a5d7-ea01cb7bba08"
      },
      "execution_count": 27,
      "outputs": [
        {
          "output_type": "stream",
          "name": "stdout",
          "text": [
            "[  1 100 100 100   5]\n"
          ]
        }
      ]
    },
    {
      "cell_type": "code",
      "source": [
        "arr[np.array([1, 3])] = 500\n",
        "print(arr)  # Output: [1, 500, 100, 500, 5]"
      ],
      "metadata": {
        "colab": {
          "base_uri": "https://localhost:8080/"
        },
        "id": "1FfUF7m5u4tE",
        "outputId": "6cc15709-93c6-4545-cc68-e3cbbd815cd8"
      },
      "execution_count": 28,
      "outputs": [
        {
          "output_type": "stream",
          "name": "stdout",
          "text": [
            "[  1 500 100 500   5]\n"
          ]
        }
      ]
    },
    {
      "cell_type": "code",
      "source": [
        "sub_arr = arr[1:3]\n",
        "sub_arr[0] = 600\n",
        "print(arr)  # Output: [1, 600, 100, 500, 5]"
      ],
      "metadata": {
        "colab": {
          "base_uri": "https://localhost:8080/"
        },
        "id": "6nTmf1lsu4wF",
        "outputId": "79a031ef-4e78-47b6-969c-88b4022c7b4a"
      },
      "execution_count": 29,
      "outputs": [
        {
          "output_type": "stream",
          "name": "stdout",
          "text": [
            "[  1 600 100 500   5]\n"
          ]
        }
      ]
    },
    {
      "cell_type": "code",
      "source": [
        "# 1. Modifying Specific Elements\n",
        "arr1 = np.arange(1, 11)  # [1 2 3 4 5 6 7 8 9 10]\n",
        "arr1[4] = 50  # 5th element (index 4) set to 50\n",
        "print(\"1. Modified 5th element:\", arr1)\n",
        "\n",
        "# 2. Slicing and Modifying a Range\n",
        "arr2 = np.arange(10)  # [0 1 2 3 4 5 6 7 8 9]\n",
        "arr2[3:8] = -arr2[3:8]  # Negate elements from index 3 to 7\n",
        "print(\"2. Negative from index 3 to 7:\", arr2)\n",
        "\n",
        "# 3. Conditional Modification with Boolean Indexing\n",
        "arr3 = np.random.randint(1, 101, size=20)\n",
        "arr3[arr3 > 50] = -1  # Set elements > 50 to -1\n",
        "print(\"3. Random array with values > 50 set to -1:\\n\", arr3)\n",
        "\n",
        "# 4. Advanced Indexing Modification (2D Diagonal)\n",
        "arr4 = np.random.randint(1, 10, size=(5, 5))\n",
        "print(\"4. Original 2D array:\\n\", arr4)\n",
        "diag_indices = np.arange(5)\n",
        "arr4[diag_indices, diag_indices] *= 2  # Double the diagonal elements\n",
        "print(\"   Modified diagonal doubled:\\n\", arr4)\n",
        "\n",
        "# 5. Understanding Slicing Impact\n",
        "arr5 = np.arange(10)\n",
        "slice_view = arr5[2:6]  # This is a view, not a copy\n",
        "slice_view[0] = 99  # Modify first element of the slice\n",
        "print(\"5. Slice modification affects original array:\")\n",
        "print(\"   Modified slice:\", slice_view)\n",
        "print(\"   Original array:\", arr5)"
      ],
      "metadata": {
        "colab": {
          "base_uri": "https://localhost:8080/"
        },
        "id": "TL6krlDRu4zj",
        "outputId": "0490b5e3-8ce0-4894-dabd-c05bc37e2b2b"
      },
      "execution_count": 30,
      "outputs": [
        {
          "output_type": "stream",
          "name": "stdout",
          "text": [
            "1. Modified 5th element: [ 1  2  3  4 50  6  7  8  9 10]\n",
            "2. Negative from index 3 to 7: [ 0  1  2 -3 -4 -5 -6 -7  8  9]\n",
            "3. Random array with values > 50 set to -1:\n",
            " [ 4 -1  9 -1 22 -1 -1 11 -1 10 41 27 -1 48 -1 36 -1 -1 42 -1]\n",
            "4. Original 2D array:\n",
            " [[4 3 1 1 2]\n",
            " [2 3 2 5 6]\n",
            " [7 1 6 8 5]\n",
            " [6 7 3 2 5]\n",
            " [4 3 9 8 1]]\n",
            "   Modified diagonal doubled:\n",
            " [[ 8  3  1  1  2]\n",
            " [ 2  6  2  5  6]\n",
            " [ 7  1 12  8  5]\n",
            " [ 6  7  3  4  5]\n",
            " [ 4  3  9  8  2]]\n",
            "5. Slice modification affects original array:\n",
            "   Modified slice: [99  3  4  5]\n",
            "   Original array: [ 0  1 99  3  4  5  6  7  8  9]\n"
          ]
        }
      ]
    },
    {
      "cell_type": "code",
      "source": [
        "# Creating sample arrays\n",
        "a = np.array([1, 2, 3])\n",
        "b = np.array([4, 5, 6])\n",
        "\n",
        "# Element-wise addition\n",
        "print(\"Addition:\", a + b)\n",
        "\n",
        "# Broadcasting\n",
        "print(\"Broadcasting with scalar:\", a * 3)"
      ],
      "metadata": {
        "colab": {
          "base_uri": "https://localhost:8080/"
        },
        "id": "0qKEo0XewUHg",
        "outputId": "47aeb0ec-3693-41fd-b1b2-64997a1a7f13"
      },
      "execution_count": 31,
      "outputs": [
        {
          "output_type": "stream",
          "name": "stdout",
          "text": [
            "Addition: [5 7 9]\n",
            "Broadcasting with scalar: [3 6 9]\n"
          ]
        }
      ]
    },
    {
      "cell_type": "code",
      "source": [
        "# Creating a 1D array\n",
        "a = np.array([1, 2, 3])\n",
        "\n",
        "# Adding a scalar value to the array\n",
        "result = a + 5\n",
        "\n",
        "print(\"Original Array:\", a)\n",
        "print(\"After Adding 5:\", result)"
      ],
      "metadata": {
        "colab": {
          "base_uri": "https://localhost:8080/"
        },
        "id": "OsHq7ZIVwUKP",
        "outputId": "4a2bb551-6ce2-48d8-a76b-389843129aae"
      },
      "execution_count": 32,
      "outputs": [
        {
          "output_type": "stream",
          "name": "stdout",
          "text": [
            "Original Array: [1 2 3]\n",
            "After Adding 5: [6 7 8]\n"
          ]
        }
      ]
    },
    {
      "cell_type": "code",
      "source": [
        "# Creating a 1D array and a 2D array\n",
        "a = np.array([0, 1, 2])\n",
        "b = np.array([[0, 1, 2], [3, 4, 5]])\n",
        "\n",
        "# Adding the 1D array to each row of the 2D array\n",
        "result = a + b\n",
        "\n",
        "print(\"1D Array:\", a)\n",
        "print(\"2D Array:\", b)\n",
        "print(\"Broadcasted Addition:\", result)"
      ],
      "metadata": {
        "colab": {
          "base_uri": "https://localhost:8080/"
        },
        "id": "qliKNliCwUNG",
        "outputId": "72741dfc-a08b-4d57-87e1-b232ea658e16"
      },
      "execution_count": 33,
      "outputs": [
        {
          "output_type": "stream",
          "name": "stdout",
          "text": [
            "1D Array: [0 1 2]\n",
            "2D Array: [[0 1 2]\n",
            " [3 4 5]]\n",
            "Broadcasted Addition: [[0 2 4]\n",
            " [3 5 7]]\n"
          ]
        }
      ]
    },
    {
      "cell_type": "code",
      "source": [
        "a = np.array([1, 2, 3])\n",
        "b = np.array([4, 5, 6])\n",
        "\n",
        "print(a + b)\n",
        "print(a - b)\n",
        "print(a * b)\n",
        "print(a / b)"
      ],
      "metadata": {
        "colab": {
          "base_uri": "https://localhost:8080/"
        },
        "id": "3LWLt5IsxWBw",
        "outputId": "2a358ffa-f0d4-4bb8-8de7-110d12e14171"
      },
      "execution_count": 34,
      "outputs": [
        {
          "output_type": "stream",
          "name": "stdout",
          "text": [
            "[5 7 9]\n",
            "[-3 -3 -3]\n",
            "[ 4 10 18]\n",
            "[0.25 0.4  0.5 ]\n"
          ]
        }
      ]
    },
    {
      "cell_type": "code",
      "source": [
        "# Creating two incompatible arrays\n",
        "a = np.array([[1, 2, 3], [4, 5, 6]])\n",
        "b = np.array([1, 2])\n",
        "\n",
        "try:\n",
        "    result = a + b\n",
        "except ValueError as e:\n",
        "    print(\"Error:\", e)"
      ],
      "metadata": {
        "colab": {
          "base_uri": "https://localhost:8080/"
        },
        "id": "VgVRRx4JxWEe",
        "outputId": "4b40987a-6cb9-42a1-eefb-1ee4911ed103"
      },
      "execution_count": 35,
      "outputs": [
        {
          "output_type": "stream",
          "name": "stdout",
          "text": [
            "Error: operands could not be broadcast together with shapes (2,3) (2,) \n"
          ]
        }
      ]
    },
    {
      "cell_type": "code",
      "source": [
        "# Creating a 2D array and a 1D array\n",
        "a = np.array([[1, 2, 3], [4, 5, 6]])\n",
        "b = np.array([1, 2, 3])\n",
        "\n",
        "# Element-wise multiplication\n",
        "result = a * b\n",
        "\n",
        "print(\"2D Array:\", a)\n",
        "print(\"1D Array:\", b)\n",
        "print(\"Broadcasted Multiplication:\", result)"
      ],
      "metadata": {
        "colab": {
          "base_uri": "https://localhost:8080/"
        },
        "id": "1wuoMgo3xWH1",
        "outputId": "9dc2e666-aee5-4e6d-b45c-0763eae2cfa9"
      },
      "execution_count": 36,
      "outputs": [
        {
          "output_type": "stream",
          "name": "stdout",
          "text": [
            "2D Array: [[1 2 3]\n",
            " [4 5 6]]\n",
            "1D Array: [1 2 3]\n",
            "Broadcasted Multiplication: [[ 1  4  9]\n",
            " [ 4 10 18]]\n"
          ]
        }
      ]
    },
    {
      "cell_type": "code",
      "source": [
        "# Creating a sample array\n",
        "array = np.array([[1, 2, 3], [4, 5, 6]])\n",
        "\n",
        "# Sum of all elements\n",
        "print(\"Sum:\", np.sum(array))\n",
        "\n",
        "# Mean value\n",
        "print(\"Mean:\", np.mean(array))\n",
        "\n",
        "# Minimum and Maximum\n",
        "print(\"Min:\", np.min(array), \"Max:\", np.max(array))"
      ],
      "metadata": {
        "colab": {
          "base_uri": "https://localhost:8080/"
        },
        "id": "B6akiwGsxWLW",
        "outputId": "a5b6ad34-c26f-4902-96f6-75c3d63a89de"
      },
      "execution_count": 37,
      "outputs": [
        {
          "output_type": "stream",
          "name": "stdout",
          "text": [
            "Sum: 21\n",
            "Mean: 3.5\n",
            "Min: 1 Max: 6\n"
          ]
        }
      ]
    },
    {
      "cell_type": "code",
      "source": [
        "# 1. Arithmetic Operations\n",
        "a = np.array([2, 4, 6])\n",
        "b = np.array([1, 3, 5])\n",
        "\n",
        "add = a + b           # Element-wise addition\n",
        "sub = a - b           # Element-wise subtraction\n",
        "mul = a * b           # Element-wise multiplication\n",
        "div = a / b           # Element-wise division\n",
        "\n",
        "print(\"1. Arithmetic Operations:\")\n",
        "print(\"a:\", a)\n",
        "print(\"b:\", b)\n",
        "print(\"Addition:\", add)\n",
        "print(\"Subtraction:\", sub)\n",
        "print(\"Multiplication:\", mul)\n",
        "print(\"Division:\", div)\n",
        "\n",
        "# 2. Aggregation Functions\n",
        "print(\"\\n2. Aggregation Functions:\")\n",
        "print(\"a - sum:\", np.sum(a), \"mean:\", np.mean(a), \"min:\", np.min(a), \"max:\", np.max(a))\n",
        "print(\"b - sum:\", np.sum(b), \"mean:\", np.mean(b), \"min:\", np.min(b), \"max:\", np.max(b))\n",
        "\n",
        "# 3. Broadcasting with Scalar\n",
        "scalar_mul = a * 5\n",
        "print(\"\\n3. Broadcasting with Scalar (a * 5):\", scalar_mul)\n"
      ],
      "metadata": {
        "colab": {
          "base_uri": "https://localhost:8080/"
        },
        "id": "cdwBOxzIxWO5",
        "outputId": "57469c34-dd82-4112-e507-5ddc406f7c99"
      },
      "execution_count": 38,
      "outputs": [
        {
          "output_type": "stream",
          "name": "stdout",
          "text": [
            "1. Arithmetic Operations:\n",
            "a: [2 4 6]\n",
            "b: [1 3 5]\n",
            "Addition: [ 3  7 11]\n",
            "Subtraction: [1 1 1]\n",
            "Multiplication: [ 2 12 30]\n",
            "Division: [2.         1.33333333 1.2       ]\n",
            "\n",
            "2. Aggregation Functions:\n",
            "a - sum: 12 mean: 4.0 min: 2 max: 6\n",
            "b - sum: 9 mean: 3.0 min: 1 max: 5\n",
            "\n",
            "3. Broadcasting with Scalar (a * 5): [10 20 30]\n"
          ]
        }
      ]
    },
    {
      "cell_type": "code",
      "source": [
        "# Creating a 1D array\n",
        "array = np.arange(1, 10)  # Array of numbers from 1 to 9\n",
        "print(\"1D Array:\", array)\n",
        "# Reshaping to a 3x3 matrix\n",
        "reshaped_array = array.reshape(3, 3)\n",
        "print(\"Reshaped to 3x3:\\n\", reshaped_array)"
      ],
      "metadata": {
        "colab": {
          "base_uri": "https://localhost:8080/"
        },
        "id": "s5d-wssVwUQW",
        "outputId": "95986734-88be-4276-f418-8c41fb9c8e84"
      },
      "execution_count": 39,
      "outputs": [
        {
          "output_type": "stream",
          "name": "stdout",
          "text": [
            "1D Array: [1 2 3 4 5 6 7 8 9]\n",
            "Reshaped to 3x3:\n",
            " [[1 2 3]\n",
            " [4 5 6]\n",
            " [7 8 9]]\n"
          ]
        }
      ]
    },
    {
      "cell_type": "code",
      "source": [
        "# Transposing the reshaped array\n",
        "transposed_array = reshaped_array.T\n",
        "print(\"Transposed array:\\n\", transposed_array)"
      ],
      "metadata": {
        "colab": {
          "base_uri": "https://localhost:8080/"
        },
        "id": "UOzBR4NjwUTw",
        "outputId": "5077a38a-9ee0-40a1-a13b-faca5f5253e3"
      },
      "execution_count": 40,
      "outputs": [
        {
          "output_type": "stream",
          "name": "stdout",
          "text": [
            "Transposed array:\n",
            " [[1 4 7]\n",
            " [2 5 8]\n",
            " [3 6 9]]\n"
          ]
        }
      ]
    },
    {
      "cell_type": "code",
      "source": [
        "\n",
        "# 1. Reshape Array\n",
        "arr = np.arange(1, 13)  # 1D array with 12 elements: [1 2 3 ... 12]\n",
        "matrix_4x3 = arr.reshape(4, 3)  # reshape to 4 rows, 3 columns\n",
        "matrix_2x6 = arr.reshape(2, 6)  # reshape to 2 rows, 6 columns\n",
        "\n",
        "print(\"1. Reshaped Arrays:\")\n",
        "print(\"Original 1D array:\", arr)\n",
        "print(\"4x3 matrix:\\n\", matrix_4x3)\n",
        "print(\"2x6 matrix:\\n\", matrix_2x6)\n",
        "\n",
        "# 2. Transpose Matrix\n",
        "transposed_2x6 = matrix_2x6.T  # transpose of 2x6 is 6x2\n",
        "print(\"\\n2. Transposed 2x6 matrix (now 6x2):\\n\", transposed_2x6)\n",
        "\n",
        "# 3. Combine Reshaping and Transposing\n",
        "matrix_3x4 = np.arange(1, 13).reshape(3, 4)\n",
        "transposed = matrix_3x4.T  # shape becomes 4x3\n",
        "flattened = transposed.reshape(-1)  # reshape to 1D\n",
        "\n",
        "print(\"\\n3. Combining Transpose and Reshape:\")\n",
        "print(\"Original 3x4 matrix:\\n\", matrix_3x4)\n",
        "print(\"Transposed (4x3):\\n\", transposed)\n",
        "print(\"Flattened to 1D:\", flattened)"
      ],
      "metadata": {
        "colab": {
          "base_uri": "https://localhost:8080/"
        },
        "id": "jjf7tHogzCYR",
        "outputId": "b32c7671-5803-45da-d4e2-becacc90390c"
      },
      "execution_count": 41,
      "outputs": [
        {
          "output_type": "stream",
          "name": "stdout",
          "text": [
            "1. Reshaped Arrays:\n",
            "Original 1D array: [ 1  2  3  4  5  6  7  8  9 10 11 12]\n",
            "4x3 matrix:\n",
            " [[ 1  2  3]\n",
            " [ 4  5  6]\n",
            " [ 7  8  9]\n",
            " [10 11 12]]\n",
            "2x6 matrix:\n",
            " [[ 1  2  3  4  5  6]\n",
            " [ 7  8  9 10 11 12]]\n",
            "\n",
            "2. Transposed 2x6 matrix (now 6x2):\n",
            " [[ 1  7]\n",
            " [ 2  8]\n",
            " [ 3  9]\n",
            " [ 4 10]\n",
            " [ 5 11]\n",
            " [ 6 12]]\n",
            "\n",
            "3. Combining Transpose and Reshape:\n",
            "Original 3x4 matrix:\n",
            " [[ 1  2  3  4]\n",
            " [ 5  6  7  8]\n",
            " [ 9 10 11 12]]\n",
            "Transposed (4x3):\n",
            " [[ 1  5  9]\n",
            " [ 2  6 10]\n",
            " [ 3  7 11]\n",
            " [ 4  8 12]]\n",
            "Flattened to 1D: [ 1  5  9  2  6 10  3  7 11  4  8 12]\n"
          ]
        }
      ]
    },
    {
      "cell_type": "code",
      "source": [
        "# Reshaping data for machine learning model\n",
        "data = np.arange(1, 101).reshape(20, 5)  # 20 samples, 5 features each\n",
        "data"
      ],
      "metadata": {
        "colab": {
          "base_uri": "https://localhost:8080/"
        },
        "id": "nn9MtLkPzCbT",
        "outputId": "9e477f19-c026-41fb-aaac-2b52cf23f791"
      },
      "execution_count": 43,
      "outputs": [
        {
          "output_type": "execute_result",
          "data": {
            "text/plain": [
              "array([[  1,   2,   3,   4,   5],\n",
              "       [  6,   7,   8,   9,  10],\n",
              "       [ 11,  12,  13,  14,  15],\n",
              "       [ 16,  17,  18,  19,  20],\n",
              "       [ 21,  22,  23,  24,  25],\n",
              "       [ 26,  27,  28,  29,  30],\n",
              "       [ 31,  32,  33,  34,  35],\n",
              "       [ 36,  37,  38,  39,  40],\n",
              "       [ 41,  42,  43,  44,  45],\n",
              "       [ 46,  47,  48,  49,  50],\n",
              "       [ 51,  52,  53,  54,  55],\n",
              "       [ 56,  57,  58,  59,  60],\n",
              "       [ 61,  62,  63,  64,  65],\n",
              "       [ 66,  67,  68,  69,  70],\n",
              "       [ 71,  72,  73,  74,  75],\n",
              "       [ 76,  77,  78,  79,  80],\n",
              "       [ 81,  82,  83,  84,  85],\n",
              "       [ 86,  87,  88,  89,  90],\n",
              "       [ 91,  92,  93,  94,  95],\n",
              "       [ 96,  97,  98,  99, 100]])"
            ]
          },
          "metadata": {},
          "execution_count": 43
        }
      ]
    },
    {
      "cell_type": "code",
      "source": [
        "# Preparing data for heatmap visualization\n",
        "matrix = np.random.rand(10, 10)\n",
        "print(matrix)\n",
        "reshaped_matrix = matrix.reshape(5, 20)  # Reshaping for a different visual representation\n",
        "reshaped_matrix"
      ],
      "metadata": {
        "colab": {
          "base_uri": "https://localhost:8080/"
        },
        "id": "0ZGu3pUdzCeP",
        "outputId": "2bb00df5-6512-4e81-fb2a-268dd42d8336"
      },
      "execution_count": 44,
      "outputs": [
        {
          "output_type": "stream",
          "name": "stdout",
          "text": [
            "[[0.84745176 0.4987085  0.37973497 0.02317181 0.23641399 0.95188322\n",
            "  0.73115909 0.33384752 0.36856168 0.87120952]\n",
            " [0.45969741 0.61292626 0.3537426  0.66011371 0.04328414 0.27724239\n",
            "  0.88121341 0.44684537 0.55931815 0.98602775]\n",
            " [0.35474331 0.81737807 0.14751744 0.30319108 0.42975686 0.57606946\n",
            "  0.3278438  0.97426956 0.65365593 0.00866262]\n",
            " [0.02757537 0.67576352 0.94299242 0.54422763 0.22378603 0.66417521\n",
            "  0.16600794 0.14286109 0.34571419 0.72130561]\n",
            " [0.83447979 0.36397587 0.01626867 0.98788752 0.93464564 0.01325884\n",
            "  0.09590303 0.71453789 0.31968086 0.75282583]\n",
            " [0.63164741 0.15751695 0.18096912 0.77716782 0.6296905  0.40709321\n",
            "  0.12254991 0.53836153 0.27600346 0.01680843]\n",
            " [0.3555974  0.17255314 0.48229738 0.9068594  0.78889149 0.20509518\n",
            "  0.64357414 0.52781716 0.19149502 0.1419164 ]\n",
            " [0.07982336 0.38626755 0.89290917 0.30450979 0.28914799 0.4040676\n",
            "  0.68216127 0.42473361 0.68775047 0.73924607]\n",
            " [0.72295893 0.66845776 0.08683995 0.30301523 0.90857897 0.19373252\n",
            "  0.01691046 0.16513756 0.86363695 0.20221699]\n",
            " [0.91550079 0.68203389 0.71356331 0.61741922 0.05264305 0.86039155\n",
            "  0.1010112  0.71966267 0.71881322 0.08864484]]\n"
          ]
        },
        {
          "output_type": "execute_result",
          "data": {
            "text/plain": [
              "array([[0.84745176, 0.4987085 , 0.37973497, 0.02317181, 0.23641399,\n",
              "        0.95188322, 0.73115909, 0.33384752, 0.36856168, 0.87120952,\n",
              "        0.45969741, 0.61292626, 0.3537426 , 0.66011371, 0.04328414,\n",
              "        0.27724239, 0.88121341, 0.44684537, 0.55931815, 0.98602775],\n",
              "       [0.35474331, 0.81737807, 0.14751744, 0.30319108, 0.42975686,\n",
              "        0.57606946, 0.3278438 , 0.97426956, 0.65365593, 0.00866262,\n",
              "        0.02757537, 0.67576352, 0.94299242, 0.54422763, 0.22378603,\n",
              "        0.66417521, 0.16600794, 0.14286109, 0.34571419, 0.72130561],\n",
              "       [0.83447979, 0.36397587, 0.01626867, 0.98788752, 0.93464564,\n",
              "        0.01325884, 0.09590303, 0.71453789, 0.31968086, 0.75282583,\n",
              "        0.63164741, 0.15751695, 0.18096912, 0.77716782, 0.6296905 ,\n",
              "        0.40709321, 0.12254991, 0.53836153, 0.27600346, 0.01680843],\n",
              "       [0.3555974 , 0.17255314, 0.48229738, 0.9068594 , 0.78889149,\n",
              "        0.20509518, 0.64357414, 0.52781716, 0.19149502, 0.1419164 ,\n",
              "        0.07982336, 0.38626755, 0.89290917, 0.30450979, 0.28914799,\n",
              "        0.4040676 , 0.68216127, 0.42473361, 0.68775047, 0.73924607],\n",
              "       [0.72295893, 0.66845776, 0.08683995, 0.30301523, 0.90857897,\n",
              "        0.19373252, 0.01691046, 0.16513756, 0.86363695, 0.20221699,\n",
              "        0.91550079, 0.68203389, 0.71356331, 0.61741922, 0.05264305,\n",
              "        0.86039155, 0.1010112 , 0.71966267, 0.71881322, 0.08864484]])"
            ]
          },
          "metadata": {},
          "execution_count": 44
        }
      ]
    },
    {
      "cell_type": "code",
      "source": [
        "# Aggregating data after reshaping\n",
        "data = np.random.rand(6, 2)\n",
        "print(data)\n",
        "reshaped_data = data.reshape(3, 4)\n",
        "print(reshaped_data)\n",
        "mean_values = np.mean(reshaped_data, axis=1)  # Mean of each reshaped group\n",
        "mean_values"
      ],
      "metadata": {
        "colab": {
          "base_uri": "https://localhost:8080/"
        },
        "id": "6-i5dD6XzChj",
        "outputId": "0fc40628-f796-48d5-e7cd-369e44255ce4"
      },
      "execution_count": 45,
      "outputs": [
        {
          "output_type": "stream",
          "name": "stdout",
          "text": [
            "[[0.46000485 0.24014765]\n",
            " [0.49880161 0.88444906]\n",
            " [0.00911208 0.09665451]\n",
            " [0.43407534 0.11588765]\n",
            " [0.40174543 0.34850664]\n",
            " [0.45552061 0.78631579]]\n",
            "[[0.46000485 0.24014765 0.49880161 0.88444906]\n",
            " [0.00911208 0.09665451 0.43407534 0.11588765]\n",
            " [0.40174543 0.34850664 0.45552061 0.78631579]]\n"
          ]
        },
        {
          "output_type": "execute_result",
          "data": {
            "text/plain": [
              "array([0.52085079, 0.1639324 , 0.49802212])"
            ]
          },
          "metadata": {},
          "execution_count": 45
        }
      ]
    },
    {
      "cell_type": "code",
      "source": [
        "# Organizing data for feature selection\n",
        "data = np.random.rand(100, 10)  # 100 observations, 10 features\n",
        "reshaped_data = data.reshape(100, 5, 2)  # Grouping features for analysis\n",
        "reshaped_data"
      ],
      "metadata": {
        "colab": {
          "base_uri": "https://localhost:8080/"
        },
        "id": "KQxWLdjI04VR",
        "outputId": "155c7c8e-2901-4049-e30e-49910b5afe3a"
      },
      "execution_count": 46,
      "outputs": [
        {
          "output_type": "execute_result",
          "data": {
            "text/plain": [
              "array([[[3.39489828e-01, 2.45858755e-02],\n",
              "        [9.36528389e-01, 5.53639173e-01],\n",
              "        [8.05403559e-01, 8.64983373e-01],\n",
              "        [2.86426841e-01, 2.46350243e-01],\n",
              "        [4.55605726e-01, 7.60349082e-01]],\n",
              "\n",
              "       [[8.74212422e-01, 6.39368637e-01],\n",
              "        [7.57145128e-01, 8.52330088e-01],\n",
              "        [3.78881083e-01, 6.97220327e-01],\n",
              "        [1.39487504e-01, 9.10498977e-01],\n",
              "        [4.49405974e-01, 7.00746188e-01]],\n",
              "\n",
              "       [[3.33788672e-01, 2.98335057e-01],\n",
              "        [5.27209034e-01, 1.12038299e-01],\n",
              "        [7.97334039e-01, 3.62859663e-01],\n",
              "        [7.41136532e-02, 2.94739612e-01],\n",
              "        [1.15012160e-01, 3.94311252e-01]],\n",
              "\n",
              "       [[3.95515291e-02, 9.16953729e-01],\n",
              "        [4.04341556e-02, 1.46084696e-01],\n",
              "        [5.52077322e-01, 8.93478696e-01],\n",
              "        [2.74196681e-01, 4.65368684e-01],\n",
              "        [7.78183848e-01, 7.61611854e-01]],\n",
              "\n",
              "       [[9.45657700e-01, 9.02711964e-01],\n",
              "        [5.87428350e-01, 6.38080297e-01],\n",
              "        [8.20834146e-01, 6.31214505e-01],\n",
              "        [2.24254659e-01, 6.30655044e-01],\n",
              "        [4.55463093e-01, 4.87125018e-01]],\n",
              "\n",
              "       [[1.76574665e-01, 2.40339474e-01],\n",
              "        [3.76974135e-01, 5.21758616e-01],\n",
              "        [4.97986886e-01, 5.23021233e-02],\n",
              "        [5.15358186e-01, 7.66853172e-01],\n",
              "        [7.74374886e-01, 4.37228228e-01]],\n",
              "\n",
              "       [[7.56839032e-01, 5.31313170e-01],\n",
              "        [2.79646275e-01, 7.80453637e-01],\n",
              "        [5.49714301e-01, 9.05634617e-01],\n",
              "        [6.88493478e-02, 2.38708609e-01],\n",
              "        [5.31787168e-01, 7.81094356e-01]],\n",
              "\n",
              "       [[8.07969701e-01, 9.69637638e-01],\n",
              "        [5.48436818e-01, 6.25924750e-01],\n",
              "        [1.75582337e-01, 4.96762249e-02],\n",
              "        [9.52346469e-01, 7.14872507e-01],\n",
              "        [8.18921295e-01, 1.38616342e-02]],\n",
              "\n",
              "       [[3.33717192e-01, 3.82600890e-01],\n",
              "        [7.15913864e-01, 2.07808126e-01],\n",
              "        [3.45384766e-01, 6.70218691e-01],\n",
              "        [2.09324271e-01, 7.00080483e-01],\n",
              "        [9.33365247e-02, 1.68648129e-01]],\n",
              "\n",
              "       [[9.83922040e-01, 5.20971888e-01],\n",
              "        [7.74133504e-01, 9.18041370e-01],\n",
              "        [2.50166592e-01, 9.61887810e-01],\n",
              "        [7.96095681e-01, 8.96865312e-02],\n",
              "        [1.90227017e-01, 2.07511287e-01]],\n",
              "\n",
              "       [[1.13504288e-01, 8.33129755e-02],\n",
              "        [5.77805652e-01, 1.63352742e-01],\n",
              "        [2.71732829e-01, 3.37678148e-01],\n",
              "        [4.70558973e-01, 7.15090264e-01],\n",
              "        [2.80109816e-01, 8.44821362e-01]],\n",
              "\n",
              "       [[9.32231156e-01, 8.03426162e-01],\n",
              "        [5.25250083e-01, 9.00551660e-01],\n",
              "        [9.89623896e-01, 6.94926181e-01],\n",
              "        [8.75691636e-01, 1.09579125e-01],\n",
              "        [6.28133361e-01, 1.84256006e-01]],\n",
              "\n",
              "       [[2.91368147e-01, 9.62102518e-01],\n",
              "        [5.50595619e-01, 1.00739396e-02],\n",
              "        [4.62363652e-01, 4.34978727e-01],\n",
              "        [5.54354423e-01, 9.31889387e-01],\n",
              "        [6.17669056e-01, 9.77346105e-01]],\n",
              "\n",
              "       [[2.90766167e-01, 6.34991438e-01],\n",
              "        [9.47776369e-01, 9.04498563e-01],\n",
              "        [8.74715643e-01, 4.97462414e-01],\n",
              "        [7.50272354e-01, 9.70217854e-01],\n",
              "        [4.98408854e-01, 1.05144401e-01]],\n",
              "\n",
              "       [[5.37080322e-01, 3.76504176e-01],\n",
              "        [7.64086980e-01, 4.98084360e-01],\n",
              "        [1.28541365e-01, 7.94331608e-01],\n",
              "        [3.52956493e-01, 4.57558639e-01],\n",
              "        [4.90762540e-01, 3.25774674e-01]],\n",
              "\n",
              "       [[7.63735619e-01, 6.04385239e-01],\n",
              "        [2.91768105e-01, 6.12215696e-01],\n",
              "        [4.50923237e-01, 2.61110826e-01],\n",
              "        [8.87125365e-01, 1.14391732e-01],\n",
              "        [5.67824447e-02, 1.99238449e-01]],\n",
              "\n",
              "       [[8.17247744e-01, 1.56966725e-01],\n",
              "        [1.96379286e-01, 4.77568837e-01],\n",
              "        [2.19153845e-01, 8.65743693e-01],\n",
              "        [7.15532206e-02, 7.14867950e-01],\n",
              "        [7.33634626e-01, 4.16240385e-01]],\n",
              "\n",
              "       [[4.86847508e-01, 9.14030299e-01],\n",
              "        [8.51187843e-01, 9.17798102e-01],\n",
              "        [4.54878480e-01, 9.40205884e-01],\n",
              "        [6.71672954e-02, 9.29350564e-02],\n",
              "        [8.37227323e-01, 1.30041396e-01]],\n",
              "\n",
              "       [[8.04057195e-01, 4.13071259e-01],\n",
              "        [1.70623658e-01, 9.80966724e-01],\n",
              "        [4.93804443e-01, 5.69239717e-01],\n",
              "        [6.75997599e-01, 4.29407147e-01],\n",
              "        [9.08355783e-01, 1.14619375e-01]],\n",
              "\n",
              "       [[8.51380514e-01, 9.84780338e-01],\n",
              "        [3.24197169e-02, 1.87306174e-01],\n",
              "        [6.36244730e-01, 9.68970786e-01],\n",
              "        [7.14821049e-01, 5.69219207e-01],\n",
              "        [8.00029177e-01, 8.63469525e-01]],\n",
              "\n",
              "       [[7.79879785e-01, 6.88389641e-01],\n",
              "        [1.32888865e-01, 8.89016517e-01],\n",
              "        [3.20232340e-01, 8.74249281e-01],\n",
              "        [8.12328541e-01, 1.04564366e-02],\n",
              "        [8.34343615e-01, 6.80002395e-01]],\n",
              "\n",
              "       [[1.97523120e-01, 1.81457297e-01],\n",
              "        [6.10957084e-01, 1.57827036e-01],\n",
              "        [1.00067851e-01, 9.81932436e-01],\n",
              "        [7.55242162e-01, 9.41705452e-01],\n",
              "        [7.90872840e-01, 6.04616021e-01]],\n",
              "\n",
              "       [[6.25447995e-01, 9.29191793e-01],\n",
              "        [4.82958090e-01, 5.02876108e-01],\n",
              "        [3.88663742e-01, 9.37768773e-01],\n",
              "        [8.65352408e-01, 5.15667817e-01],\n",
              "        [2.41908260e-01, 2.44202377e-01]],\n",
              "\n",
              "       [[1.05585556e-01, 1.45840987e-01],\n",
              "        [7.89450833e-01, 8.48708012e-01],\n",
              "        [1.17978046e-01, 3.34918628e-01],\n",
              "        [1.14411357e-01, 2.11814025e-01],\n",
              "        [9.49367761e-01, 2.64578994e-01]],\n",
              "\n",
              "       [[7.07422449e-01, 9.43171424e-01],\n",
              "        [2.53546458e-01, 3.44462337e-01],\n",
              "        [2.68164730e-01, 4.70563093e-01],\n",
              "        [9.83190513e-01, 1.66762682e-01],\n",
              "        [8.57518496e-01, 3.61966862e-01]],\n",
              "\n",
              "       [[3.64763759e-01, 6.75286199e-01],\n",
              "        [1.62252309e-01, 2.26990839e-02],\n",
              "        [3.00871244e-01, 2.16489475e-02],\n",
              "        [5.32691746e-01, 7.94240128e-01],\n",
              "        [7.80525001e-01, 9.02885694e-01]],\n",
              "\n",
              "       [[7.48426669e-02, 1.76761851e-01],\n",
              "        [7.97915228e-01, 3.05850116e-01],\n",
              "        [2.49574845e-01, 5.77358493e-01],\n",
              "        [3.37955785e-01, 9.04714164e-01],\n",
              "        [9.71563249e-02, 8.43096022e-01]],\n",
              "\n",
              "       [[5.69218156e-01, 4.01173984e-01],\n",
              "        [9.49651458e-01, 7.91450693e-01],\n",
              "        [2.49879112e-01, 8.93797645e-01],\n",
              "        [9.92424408e-02, 3.36872464e-01],\n",
              "        [4.26559336e-01, 7.45016362e-01]],\n",
              "\n",
              "       [[6.49006661e-01, 4.87959015e-01],\n",
              "        [4.68103809e-01, 3.95885920e-01],\n",
              "        [6.71680468e-01, 2.94495367e-01],\n",
              "        [5.77712511e-01, 9.76943343e-01],\n",
              "        [6.99927790e-02, 7.45358630e-01]],\n",
              "\n",
              "       [[7.43981809e-01, 3.62360209e-01],\n",
              "        [3.99871636e-01, 3.06920910e-02],\n",
              "        [2.80942238e-02, 5.23913827e-01],\n",
              "        [9.71917330e-01, 6.97298921e-02],\n",
              "        [6.74746949e-01, 6.30078969e-01]],\n",
              "\n",
              "       [[8.22693694e-01, 5.62242381e-01],\n",
              "        [8.41412823e-01, 9.84340386e-01],\n",
              "        [2.67659024e-01, 1.78567862e-01],\n",
              "        [3.72666952e-03, 6.40300165e-01],\n",
              "        [2.17691245e-03, 4.29552322e-01]],\n",
              "\n",
              "       [[2.90781580e-01, 7.72275111e-01],\n",
              "        [4.78353657e-01, 9.28411818e-01],\n",
              "        [6.76944535e-01, 2.21752137e-01],\n",
              "        [1.54932740e-01, 5.39197699e-01],\n",
              "        [3.81866913e-02, 6.40403750e-01]],\n",
              "\n",
              "       [[4.30468225e-01, 4.44383976e-01],\n",
              "        [6.79748154e-01, 3.78604388e-01],\n",
              "        [3.87081518e-02, 4.07971588e-01],\n",
              "        [2.45584682e-01, 5.75293294e-01],\n",
              "        [9.75656110e-01, 3.65225184e-01]],\n",
              "\n",
              "       [[3.76650909e-01, 2.46396958e-02],\n",
              "        [8.39828443e-01, 3.02682264e-01],\n",
              "        [7.79771882e-01, 7.03776580e-01],\n",
              "        [4.71900434e-01, 8.09943363e-01],\n",
              "        [6.50890411e-01, 4.76403756e-01]],\n",
              "\n",
              "       [[5.89462495e-01, 3.41749476e-01],\n",
              "        [3.88546633e-01, 2.28913418e-01],\n",
              "        [2.64480157e-01, 8.85396854e-02],\n",
              "        [6.98438764e-01, 4.72029589e-01],\n",
              "        [7.81805137e-01, 9.02144340e-01]],\n",
              "\n",
              "       [[1.16278983e-01, 6.21156648e-01],\n",
              "        [9.39351078e-01, 8.94723047e-01],\n",
              "        [2.10200468e-01, 3.20972156e-01],\n",
              "        [3.55348726e-01, 2.14034239e-01],\n",
              "        [6.60284458e-02, 2.27699496e-01]],\n",
              "\n",
              "       [[4.34378057e-01, 1.20336964e-01],\n",
              "        [2.91583817e-01, 5.19816145e-01],\n",
              "        [3.35348760e-01, 2.29968652e-01],\n",
              "        [7.61410758e-01, 6.72316836e-01],\n",
              "        [5.21792025e-01, 1.05142678e-01]],\n",
              "\n",
              "       [[4.62389142e-01, 5.08765039e-02],\n",
              "        [3.78704592e-01, 2.96629681e-01],\n",
              "        [7.69850026e-02, 1.78119627e-01],\n",
              "        [7.09164691e-01, 3.49504432e-01],\n",
              "        [7.84999609e-03, 7.89830496e-01]],\n",
              "\n",
              "       [[8.98745811e-01, 4.35529989e-01],\n",
              "        [7.22626221e-01, 8.62912298e-01],\n",
              "        [3.57508988e-01, 6.57617142e-01],\n",
              "        [8.54678073e-01, 8.44398452e-02],\n",
              "        [8.55743877e-02, 1.36274944e-01]],\n",
              "\n",
              "       [[2.14405257e-02, 5.50427126e-01],\n",
              "        [8.75333342e-01, 5.07488429e-01],\n",
              "        [5.97904721e-01, 9.99029882e-01],\n",
              "        [4.57222668e-01, 8.26881464e-02],\n",
              "        [2.10677206e-01, 9.61434339e-01]],\n",
              "\n",
              "       [[8.55203394e-01, 5.40410149e-01],\n",
              "        [7.83990048e-01, 5.65234438e-01],\n",
              "        [6.80949219e-01, 5.22383886e-01],\n",
              "        [5.07807386e-01, 9.13025339e-01],\n",
              "        [1.15219048e-01, 9.99380782e-01]],\n",
              "\n",
              "       [[9.29196383e-01, 7.74726715e-02],\n",
              "        [4.61912790e-01, 5.13768022e-01],\n",
              "        [6.54726355e-01, 2.66879728e-01],\n",
              "        [4.55283639e-01, 3.01765080e-01],\n",
              "        [5.23539704e-02, 9.22901188e-01]],\n",
              "\n",
              "       [[4.35114736e-01, 8.03611261e-01],\n",
              "        [8.56115595e-01, 2.97230740e-02],\n",
              "        [3.20917878e-01, 6.98595398e-01],\n",
              "        [2.82778578e-01, 5.35472986e-01],\n",
              "        [9.45141775e-01, 9.56970028e-01]],\n",
              "\n",
              "       [[8.58707561e-01, 6.25219966e-01],\n",
              "        [7.27317251e-01, 5.15914864e-01],\n",
              "        [7.34292049e-01, 4.98343182e-01],\n",
              "        [1.37640361e-01, 1.82582263e-01],\n",
              "        [3.05094043e-01, 3.05751519e-01]],\n",
              "\n",
              "       [[4.05738804e-01, 3.82701389e-01],\n",
              "        [9.34437697e-01, 4.29401846e-02],\n",
              "        [8.97236584e-01, 8.32108345e-02],\n",
              "        [7.46894090e-01, 9.44069453e-01],\n",
              "        [8.50535044e-01, 5.04898883e-01]],\n",
              "\n",
              "       [[8.25285589e-01, 9.65867966e-02],\n",
              "        [7.61425977e-01, 8.15609229e-01],\n",
              "        [6.66619341e-01, 8.50868459e-01],\n",
              "        [4.06655905e-01, 9.07729533e-01],\n",
              "        [5.00618443e-01, 3.60976160e-02]],\n",
              "\n",
              "       [[9.36578374e-01, 9.85414066e-01],\n",
              "        [8.99421939e-01, 5.96577766e-01],\n",
              "        [3.55175194e-01, 3.50622131e-01],\n",
              "        [4.18275215e-02, 9.88508263e-01],\n",
              "        [4.87239152e-01, 2.52928710e-01]],\n",
              "\n",
              "       [[8.01149094e-01, 5.02045948e-01],\n",
              "        [7.09606727e-01, 1.73129761e-01],\n",
              "        [4.09581425e-01, 5.93410597e-01],\n",
              "        [2.21855607e-01, 2.12370008e-01],\n",
              "        [8.58597421e-01, 5.58118622e-01]],\n",
              "\n",
              "       [[5.37543646e-01, 5.85122685e-01],\n",
              "        [4.27083352e-01, 6.45985683e-01],\n",
              "        [1.35255719e-01, 7.56405817e-01],\n",
              "        [2.07251786e-01, 5.86853346e-01],\n",
              "        [6.86613589e-01, 1.32052049e-01]],\n",
              "\n",
              "       [[5.44224008e-01, 8.03170894e-02],\n",
              "        [4.79105752e-01, 6.66605098e-01],\n",
              "        [7.22646368e-01, 1.11021481e-01],\n",
              "        [9.04797997e-01, 6.83858796e-01],\n",
              "        [1.79860725e-01, 7.03712631e-01]],\n",
              "\n",
              "       [[1.03594571e-01, 4.40510463e-01],\n",
              "        [9.28299686e-02, 3.12872354e-01],\n",
              "        [6.76795113e-01, 2.91182303e-01],\n",
              "        [9.16000584e-01, 7.00144185e-01],\n",
              "        [1.74386606e-01, 5.71457250e-01]],\n",
              "\n",
              "       [[4.84596710e-01, 7.80367450e-01],\n",
              "        [6.51465625e-01, 6.88134952e-02],\n",
              "        [9.21246885e-01, 9.15753587e-03],\n",
              "        [3.14503503e-01, 8.73754351e-01],\n",
              "        [8.05684643e-01, 9.59454768e-01]],\n",
              "\n",
              "       [[7.34988250e-01, 2.45417707e-02],\n",
              "        [9.00751044e-01, 1.56060919e-01],\n",
              "        [4.89159334e-03, 1.57007590e-02],\n",
              "        [9.91501398e-01, 2.48041332e-01],\n",
              "        [9.84105766e-02, 2.64684100e-02]],\n",
              "\n",
              "       [[2.96558561e-01, 1.64365426e-01],\n",
              "        [2.93432606e-01, 9.33002095e-01],\n",
              "        [9.03489798e-01, 9.45144555e-01],\n",
              "        [4.14053626e-01, 3.76202510e-01],\n",
              "        [4.21840737e-01, 8.87689850e-01]],\n",
              "\n",
              "       [[3.75457593e-01, 2.16751478e-01],\n",
              "        [9.94429058e-01, 5.47468333e-01],\n",
              "        [7.70319563e-01, 6.40264999e-01],\n",
              "        [6.97007764e-01, 3.37213621e-01],\n",
              "        [3.54996664e-01, 2.70849862e-01]],\n",
              "\n",
              "       [[6.23165548e-01, 3.95863517e-01],\n",
              "        [2.73620512e-01, 8.75683885e-01],\n",
              "        [8.67743871e-01, 1.21484267e-01],\n",
              "        [4.45474329e-01, 6.90579840e-01],\n",
              "        [1.41401345e-01, 1.64442550e-02]],\n",
              "\n",
              "       [[8.68967711e-01, 1.50580760e-01],\n",
              "        [9.10669665e-01, 6.61474678e-01],\n",
              "        [8.82835302e-01, 6.01224503e-02],\n",
              "        [3.38311381e-01, 1.33967354e-01],\n",
              "        [4.95365976e-02, 8.89411868e-01]],\n",
              "\n",
              "       [[6.04465594e-01, 9.86969611e-01],\n",
              "        [7.59765007e-01, 4.60932672e-01],\n",
              "        [6.93664505e-01, 5.13162324e-01],\n",
              "        [6.24166224e-02, 7.64363259e-01],\n",
              "        [7.33543986e-01, 1.39386844e-01]],\n",
              "\n",
              "       [[3.83710550e-01, 1.94427162e-01],\n",
              "        [4.83550005e-01, 3.32879757e-01],\n",
              "        [5.78846385e-01, 2.48913665e-01],\n",
              "        [2.95748377e-01, 7.42409940e-01],\n",
              "        [5.46873408e-02, 4.98442646e-01]],\n",
              "\n",
              "       [[5.51043956e-01, 7.01307334e-01],\n",
              "        [6.49411856e-01, 8.12792572e-02],\n",
              "        [8.68564300e-01, 2.30334235e-01],\n",
              "        [6.24905681e-01, 3.82266069e-01],\n",
              "        [9.30101055e-01, 2.20327047e-01]],\n",
              "\n",
              "       [[7.38713807e-02, 5.27911258e-01],\n",
              "        [5.04366750e-01, 2.85825859e-01],\n",
              "        [2.46532914e-01, 5.11464105e-01],\n",
              "        [5.95030310e-01, 3.89925059e-01],\n",
              "        [3.25119844e-01, 3.73728828e-01]],\n",
              "\n",
              "       [[5.63843998e-01, 3.41919649e-01],\n",
              "        [6.84209499e-01, 7.81522332e-02],\n",
              "        [3.78434768e-01, 5.11430739e-01],\n",
              "        [2.96675061e-01, 4.63959574e-01],\n",
              "        [5.21299849e-01, 8.60679129e-02]],\n",
              "\n",
              "       [[6.65026914e-01, 3.32329552e-01],\n",
              "        [1.60280911e-01, 8.07918968e-01],\n",
              "        [1.74210290e-01, 3.76826410e-01],\n",
              "        [4.44400356e-01, 6.87124469e-01],\n",
              "        [2.63370564e-01, 9.04416703e-01]],\n",
              "\n",
              "       [[3.92618395e-01, 2.67015845e-01],\n",
              "        [8.51630322e-01, 2.23279653e-02],\n",
              "        [9.57513820e-01, 1.16591368e-01],\n",
              "        [3.77613386e-01, 7.76176179e-02],\n",
              "        [3.83399768e-01, 7.36215480e-01]],\n",
              "\n",
              "       [[9.87378044e-01, 6.39792133e-01],\n",
              "        [7.88846002e-01, 4.23735679e-01],\n",
              "        [8.00917456e-01, 3.40314811e-01],\n",
              "        [1.75454934e-01, 6.20782441e-01],\n",
              "        [9.96058055e-01, 5.16886670e-01]],\n",
              "\n",
              "       [[5.71248518e-01, 7.12472215e-01],\n",
              "        [3.52313182e-01, 5.83931856e-01],\n",
              "        [9.77609303e-01, 5.48845908e-01],\n",
              "        [1.22245260e-02, 5.73820383e-01],\n",
              "        [1.82161103e-01, 5.52563548e-01]],\n",
              "\n",
              "       [[9.64915373e-01, 3.61086266e-01],\n",
              "        [7.49349845e-01, 5.63174776e-01],\n",
              "        [9.34121373e-01, 9.34954261e-01],\n",
              "        [7.43125823e-02, 9.84452248e-01],\n",
              "        [6.29532404e-01, 3.05359037e-01]],\n",
              "\n",
              "       [[8.96265811e-01, 3.20581051e-02],\n",
              "        [3.13908529e-01, 6.48781310e-01],\n",
              "        [5.00787908e-01, 9.39273680e-01],\n",
              "        [3.96542326e-01, 5.93939699e-01],\n",
              "        [5.50726952e-01, 4.77986283e-01]],\n",
              "\n",
              "       [[6.49819769e-02, 5.23289873e-02],\n",
              "        [3.98813654e-01, 6.12669299e-01],\n",
              "        [5.53714281e-01, 5.32145865e-01],\n",
              "        [3.87838011e-01, 5.23716416e-02],\n",
              "        [5.41980415e-01, 4.65900277e-01]],\n",
              "\n",
              "       [[9.00653942e-01, 7.59692059e-01],\n",
              "        [1.62318407e-01, 4.80852331e-01],\n",
              "        [2.48799807e-01, 1.67745852e-01],\n",
              "        [6.56543115e-01, 3.06198679e-01],\n",
              "        [7.76057679e-01, 5.32927294e-01]],\n",
              "\n",
              "       [[2.99488752e-01, 4.65915529e-01],\n",
              "        [5.45755610e-02, 7.66065675e-01],\n",
              "        [5.50251038e-01, 8.71510164e-01],\n",
              "        [7.78864057e-01, 4.14790690e-03],\n",
              "        [1.11525970e-01, 3.12146496e-01]],\n",
              "\n",
              "       [[8.25692684e-01, 8.86956610e-01],\n",
              "        [4.67529320e-01, 6.78890452e-01],\n",
              "        [4.35655933e-01, 4.73260920e-01],\n",
              "        [6.01310075e-01, 5.26466214e-01],\n",
              "        [5.57202091e-01, 1.06477837e-02]],\n",
              "\n",
              "       [[7.22832246e-01, 9.32834182e-01],\n",
              "        [6.22032191e-01, 6.53918664e-01],\n",
              "        [3.66056414e-01, 8.57123376e-01],\n",
              "        [2.42232346e-01, 3.37671739e-01],\n",
              "        [7.80979132e-01, 9.58976589e-01]],\n",
              "\n",
              "       [[6.28079403e-01, 7.71307550e-01],\n",
              "        [9.42661388e-01, 8.51123135e-01],\n",
              "        [1.07919445e-01, 7.10442549e-01],\n",
              "        [7.04390505e-01, 9.21209240e-01],\n",
              "        [6.69167161e-01, 7.24180223e-01]],\n",
              "\n",
              "       [[1.66150442e-01, 4.18585340e-01],\n",
              "        [8.86731357e-01, 9.92111123e-01],\n",
              "        [8.30181723e-01, 6.15552369e-02],\n",
              "        [8.87662610e-01, 7.32237497e-01],\n",
              "        [8.97752535e-01, 2.04027855e-01]],\n",
              "\n",
              "       [[1.71640389e-01, 6.48979538e-01],\n",
              "        [7.77111703e-01, 5.88949451e-01],\n",
              "        [9.06262861e-02, 5.52203659e-02],\n",
              "        [5.70095588e-01, 7.13694782e-01],\n",
              "        [9.10393990e-01, 1.53397744e-01]],\n",
              "\n",
              "       [[5.62065875e-02, 4.43286923e-01],\n",
              "        [3.52436389e-02, 8.23842829e-01],\n",
              "        [4.86518140e-01, 7.52668973e-01],\n",
              "        [4.04945957e-01, 3.10312696e-01],\n",
              "        [6.88243013e-01, 8.74484958e-01]],\n",
              "\n",
              "       [[1.69695218e-01, 4.96420246e-01],\n",
              "        [3.99085614e-01, 5.85586608e-01],\n",
              "        [2.37979895e-01, 7.26802758e-01],\n",
              "        [8.03261831e-01, 1.04279478e-01],\n",
              "        [4.55414431e-01, 1.16021890e-02]],\n",
              "\n",
              "       [[4.75003415e-01, 7.70265799e-01],\n",
              "        [3.86862562e-02, 7.78980111e-01],\n",
              "        [7.20779296e-01, 7.54134777e-01],\n",
              "        [7.15452454e-01, 2.78653192e-01],\n",
              "        [2.64288735e-01, 8.42540309e-01]],\n",
              "\n",
              "       [[5.89223079e-01, 7.95504466e-01],\n",
              "        [4.38091416e-01, 4.38058626e-01],\n",
              "        [9.35709999e-01, 1.10648429e-02],\n",
              "        [5.50064625e-01, 9.79682111e-01],\n",
              "        [2.35785798e-01, 9.16657092e-01]],\n",
              "\n",
              "       [[6.54669309e-01, 8.76843120e-01],\n",
              "        [3.12639399e-01, 7.82105739e-01],\n",
              "        [6.96160197e-01, 9.79270170e-01],\n",
              "        [4.27802525e-01, 8.92305108e-01],\n",
              "        [3.19081508e-01, 7.57920521e-01]],\n",
              "\n",
              "       [[3.22020368e-01, 8.28987860e-01],\n",
              "        [2.12568301e-01, 7.04781660e-01],\n",
              "        [5.97635684e-01, 6.29977251e-01],\n",
              "        [5.51415741e-01, 6.89282598e-01],\n",
              "        [8.81508692e-02, 4.47342999e-01]],\n",
              "\n",
              "       [[9.78966909e-01, 5.67493945e-01],\n",
              "        [1.66487051e-01, 7.34333208e-01],\n",
              "        [6.61061245e-01, 8.82283065e-01],\n",
              "        [5.55136528e-02, 1.18959039e-02],\n",
              "        [5.43735638e-01, 9.30330236e-01]],\n",
              "\n",
              "       [[9.23085763e-01, 5.89402118e-01],\n",
              "        [3.81586396e-02, 1.79248793e-02],\n",
              "        [9.56171847e-01, 6.91822818e-01],\n",
              "        [1.51606407e-01, 1.56134073e-02],\n",
              "        [3.38664778e-01, 9.68196330e-01]],\n",
              "\n",
              "       [[2.77701849e-01, 5.04619963e-01],\n",
              "        [7.87503788e-01, 1.17412252e-01],\n",
              "        [8.87502572e-01, 8.64623789e-01],\n",
              "        [4.58012001e-01, 1.73405615e-01],\n",
              "        [5.64790898e-02, 7.90625652e-01]],\n",
              "\n",
              "       [[6.85484267e-01, 8.15728067e-01],\n",
              "        [2.74530502e-01, 1.96862914e-01],\n",
              "        [9.37428190e-01, 6.49424876e-02],\n",
              "        [5.79298658e-01, 4.89579087e-01],\n",
              "        [8.97061139e-02, 7.73276499e-01]],\n",
              "\n",
              "       [[9.37495616e-01, 7.00429622e-01],\n",
              "        [2.56984017e-01, 3.72305400e-01],\n",
              "        [3.46569769e-01, 3.25282453e-01],\n",
              "        [1.64430021e-01, 4.16220117e-02],\n",
              "        [3.05186771e-01, 4.18048068e-01]],\n",
              "\n",
              "       [[3.16169848e-01, 2.15733746e-01],\n",
              "        [4.41707590e-01, 7.40436276e-01],\n",
              "        [8.09839553e-01, 3.97428093e-01],\n",
              "        [9.06929557e-01, 2.77653418e-01],\n",
              "        [5.88481220e-01, 4.23178063e-01]],\n",
              "\n",
              "       [[6.42349262e-01, 7.56157385e-01],\n",
              "        [3.66503742e-01, 9.88280070e-01],\n",
              "        [5.94298792e-01, 8.79809426e-01],\n",
              "        [6.46511258e-01, 2.83295428e-01],\n",
              "        [1.00053122e-01, 4.49292709e-01]],\n",
              "\n",
              "       [[4.30382122e-01, 3.94965500e-01],\n",
              "        [7.59871189e-01, 1.54956776e-01],\n",
              "        [2.23536009e-01, 8.33919606e-01],\n",
              "        [4.00221221e-01, 7.95687564e-01],\n",
              "        [9.52559180e-01, 9.28806927e-01]],\n",
              "\n",
              "       [[6.75308558e-01, 5.30766893e-01],\n",
              "        [9.56255714e-01, 1.54076819e-02],\n",
              "        [9.70199973e-01, 8.27782255e-02],\n",
              "        [9.34784508e-01, 4.09743142e-01],\n",
              "        [7.48189707e-01, 8.93070850e-04]],\n",
              "\n",
              "       [[6.57329748e-01, 3.77709160e-02],\n",
              "        [1.01771295e-01, 8.38803851e-01],\n",
              "        [6.29279369e-01, 9.53162733e-02],\n",
              "        [4.65842324e-01, 2.94478219e-01],\n",
              "        [6.96124723e-01, 5.02857517e-02]],\n",
              "\n",
              "       [[9.99313098e-01, 7.60061291e-01],\n",
              "        [4.28867728e-01, 9.83702494e-01],\n",
              "        [6.63082194e-02, 8.54481875e-01],\n",
              "        [8.96042625e-01, 8.40159786e-01],\n",
              "        [5.37760768e-01, 5.12750409e-01]],\n",
              "\n",
              "       [[4.66495350e-01, 8.92157616e-01],\n",
              "        [1.83261448e-01, 4.60954851e-01],\n",
              "        [9.71956042e-01, 7.86050746e-01],\n",
              "        [9.24605581e-01, 9.64122850e-01],\n",
              "        [2.58577174e-01, 9.02443827e-01]],\n",
              "\n",
              "       [[9.50106741e-01, 1.44817935e-01],\n",
              "        [6.78019650e-01, 3.49568097e-01],\n",
              "        [4.82652167e-01, 3.31620396e-01],\n",
              "        [2.66766004e-01, 8.60949460e-01],\n",
              "        [3.54399191e-01, 8.24477879e-01]],\n",
              "\n",
              "       [[7.44029636e-01, 1.43474487e-01],\n",
              "        [4.37173567e-01, 7.63804679e-02],\n",
              "        [4.75216510e-01, 8.30712379e-01],\n",
              "        [3.16405576e-01, 6.70406824e-01],\n",
              "        [6.51051114e-02, 5.65261771e-02]],\n",
              "\n",
              "       [[5.55293843e-01, 2.43102150e-01],\n",
              "        [5.48723523e-01, 9.47146958e-01],\n",
              "        [8.29192413e-01, 1.77614102e-01],\n",
              "        [8.10942268e-02, 5.98297183e-01],\n",
              "        [3.50632754e-01, 5.56266326e-01]],\n",
              "\n",
              "       [[7.87129387e-01, 3.54845320e-01],\n",
              "        [3.75980114e-01, 9.43280738e-01],\n",
              "        [9.30030660e-01, 4.33524715e-01],\n",
              "        [9.58575311e-01, 7.64615647e-02],\n",
              "        [5.84504409e-01, 5.30232270e-01]],\n",
              "\n",
              "       [[4.88440831e-01, 6.47322097e-01],\n",
              "        [1.97469005e-01, 7.05223451e-01],\n",
              "        [1.98330440e-02, 9.19103547e-01],\n",
              "        [2.34652964e-01, 4.69464756e-01],\n",
              "        [6.68261429e-01, 5.66181167e-01]],\n",
              "\n",
              "       [[7.06306598e-02, 5.29706406e-01],\n",
              "        [4.45814886e-01, 8.78771232e-01],\n",
              "        [4.91594787e-01, 2.08658892e-01],\n",
              "        [8.22933989e-01, 3.35630972e-01],\n",
              "        [5.28794565e-01, 3.19280505e-01]]])"
            ]
          },
          "metadata": {},
          "execution_count": 46
        }
      ]
    },
    {
      "cell_type": "code",
      "source": [
        "a = np.array([1, 2, 3])\n",
        "b = np.array([4, 5, 6])\n",
        "\n",
        "result = np.dot(a, b)\n",
        "# or\n",
        "#t = a @ b #dot product\n",
        "result"
      ],
      "metadata": {
        "colab": {
          "base_uri": "https://localhost:8080/"
        },
        "id": "rVunWq9I04X4",
        "outputId": "a3c2b78d-9b84-4195-ad61-40cb6743bb7d"
      },
      "execution_count": 47,
      "outputs": [
        {
          "output_type": "execute_result",
          "data": {
            "text/plain": [
              "np.int64(32)"
            ]
          },
          "metadata": {},
          "execution_count": 47
        }
      ]
    },
    {
      "cell_type": "code",
      "source": [
        "# Reshaping data for time-series analysis\n",
        "time_series_data = np.random.rand(365)  # Daily data for a year\n",
        "#reshaped_for_analysis = time_series_data.reshape(52, 7)  # Weekly data, 7 days a week\n",
        "reshaped_for_analysis = time_series_data[:364].reshape(52, 7)\n",
        "reshaped_for_analysis"
      ],
      "metadata": {
        "colab": {
          "base_uri": "https://localhost:8080/"
        },
        "id": "ikkBZvdv04bH",
        "outputId": "d9b9274a-dd20-4257-b5e5-771c1fa57f28"
      },
      "execution_count": 48,
      "outputs": [
        {
          "output_type": "execute_result",
          "data": {
            "text/plain": [
              "array([[0.01429287, 0.14681769, 0.18415599, 0.15196516, 0.31124479,\n",
              "        0.24547368, 0.03271851],\n",
              "       [0.12947037, 0.38540128, 0.52910113, 0.55307024, 0.07397917,\n",
              "        0.05187091, 0.67409051],\n",
              "       [0.69186527, 0.74513603, 0.19818323, 0.48263837, 0.08204405,\n",
              "        0.61379031, 0.79833857],\n",
              "       [0.21541425, 0.68189441, 0.98422607, 0.88700408, 0.7028494 ,\n",
              "        0.40325893, 0.28987824],\n",
              "       [0.75855527, 0.3571945 , 0.20537928, 0.32312497, 0.44617499,\n",
              "        0.16091726, 0.07970273],\n",
              "       [0.31176305, 0.5463161 , 0.13080468, 0.41020951, 0.33830977,\n",
              "        0.9023975 , 0.22881751],\n",
              "       [0.82909002, 0.66929554, 0.27635819, 0.16179362, 0.21503002,\n",
              "        0.74703491, 0.41366007],\n",
              "       [0.99746424, 0.54917726, 0.10131519, 0.66940627, 0.93900363,\n",
              "        0.29267908, 0.23690358],\n",
              "       [0.36536198, 0.85332384, 0.29993318, 0.67125616, 0.05800789,\n",
              "        0.52065694, 0.1574142 ],\n",
              "       [0.77184801, 0.67213675, 0.13540881, 0.68718966, 0.37202662,\n",
              "        0.27596953, 0.05325924],\n",
              "       [0.94695599, 0.20103578, 0.17821565, 0.9690099 , 0.08348804,\n",
              "        0.98289005, 0.46773726],\n",
              "       [0.97872649, 0.68359614, 0.32072625, 0.56824508, 0.363527  ,\n",
              "        0.53035859, 0.98451705],\n",
              "       [0.53623899, 0.29175331, 0.06623987, 0.08366228, 0.90704753,\n",
              "        0.53705667, 0.04913448],\n",
              "       [0.78976507, 0.22048681, 0.48370425, 0.96085893, 0.47509156,\n",
              "        0.42136751, 0.04537313],\n",
              "       [0.37673819, 0.52832375, 0.73855305, 0.33809055, 0.24677584,\n",
              "        0.7552727 , 0.72365691],\n",
              "       [0.08584656, 0.29304765, 0.29687415, 0.96414915, 0.13703771,\n",
              "        0.03695756, 0.651067  ],\n",
              "       [0.1595316 , 0.5153241 , 0.67834897, 0.72524673, 0.30177622,\n",
              "        0.38192496, 0.52336709],\n",
              "       [0.57398269, 0.76747982, 0.06920527, 0.18201834, 0.01350602,\n",
              "        0.89745699, 0.77859984],\n",
              "       [0.94415318, 0.52981721, 0.13593432, 0.05769021, 0.29532231,\n",
              "        0.12031564, 0.33924313],\n",
              "       [0.03556181, 0.91219392, 0.66537228, 0.91558147, 0.40861182,\n",
              "        0.42677872, 0.44432766],\n",
              "       [0.59732882, 0.20245112, 0.44112841, 0.24378876, 0.19953003,\n",
              "        0.7351233 , 0.67157479],\n",
              "       [0.53151012, 0.34210543, 0.32198002, 0.01366008, 0.41312103,\n",
              "        0.81369347, 0.54858852],\n",
              "       [0.98528097, 0.68117059, 0.97530829, 0.56964648, 0.92305135,\n",
              "        0.25746828, 0.76991154],\n",
              "       [0.06394251, 0.91561759, 0.19859532, 0.59199611, 0.59282865,\n",
              "        0.85932775, 0.09429498],\n",
              "       [0.72534554, 0.47277131, 0.0339546 , 0.02273313, 0.08855096,\n",
              "        0.66631743, 0.59846344],\n",
              "       [0.76325192, 0.11460489, 0.91646831, 0.70780037, 0.23287097,\n",
              "        0.36544867, 0.49851536],\n",
              "       [0.64461408, 0.41087748, 0.55137686, 0.13604404, 0.78189949,\n",
              "        0.42328649, 0.90381011],\n",
              "       [0.21682666, 0.62345602, 0.19593889, 0.63257555, 0.69191338,\n",
              "        0.88828378, 0.71933508],\n",
              "       [0.60134602, 0.33937256, 0.36412106, 0.35818122, 0.22657983,\n",
              "        0.7242929 , 0.23255935],\n",
              "       [0.98106021, 0.69639462, 0.40466004, 0.20111926, 0.62270132,\n",
              "        0.81517092, 0.14230036],\n",
              "       [0.2896355 , 0.32310305, 0.57195498, 0.63672019, 0.81840592,\n",
              "        0.11967387, 0.08242723],\n",
              "       [0.74619919, 0.31309873, 0.75538877, 0.76537703, 0.90124928,\n",
              "        0.66175967, 0.75979421],\n",
              "       [0.23563332, 0.97519358, 0.7175714 , 0.75728218, 0.78627212,\n",
              "        0.09175471, 0.02337529],\n",
              "       [0.53712572, 0.61999191, 0.70585699, 0.00261201, 0.01147667,\n",
              "        0.2911064 , 0.66917465],\n",
              "       [0.26787207, 0.99677876, 0.32217978, 0.76696672, 0.31335709,\n",
              "        0.30155881, 0.13018822],\n",
              "       [0.31025362, 0.65674484, 0.63817436, 0.56029382, 0.9717589 ,\n",
              "        0.92676837, 0.8915849 ],\n",
              "       [0.34173834, 0.92329228, 0.82572998, 0.86789655, 0.6963728 ,\n",
              "        0.92024879, 0.22324208],\n",
              "       [0.78942485, 0.03459874, 0.54689801, 0.56938407, 0.24484277,\n",
              "        0.05804817, 0.83966031],\n",
              "       [0.92366763, 0.37440559, 0.70470441, 0.59090871, 0.82668769,\n",
              "        0.35629714, 0.84155754],\n",
              "       [0.50365638, 0.03469659, 0.81971397, 0.90254511, 0.24091211,\n",
              "        0.353704  , 0.87705567],\n",
              "       [0.77648131, 0.19990611, 0.19527958, 0.80560437, 0.71202821,\n",
              "        0.10727649, 0.8451956 ],\n",
              "       [0.77761929, 0.93457921, 0.74383817, 0.19193152, 0.68576768,\n",
              "        0.37142811, 0.16208595],\n",
              "       [0.19679067, 0.91090152, 0.44058273, 0.80319365, 0.71010139,\n",
              "        0.87316586, 0.21784845],\n",
              "       [0.67685471, 0.33687654, 0.76994633, 0.91031357, 0.21062681,\n",
              "        0.24772547, 0.23064744],\n",
              "       [0.33843914, 0.10661668, 0.363375  , 0.46079384, 0.74582623,\n",
              "        0.62755573, 0.50397556],\n",
              "       [0.18882095, 0.57501358, 0.67585323, 0.71828925, 0.03672191,\n",
              "        0.96553763, 0.71728362],\n",
              "       [0.48757771, 0.29782454, 0.84113978, 0.50222371, 0.24946527,\n",
              "        0.52500615, 0.63011056],\n",
              "       [0.36594924, 0.56972434, 0.37586273, 0.60115185, 0.61050238,\n",
              "        0.98448763, 0.64067719],\n",
              "       [0.21402055, 0.40023186, 0.49872242, 0.84805239, 0.53499787,\n",
              "        0.56533807, 0.96530124],\n",
              "       [0.64417172, 0.15689913, 0.28392752, 0.27593937, 0.27914095,\n",
              "        0.86140846, 0.78518097],\n",
              "       [0.03284215, 0.8412383 , 0.05756608, 0.28319601, 0.90236434,\n",
              "        0.03728635, 0.03727021],\n",
              "       [0.52991336, 0.33701244, 0.71263344, 0.4961679 , 0.92331251,\n",
              "        0.73451195, 0.81399466]])"
            ]
          },
          "metadata": {},
          "execution_count": 48
        }
      ]
    },
    {
      "cell_type": "code",
      "source": [],
      "metadata": {
        "id": "uztVLpch04fO"
      },
      "execution_count": null,
      "outputs": []
    },
    {
      "cell_type": "code",
      "source": [],
      "metadata": {
        "id": "5F1cv5fizCnt"
      },
      "execution_count": null,
      "outputs": []
    }
  ]
}
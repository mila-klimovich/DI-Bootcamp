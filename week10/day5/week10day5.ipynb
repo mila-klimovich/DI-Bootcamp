{
  "nbformat": 4,
  "nbformat_minor": 0,
  "metadata": {
    "colab": {
      "provenance": []
    },
    "kernelspec": {
      "name": "python3",
      "display_name": "Python 3"
    },
    "language_info": {
      "name": "python"
    }
  },
  "cells": [
    {
      "cell_type": "code",
      "execution_count": 1,
      "metadata": {
        "id": "udtp3pH7Sxkz",
        "colab": {
          "base_uri": "https://localhost:8080/"
        },
        "outputId": "fe9d21be-e27a-4e23-8936-80cb19cc59cd"
      },
      "outputs": [
        {
          "output_type": "stream",
          "name": "stdout",
          "text": [
            "Requirement already satisfied: numpy in /usr/local/lib/python3.11/dist-packages (2.0.2)\n"
          ]
        }
      ],
      "source": [
        "!pip install numpy"
      ]
    },
    {
      "cell_type": "code",
      "source": [
        "import numpy as np"
      ],
      "metadata": {
        "id": "Cd5_lisoS1Ig"
      },
      "execution_count": 2,
      "outputs": []
    },
    {
      "cell_type": "code",
      "source": [
        "print(np.__version__)"
      ],
      "metadata": {
        "id": "B47qoDeHS3km",
        "colab": {
          "base_uri": "https://localhost:8080/"
        },
        "outputId": "3f418226-d7c6-4cb6-8e22-21e4848c43dd"
      },
      "execution_count": 3,
      "outputs": [
        {
          "output_type": "stream",
          "name": "stdout",
          "text": [
            "2.0.2\n"
          ]
        }
      ]
    },
    {
      "cell_type": "code",
      "source": [
        "import numpy as np\n",
        "\n",
        "# Creating a 1D NumPy array\n",
        "array_1d = np.array([1, 2, 3, 4])\n",
        "print(\"1D Array:\", array_1d)\n",
        "\n",
        "# Creating a 2D NumPy array\n",
        "array_2d = np.array([[1, 2, 3], [4, 5, 6]])\n",
        "print(\"\\n2D Array:\\n\", array_2d)\n",
        "\n",
        "array_3d = np.array([[[1, 2], [3, 4]], [[5, 6], [7, 8]]])\n",
        "print(\"\\n3D Array:\\n\", array_3d)"
      ],
      "metadata": {
        "id": "gyKcC73A3ETW",
        "colab": {
          "base_uri": "https://localhost:8080/"
        },
        "outputId": "33496688-9a3f-46f8-b7fa-5002db437163"
      },
      "execution_count": 4,
      "outputs": [
        {
          "output_type": "stream",
          "name": "stdout",
          "text": [
            "1D Array: [1 2 3 4]\n",
            "\n",
            "2D Array:\n",
            " [[1 2 3]\n",
            " [4 5 6]]\n",
            "\n",
            "3D Array:\n",
            " [[[1 2]\n",
            "  [3 4]]\n",
            "\n",
            " [[5 6]\n",
            "  [7 8]]]\n"
          ]
        }
      ]
    },
    {
      "cell_type": "code",
      "source": [
        "\n",
        "# Array attributes\n",
        "print(\"Shape:\", array_2d.shape)  # Expected Output: Shape: (2, 3) - 2 rows and 3 columns\n",
        "print(\"Size:\", array_2d.size)   # Expected Output: Size: 6 - Total 6 elements\n",
        "print(\"Data Type:\", array_2d.dtype)  # Expected Output: Data Type: int64 (or similar, depending on system)"
      ],
      "metadata": {
        "id": "CkXchNeF3Nty",
        "colab": {
          "base_uri": "https://localhost:8080/"
        },
        "outputId": "007578d0-9145-42c3-d8ee-80a510858f68"
      },
      "execution_count": 5,
      "outputs": [
        {
          "output_type": "stream",
          "name": "stdout",
          "text": [
            "Shape: (2, 3)\n",
            "Size: 6\n",
            "Data Type: int64\n"
          ]
        }
      ]
    },
    {
      "cell_type": "code",
      "source": [
        "array_1d = np.array([1, 2, 3, 4])\n",
        "# Output: 1D Array: [1 2 3 4], Shape: (4,), Size: 4\n",
        "print(array_1d)\n",
        "print(\"Shape:\", array_1d.shape)\n",
        "print(\"Size:\", array_1d.size)"
      ],
      "metadata": {
        "id": "Te5jUC1L3WyT",
        "colab": {
          "base_uri": "https://localhost:8080/"
        },
        "outputId": "2be4f63a-0c35-4bae-8206-2348635a767b"
      },
      "execution_count": 9,
      "outputs": [
        {
          "output_type": "stream",
          "name": "stdout",
          "text": [
            "[1 2 3 4]\n",
            "Shape: (4,)\n",
            "Size: 4\n"
          ]
        }
      ]
    },
    {
      "cell_type": "code",
      "source": [
        "array_2d = np.array([[1, 2, 3], [4, 5, 6]])\n",
        "array_2d\n",
        "# Shape: (2, 3), Size: 6"
      ],
      "metadata": {
        "id": "7i9hz8D-3Z91",
        "colab": {
          "base_uri": "https://localhost:8080/"
        },
        "outputId": "00764131-0ba4-4ae0-df65-fca46af73307"
      },
      "execution_count": 10,
      "outputs": [
        {
          "output_type": "execute_result",
          "data": {
            "text/plain": [
              "array([[1, 2, 3],\n",
              "       [4, 5, 6]])"
            ]
          },
          "metadata": {},
          "execution_count": 10
        }
      ]
    },
    {
      "cell_type": "code",
      "source": [
        "array_3d = np.array([[[1, 2], [3, 4]], [[5, 6], [7, 8]]])\n",
        "array_3d\n",
        "# Shape: (2, 2, 2), Size: 8"
      ],
      "metadata": {
        "id": "FOrLgUUb3kD4",
        "colab": {
          "base_uri": "https://localhost:8080/"
        },
        "outputId": "0b7453e0-6f0c-4991-db6b-203d9af7ca46"
      },
      "execution_count": 11,
      "outputs": [
        {
          "output_type": "execute_result",
          "data": {
            "text/plain": [
              "array([[[1, 2],\n",
              "        [3, 4]],\n",
              "\n",
              "       [[5, 6],\n",
              "        [7, 8]]])"
            ]
          },
          "metadata": {},
          "execution_count": 11
        }
      ]
    },
    {
      "cell_type": "code",
      "source": [
        "np.zeros((3, 2))  # 3 rows, 2 columns"
      ],
      "metadata": {
        "id": "HuzNTF7oB-KR",
        "colab": {
          "base_uri": "https://localhost:8080/"
        },
        "outputId": "ddf73c99-77cf-47a1-d7fc-2c1ef2eab9de"
      },
      "execution_count": 12,
      "outputs": [
        {
          "output_type": "execute_result",
          "data": {
            "text/plain": [
              "array([[0., 0.],\n",
              "       [0., 0.],\n",
              "       [0., 0.]])"
            ]
          },
          "metadata": {},
          "execution_count": 12
        }
      ]
    },
    {
      "cell_type": "code",
      "source": [
        "np.ones((2, 3))"
      ],
      "metadata": {
        "id": "J4BLrm50CBX7",
        "colab": {
          "base_uri": "https://localhost:8080/"
        },
        "outputId": "c80df0b7-8404-4f26-fb37-503b6bf17178"
      },
      "execution_count": 13,
      "outputs": [
        {
          "output_type": "execute_result",
          "data": {
            "text/plain": [
              "array([[1., 1., 1.],\n",
              "       [1., 1., 1.]])"
            ]
          },
          "metadata": {},
          "execution_count": 13
        }
      ]
    },
    {
      "cell_type": "code",
      "source": [
        "np.zeros((2, 3), dtype=int) #np.array([1, 2, 3], dtype=float) #np.zeros((2, 3), dtype=np.float64)\n",
        "#arr.astype(int)\n",
        "\n",
        "\n"
      ],
      "metadata": {
        "id": "bXqYnc82CEOD",
        "colab": {
          "base_uri": "https://localhost:8080/"
        },
        "outputId": "d4f474da-938a-4a60-ea85-66d98f195ed6"
      },
      "execution_count": 14,
      "outputs": [
        {
          "output_type": "execute_result",
          "data": {
            "text/plain": [
              "array([[0, 0, 0],\n",
              "       [0, 0, 0]])"
            ]
          },
          "metadata": {},
          "execution_count": 14
        }
      ]
    },
    {
      "cell_type": "code",
      "source": [],
      "metadata": {
        "id": "CDhzTynR3zT_"
      },
      "execution_count": null,
      "outputs": []
    },
    {
      "cell_type": "code",
      "source": [
        "import numpy as np\n",
        "\n",
        "# Example 2D array\n",
        "array_2d = np.array([[1, 2, 3], [4, 5, 6], [7, 8, 9]])\n",
        "\n",
        "# Accessing a single element\n",
        "print(\"Element at row 1, column 2:\", array_2d[1, 2])  # Output: 6\n",
        "\n",
        "# Accessing a row\n",
        "print(\"Second row:\", array_2d[1, :])  # Output: [4 5 6]\n",
        "\n",
        "# Accessing a column\n",
        "print(\"Third column:\", array_2d[:, 2])  # Output: [3 6 9]"
      ],
      "metadata": {
        "id": "RXn7CfUR38gy",
        "colab": {
          "base_uri": "https://localhost:8080/"
        },
        "outputId": "ee030f46-2d9e-4b0c-c036-c39f407b25cc"
      },
      "execution_count": 15,
      "outputs": [
        {
          "output_type": "stream",
          "name": "stdout",
          "text": [
            "Element at row 1, column 2: 6\n",
            "Second row: [4 5 6]\n",
            "Third column: [3 6 9]\n"
          ]
        }
      ]
    },
    {
      "cell_type": "code",
      "source": [
        "import numpy as np\n",
        "\n",
        "# Example 2D array\n",
        "array_2d = np.array([[1, 2, 3], [4, 5, 6], [7, 8, 9]])\n",
        "\n",
        "# Slicing a portion of the array\n",
        "print(\"Slice of the array:\", array_2d[0:2, 1:3])  # Output: [[2 3] [5 6]]"
      ],
      "metadata": {
        "id": "K3Z0fbIP4eAr",
        "colab": {
          "base_uri": "https://localhost:8080/"
        },
        "outputId": "3e64e45f-7c2f-418e-9f76-ac6864c3c8e4"
      },
      "execution_count": 16,
      "outputs": [
        {
          "output_type": "stream",
          "name": "stdout",
          "text": [
            "Slice of the array: [[2 3]\n",
            " [5 6]]\n"
          ]
        }
      ]
    },
    {
      "cell_type": "code",
      "source": [
        "import numpy as np\n",
        "\n",
        "# Example array\n",
        "array = np.array([[1, 2], [3, 4], [5, 6]])\n",
        "\n",
        "# Boolean indexing\n",
        "result = array[array > 3]\n",
        "print(\"Result of Boolean Indexing:\", result)  # Output: [4 5 6], a 1D array"
      ],
      "metadata": {
        "id": "qsQhkLy24-aI",
        "colab": {
          "base_uri": "https://localhost:8080/"
        },
        "outputId": "cd3a427c-2467-4aeb-d26f-4224a6a7a244"
      },
      "execution_count": 17,
      "outputs": [
        {
          "output_type": "stream",
          "name": "stdout",
          "text": [
            "Result of Boolean Indexing: [4 5 6]\n"
          ]
        }
      ]
    },
    {
      "cell_type": "code",
      "source": [
        "import numpy as np\n",
        "\n",
        "# Creating a sample array\n",
        "array = np.array([10, 20, 30, 40, 50])\n",
        "\n",
        "# Indexing (accessing a single element)\n",
        "print(\"First element:\", array[0])\n",
        "\n",
        "# Slicing (accessing multiple elements)\n",
        "print(\"First three elements:\", array[:3])"
      ],
      "metadata": {
        "id": "r66-fZkI5H0S",
        "colab": {
          "base_uri": "https://localhost:8080/"
        },
        "outputId": "fbf3cf9e-e400-4e2b-dd25-901c001a8192"
      },
      "execution_count": 18,
      "outputs": [
        {
          "output_type": "stream",
          "name": "stdout",
          "text": [
            "First element: 10\n",
            "First three elements: [10 20 30]\n"
          ]
        }
      ]
    },
    {
      "cell_type": "code",
      "source": [
        "# Boolean indexing\n",
        "print(\"Elements greater than 25:\", array[array > 25])\n",
        "\n",
        "# Fancy indexing (using a list of indices)\n",
        "print(\"Select specific elements:\", array[[1, 3]])"
      ],
      "metadata": {
        "id": "Yk3WNQ525oOl",
        "colab": {
          "base_uri": "https://localhost:8080/"
        },
        "outputId": "e87380c5-8de5-407a-bc89-3f7a0f6a26d3"
      },
      "execution_count": 19,
      "outputs": [
        {
          "output_type": "stream",
          "name": "stdout",
          "text": [
            "Elements greater than 25: [30 40 50]\n",
            "Select specific elements: [20 40]\n"
          ]
        }
      ]
    },
    {
      "cell_type": "code",
      "source": [],
      "metadata": {
        "id": "zJYIIvEG58rj"
      },
      "execution_count": null,
      "outputs": []
    },
    {
      "cell_type": "code",
      "source": [
        "rand = np.random.randint(10, 50, 6)\n",
        "print(rand)\n",
        "print(rand[rand>30])"
      ],
      "metadata": {
        "id": "R8dYd1lI5-oA",
        "colab": {
          "base_uri": "https://localhost:8080/"
        },
        "outputId": "0394db8f-a047-4b7a-e968-b7c20994de75"
      },
      "execution_count": 20,
      "outputs": [
        {
          "output_type": "stream",
          "name": "stdout",
          "text": [
            "[47 48 37 32 32 36]\n",
            "[47 48 37 32 32 36]\n"
          ]
        }
      ]
    },
    {
      "cell_type": "code",
      "source": [
        "x = np.array([1, 2, 3, 4, 5, 6, 7])\n",
        "new = np.random.permutation(x)\n",
        "new"
      ],
      "metadata": {
        "id": "l_sl7c9z6H7v",
        "colab": {
          "base_uri": "https://localhost:8080/"
        },
        "outputId": "8bf37b93-c573-4883-ae7e-eeb7fa6da1f0"
      },
      "execution_count": 21,
      "outputs": [
        {
          "output_type": "execute_result",
          "data": {
            "text/plain": [
              "array([2, 7, 1, 4, 6, 5, 3])"
            ]
          },
          "metadata": {},
          "execution_count": 21
        }
      ]
    },
    {
      "cell_type": "code",
      "source": [
        "two = np.array([[1,2], [3,4], [5,6]])\n",
        "np.random.permutation(two)"
      ],
      "metadata": {
        "id": "sscwTHD66OE9",
        "colab": {
          "base_uri": "https://localhost:8080/"
        },
        "outputId": "4a080f85-528a-4eab-ca82-718d5199e80e"
      },
      "execution_count": 22,
      "outputs": [
        {
          "output_type": "execute_result",
          "data": {
            "text/plain": [
              "array([[1, 2],\n",
              "       [5, 6],\n",
              "       [3, 4]])"
            ]
          },
          "metadata": {},
          "execution_count": 22
        }
      ]
    },
    {
      "cell_type": "code",
      "source": [
        "x = np.arange(10)\n",
        "x"
      ],
      "metadata": {
        "id": "jhccLxGe6RPi",
        "colab": {
          "base_uri": "https://localhost:8080/"
        },
        "outputId": "684b73b4-3978-42a5-9de9-2b18554aae74"
      },
      "execution_count": 23,
      "outputs": [
        {
          "output_type": "execute_result",
          "data": {
            "text/plain": [
              "array([0, 1, 2, 3, 4, 5, 6, 7, 8, 9])"
            ]
          },
          "metadata": {},
          "execution_count": 23
        }
      ]
    },
    {
      "cell_type": "code",
      "source": [
        "arr = np.array([1, 2, 3, 4, 5])\n",
        "arr[2] = 10  # Changing the third element\n",
        "print(arr)  # Output: [1, 2, 10, 4, 5]"
      ],
      "metadata": {
        "id": "CqPLbJk36WZQ",
        "colab": {
          "base_uri": "https://localhost:8080/"
        },
        "outputId": "c9366cbd-b6be-459a-99be-fbe6ecd846d2"
      },
      "execution_count": 24,
      "outputs": [
        {
          "output_type": "stream",
          "name": "stdout",
          "text": [
            "[ 1  2 10  4  5]\n"
          ]
        }
      ]
    },
    {
      "cell_type": "code",
      "source": [
        "arr[1:4] = [20, 30, 40]\n",
        "print(arr)  # Output: [1, 20, 30, 40, 5]"
      ],
      "metadata": {
        "id": "yVyW-Np56Zff",
        "colab": {
          "base_uri": "https://localhost:8080/"
        },
        "outputId": "5d89f0d4-d27a-4cc9-f750-cef33ef284e1"
      },
      "execution_count": 25,
      "outputs": [
        {
          "output_type": "stream",
          "name": "stdout",
          "text": [
            "[ 1 20 30 40  5]\n"
          ]
        }
      ]
    },
    {
      "cell_type": "code",
      "source": [
        "arr[arr > 10] = 100\n",
        "print(arr)  # Output: [1, 100, 100, 100, 5]"
      ],
      "metadata": {
        "id": "yLNnO8o96gPU",
        "colab": {
          "base_uri": "https://localhost:8080/"
        },
        "outputId": "6f5ae890-3f53-4c83-ca37-b70aead10caa"
      },
      "execution_count": 26,
      "outputs": [
        {
          "output_type": "stream",
          "name": "stdout",
          "text": [
            "[  1 100 100 100   5]\n"
          ]
        }
      ]
    },
    {
      "cell_type": "code",
      "source": [
        "arr[np.array([1, 3])] = 500\n",
        "print(arr)  # Output: [1, 500, 100, 500, 5]"
      ],
      "metadata": {
        "id": "dl2yHaoi7Gwz",
        "colab": {
          "base_uri": "https://localhost:8080/"
        },
        "outputId": "6993ca17-bd47-4c2e-c8e4-14a17a3d80a3"
      },
      "execution_count": 27,
      "outputs": [
        {
          "output_type": "stream",
          "name": "stdout",
          "text": [
            "[  1 500 100 500   5]\n"
          ]
        }
      ]
    },
    {
      "cell_type": "code",
      "source": [
        "sub_arr = arr[1:3]\n",
        "sub_arr[0] = 600\n",
        "print(arr)  # Output: [1, 600, 100, 500, 5]"
      ],
      "metadata": {
        "id": "ZPI08Hpb7LBx",
        "colab": {
          "base_uri": "https://localhost:8080/"
        },
        "outputId": "3dc2cd54-f31a-4cde-f899-e0c844c9f51b"
      },
      "execution_count": 28,
      "outputs": [
        {
          "output_type": "stream",
          "name": "stdout",
          "text": [
            "[  1 600 100 500   5]\n"
          ]
        }
      ]
    },
    {
      "cell_type": "code",
      "source": [
        "import numpy as np\n",
        "\n",
        "# --------------------------\n",
        "# 1. Basic Indexing\n",
        "# --------------------------\n",
        "array_basic = np.arange(1, 11)  # Creates array [1, 2, ..., 10]\n",
        "fifth_element = array_basic[4]  # Indexing starts at 0, so 5th element is at index 4\n",
        "\n",
        "print(\"1. 5th Element:\", fifth_element)\n",
        "\n",
        "# --------------------------\n",
        "# 2. Basic Slicing\n",
        "# --------------------------\n",
        "slice_3_to_8 = array_basic[2:8]  # 3rd to 8th element → indices 2 to 7\n",
        "print(\"2. Slice from 3rd to 8th:\", slice_3_to_8)\n",
        "\n",
        "# --------------------------\n",
        "# 3. Boolean Indexing\n",
        "# --------------------------\n",
        "random_array = np.random.randint(10, 51, size=6)  # 6 random integers between 10 and 50\n",
        "greater_than_30 = random_array[random_array > 30]\n",
        "\n",
        "print(\"3. Random Array:\", random_array)\n",
        "print(\"   Elements > 30:\", greater_than_30)\n",
        "\n",
        "# --------------------------\n",
        "# 4. Fancy Indexing\n",
        "# --------------------------\n",
        "# Access 2nd, 4th, and 6th elements → indices 1, 3, 5\n",
        "fancy_selected = random_array[[1, 3, 5]]\n",
        "print(\"4. Fancy Indexing (2nd, 4th, 6th):\", fancy_selected)\n"
      ],
      "metadata": {
        "id": "dkKNYUJlFcT2",
        "colab": {
          "base_uri": "https://localhost:8080/"
        },
        "outputId": "4ca6a1ca-2437-472a-f8d9-e838e5bc0f46"
      },
      "execution_count": 29,
      "outputs": [
        {
          "output_type": "stream",
          "name": "stdout",
          "text": [
            "1. 5th Element: 5\n",
            "2. Slice from 3rd to 8th: [3 4 5 6 7 8]\n",
            "3. Random Array: [24 11 12 48 35 20]\n",
            "   Elements > 30: [48 35]\n",
            "4. Fancy Indexing (2nd, 4th, 6th): [11 48 20]\n"
          ]
        }
      ]
    },
    {
      "cell_type": "code",
      "source": [],
      "metadata": {
        "id": "h84fracc7Z4c"
      },
      "execution_count": null,
      "outputs": []
    },
    {
      "cell_type": "code",
      "source": [
        "import numpy as np\n",
        "\n",
        "# Creating sample arrays\n",
        "a = np.array([1, 2, 3])\n",
        "b = np.array([4, 5, 6])\n",
        "\n",
        "# Element-wise addition\n",
        "print(\"Addition:\", a + b)\n",
        "\n",
        "# Broadcasting\n",
        "print(\"Broadcasting with scalar:\", a * 3)"
      ],
      "metadata": {
        "id": "rS-iLfar7hk6",
        "colab": {
          "base_uri": "https://localhost:8080/"
        },
        "outputId": "759881cd-8e87-4a1d-dfe4-07efd95a35c4"
      },
      "execution_count": 30,
      "outputs": [
        {
          "output_type": "stream",
          "name": "stdout",
          "text": [
            "Addition: [5 7 9]\n",
            "Broadcasting with scalar: [3 6 9]\n"
          ]
        }
      ]
    },
    {
      "cell_type": "code",
      "source": [
        "# Creating a 1D array\n",
        "a = np.array([1, 2, 3])\n",
        "\n",
        "# Adding a scalar value to the array\n",
        "result = a + 5\n",
        "\n",
        "print(\"Original Array:\", a)\n",
        "print(\"After Adding 5:\", result)"
      ],
      "metadata": {
        "colab": {
          "base_uri": "https://localhost:8080/"
        },
        "id": "ujkyYmpiUjuF",
        "outputId": "aeebfaac-4386-467f-c07c-28c0141e53d1"
      },
      "execution_count": 31,
      "outputs": [
        {
          "output_type": "stream",
          "name": "stdout",
          "text": [
            "Original Array: [1 2 3]\n",
            "After Adding 5: [6 7 8]\n"
          ]
        }
      ]
    },
    {
      "cell_type": "code",
      "source": [
        "import numpy as np\n",
        "\n",
        "# Creating a 1D array and a 2D array\n",
        "a = np.array([0, 1, 2])\n",
        "b = np.array([[0, 1, 2], [3, 4, 5]])\n",
        "\n",
        "# Adding the 1D array to each row of the 2D array\n",
        "result = a + b\n",
        "\n",
        "print(\"1D Array:\", a)\n",
        "print(\"2D Array:\", b)\n",
        "print(\"Broadcasted Addition:\", result)"
      ],
      "metadata": {
        "id": "7YrxnLMb75Im",
        "colab": {
          "base_uri": "https://localhost:8080/"
        },
        "outputId": "33d27320-f0c7-4cf4-ad86-87b912231f58"
      },
      "execution_count": 32,
      "outputs": [
        {
          "output_type": "stream",
          "name": "stdout",
          "text": [
            "1D Array: [0 1 2]\n",
            "2D Array: [[0 1 2]\n",
            " [3 4 5]]\n",
            "Broadcasted Addition: [[0 2 4]\n",
            " [3 5 7]]\n"
          ]
        }
      ]
    },
    {
      "cell_type": "code",
      "source": [
        "import numpy as np\n",
        "\n",
        "a = np.array([1, 2, 3])\n",
        "b = np.array([4, 5, 6])\n",
        "\n",
        "print(a + b)\n",
        "print(a - b)\n",
        "print(a * b)\n",
        "print(a / b)\n"
      ],
      "metadata": {
        "id": "uUUtegW0Iz47",
        "colab": {
          "base_uri": "https://localhost:8080/"
        },
        "outputId": "20adef00-9a37-4314-92fa-a239fe3ad89d"
      },
      "execution_count": 34,
      "outputs": [
        {
          "output_type": "stream",
          "name": "stdout",
          "text": [
            "[5 7 9]\n",
            "[-3 -3 -3]\n",
            "[ 4 10 18]\n",
            "[0.25 0.4  0.5 ]\n"
          ]
        }
      ]
    },
    {
      "cell_type": "code",
      "source": [
        "import numpy as np\n",
        "\n",
        "# Creating two incompatible arrays\n",
        "a = np.array([[1, 2, 3], [4, 5, 6]])\n",
        "b = np.array([1, 2])\n",
        "\n",
        "try:\n",
        "    result = a + b\n",
        "except ValueError as e:\n",
        "    print(\"Error:\", e)"
      ],
      "metadata": {
        "id": "FyqWE7_J8L74",
        "colab": {
          "base_uri": "https://localhost:8080/"
        },
        "outputId": "f92d718b-58b6-4dad-8c0b-525a2609791c"
      },
      "execution_count": 33,
      "outputs": [
        {
          "output_type": "stream",
          "name": "stdout",
          "text": [
            "Error: operands could not be broadcast together with shapes (2,3) (2,) \n"
          ]
        }
      ]
    },
    {
      "cell_type": "code",
      "source": [
        "# Creating two arrays\n",
        "a = np.array([[1], [2], [3]])\n",
        "b = np.array([1, 2, 3])\n",
        "\n",
        "# Adding the two arrays\n",
        "result = a + b\n",
        "\n",
        "print(\"Array a:\", a)\n",
        "print(\"Array b:\", b)\n",
        "print(\"Broadcasted Addition:\", result)"
      ],
      "metadata": {
        "colab": {
          "base_uri": "https://localhost:8080/"
        },
        "id": "t5mts1hAVR45",
        "outputId": "153cac24-c1d8-44d7-c026-aa5f9af0fc29"
      },
      "execution_count": 35,
      "outputs": [
        {
          "output_type": "stream",
          "name": "stdout",
          "text": [
            "Array a: [[1]\n",
            " [2]\n",
            " [3]]\n",
            "Array b: [1 2 3]\n",
            "Broadcasted Addition: [[2 3 4]\n",
            " [3 4 5]\n",
            " [4 5 6]]\n"
          ]
        }
      ]
    },
    {
      "cell_type": "code",
      "source": [
        "import numpy as np\n",
        "\n",
        "# Creating a 2D array and a 1D array\n",
        "a = np.array([[1, 2, 3], [4, 5, 6]])\n",
        "b = np.array([1, 2, 3])\n",
        "\n",
        "# Element-wise multiplication\n",
        "result = a * b\n",
        "\n",
        "print(\"2D Array:\", a)\n",
        "print(\"1D Array:\", b)\n",
        "print(\"Broadcasted Multiplication:\", result)"
      ],
      "metadata": {
        "id": "gaM50qgx8TrH",
        "colab": {
          "base_uri": "https://localhost:8080/"
        },
        "outputId": "760934bb-926f-47e9-821e-8f3ed6017c50"
      },
      "execution_count": 36,
      "outputs": [
        {
          "output_type": "stream",
          "name": "stdout",
          "text": [
            "2D Array: [[1 2 3]\n",
            " [4 5 6]]\n",
            "1D Array: [1 2 3]\n",
            "Broadcasted Multiplication: [[ 1  4  9]\n",
            " [ 4 10 18]]\n"
          ]
        }
      ]
    },
    {
      "cell_type": "code",
      "source": [
        "# Creating a sample array\n",
        "array = np.array([[1, 2, 3], [4, 5, 6]])\n",
        "\n",
        "# Sum of all elements\n",
        "print(\"Sum:\", np.sum(array))\n",
        "\n",
        "# Mean value\n",
        "print(\"Mean:\", np.mean(array))\n",
        "\n",
        "# Minimum and Maximum\n",
        "print(\"Min:\", np.min(array), \"Max:\", np.max(array))"
      ],
      "metadata": {
        "id": "hSJ6pBIM8dxc",
        "colab": {
          "base_uri": "https://localhost:8080/"
        },
        "outputId": "ef1c76e4-6734-4031-87f5-d1e0a0814de3"
      },
      "execution_count": 37,
      "outputs": [
        {
          "output_type": "stream",
          "name": "stdout",
          "text": [
            "Sum: 21\n",
            "Mean: 3.5\n",
            "Min: 1 Max: 6\n"
          ]
        }
      ]
    },
    {
      "cell_type": "code",
      "source": [
        "import numpy as np\n",
        "\n",
        "# Creating a 1D array\n",
        "array = np.arange(1, 10)  # Array of numbers from 1 to 9\n",
        "print(\"1D Array:\", array)\n",
        "# Reshaping to a 3x3 matrix\n",
        "reshaped_array = array.reshape(3, 3)\n",
        "print(\"Reshaped to 3x3:\\n\", reshaped_array)"
      ],
      "metadata": {
        "id": "XxH2BBZ78skn",
        "colab": {
          "base_uri": "https://localhost:8080/"
        },
        "outputId": "0659346c-263b-4a4a-d13a-a9a41bed27c0"
      },
      "execution_count": 39,
      "outputs": [
        {
          "output_type": "stream",
          "name": "stdout",
          "text": [
            "1D Array: [1 2 3 4 5 6 7 8 9]\n",
            "Reshaped to 3x3:\n",
            " [[1 2 3]\n",
            " [4 5 6]\n",
            " [7 8 9]]\n"
          ]
        }
      ]
    },
    {
      "cell_type": "code",
      "source": [
        "# Transposing the reshaped array\n",
        "transposed_array = reshaped_array.T\n",
        "print(\"Transposed array:\\n\", transposed_array)"
      ],
      "metadata": {
        "id": "kvg4-oSC9L0f",
        "colab": {
          "base_uri": "https://localhost:8080/"
        },
        "outputId": "24bc3cb5-596f-4086-f641-3e4ac3a03fc0"
      },
      "execution_count": 40,
      "outputs": [
        {
          "output_type": "stream",
          "name": "stdout",
          "text": [
            "Transposed array:\n",
            " [[1 4 7]\n",
            " [2 5 8]\n",
            " [3 6 9]]\n"
          ]
        }
      ]
    },
    {
      "cell_type": "code",
      "source": [],
      "metadata": {
        "id": "Y2nLaDuoKVwb"
      },
      "execution_count": null,
      "outputs": []
    },
    {
      "cell_type": "code",
      "source": [],
      "metadata": {
        "id": "huU22xqZKWAO"
      },
      "execution_count": null,
      "outputs": []
    },
    {
      "cell_type": "code",
      "source": [],
      "metadata": {
        "id": "WUCPrKDfKzu7"
      },
      "execution_count": null,
      "outputs": []
    },
    {
      "cell_type": "code",
      "source": [
        "# Reshaping data for machine learning model\n",
        "data = np.arange(1, 101).reshape(20, 5)  # 20 samples, 5 features each\n",
        "data"
      ],
      "metadata": {
        "id": "fkyeP5j49X0j",
        "colab": {
          "base_uri": "https://localhost:8080/"
        },
        "outputId": "d0ab01a5-2b64-47ba-a72d-1033ad3065e8"
      },
      "execution_count": 41,
      "outputs": [
        {
          "output_type": "execute_result",
          "data": {
            "text/plain": [
              "array([[  1,   2,   3,   4,   5],\n",
              "       [  6,   7,   8,   9,  10],\n",
              "       [ 11,  12,  13,  14,  15],\n",
              "       [ 16,  17,  18,  19,  20],\n",
              "       [ 21,  22,  23,  24,  25],\n",
              "       [ 26,  27,  28,  29,  30],\n",
              "       [ 31,  32,  33,  34,  35],\n",
              "       [ 36,  37,  38,  39,  40],\n",
              "       [ 41,  42,  43,  44,  45],\n",
              "       [ 46,  47,  48,  49,  50],\n",
              "       [ 51,  52,  53,  54,  55],\n",
              "       [ 56,  57,  58,  59,  60],\n",
              "       [ 61,  62,  63,  64,  65],\n",
              "       [ 66,  67,  68,  69,  70],\n",
              "       [ 71,  72,  73,  74,  75],\n",
              "       [ 76,  77,  78,  79,  80],\n",
              "       [ 81,  82,  83,  84,  85],\n",
              "       [ 86,  87,  88,  89,  90],\n",
              "       [ 91,  92,  93,  94,  95],\n",
              "       [ 96,  97,  98,  99, 100]])"
            ]
          },
          "metadata": {},
          "execution_count": 41
        }
      ]
    },
    {
      "cell_type": "code",
      "source": [
        "# Preparing data for heatmap visualization\n",
        "matrix = np.random.rand(10, 10)\n",
        "print(matrix)\n",
        "reshaped_matrix = matrix.reshape(5, 20)  # Reshaping for a different visual representation\n",
        "reshaped_matrix"
      ],
      "metadata": {
        "id": "sz0AXTsN9fXC",
        "colab": {
          "base_uri": "https://localhost:8080/"
        },
        "outputId": "0dc30eb5-44d5-4edb-d266-4b65ad9204ae"
      },
      "execution_count": 42,
      "outputs": [
        {
          "output_type": "stream",
          "name": "stdout",
          "text": [
            "[[0.64424228 0.03019175 0.15828421 0.69578965 0.08707587 0.43183822\n",
            "  0.0731665  0.50332739 0.55566914 0.78457225]\n",
            " [0.8684816  0.40746516 0.83451213 0.22140982 0.80324179 0.40150983\n",
            "  0.98716334 0.38285296 0.44920894 0.00707076]\n",
            " [0.18126607 0.77216739 0.25859269 0.34604024 0.63058982 0.11511415\n",
            "  0.38110599 0.64478032 0.03203057 0.17980441]\n",
            " [0.58663051 0.26691271 0.33852274 0.88980157 0.49292885 0.00160718\n",
            "  0.20018297 0.34247711 0.87874109 0.990224  ]\n",
            " [0.60067293 0.96285381 0.85171092 0.63852024 0.32963601 0.37075713\n",
            "  0.85582479 0.37259815 0.43580963 0.5729773 ]\n",
            " [0.64825911 0.47117508 0.86740318 0.68240049 0.81991316 0.11110986\n",
            "  0.89651414 0.32719228 0.24851045 0.27632014]\n",
            " [0.70089816 0.53713156 0.81590691 0.86584669 0.99925531 0.14741118\n",
            "  0.66426974 0.89493453 0.12085434 0.62358898]\n",
            " [0.37723027 0.70011221 0.95541739 0.56986034 0.63171132 0.42696816\n",
            "  0.75131967 0.96090153 0.24217454 0.0712452 ]\n",
            " [0.8744264  0.07581483 0.07590979 0.24677713 0.12603811 0.14456136\n",
            "  0.80176587 0.23626233 0.37570246 0.44203328]\n",
            " [0.04308071 0.06518383 0.23060873 0.97845403 0.32915415 0.35734174\n",
            "  0.6202196  0.13129204 0.58852804 0.81977761]]\n"
          ]
        },
        {
          "output_type": "execute_result",
          "data": {
            "text/plain": [
              "array([[0.64424228, 0.03019175, 0.15828421, 0.69578965, 0.08707587,\n",
              "        0.43183822, 0.0731665 , 0.50332739, 0.55566914, 0.78457225,\n",
              "        0.8684816 , 0.40746516, 0.83451213, 0.22140982, 0.80324179,\n",
              "        0.40150983, 0.98716334, 0.38285296, 0.44920894, 0.00707076],\n",
              "       [0.18126607, 0.77216739, 0.25859269, 0.34604024, 0.63058982,\n",
              "        0.11511415, 0.38110599, 0.64478032, 0.03203057, 0.17980441,\n",
              "        0.58663051, 0.26691271, 0.33852274, 0.88980157, 0.49292885,\n",
              "        0.00160718, 0.20018297, 0.34247711, 0.87874109, 0.990224  ],\n",
              "       [0.60067293, 0.96285381, 0.85171092, 0.63852024, 0.32963601,\n",
              "        0.37075713, 0.85582479, 0.37259815, 0.43580963, 0.5729773 ,\n",
              "        0.64825911, 0.47117508, 0.86740318, 0.68240049, 0.81991316,\n",
              "        0.11110986, 0.89651414, 0.32719228, 0.24851045, 0.27632014],\n",
              "       [0.70089816, 0.53713156, 0.81590691, 0.86584669, 0.99925531,\n",
              "        0.14741118, 0.66426974, 0.89493453, 0.12085434, 0.62358898,\n",
              "        0.37723027, 0.70011221, 0.95541739, 0.56986034, 0.63171132,\n",
              "        0.42696816, 0.75131967, 0.96090153, 0.24217454, 0.0712452 ],\n",
              "       [0.8744264 , 0.07581483, 0.07590979, 0.24677713, 0.12603811,\n",
              "        0.14456136, 0.80176587, 0.23626233, 0.37570246, 0.44203328,\n",
              "        0.04308071, 0.06518383, 0.23060873, 0.97845403, 0.32915415,\n",
              "        0.35734174, 0.6202196 , 0.13129204, 0.58852804, 0.81977761]])"
            ]
          },
          "metadata": {},
          "execution_count": 42
        }
      ]
    },
    {
      "cell_type": "code",
      "source": [
        "# Aggregating data after reshaping\n",
        "data = np.random.rand(6, 2)\n",
        "print(data)\n",
        "reshaped_data = data.reshape(3, 4)\n",
        "print(reshaped_data)\n",
        "mean_values = np.mean(reshaped_data, axis=1)  # Mean of each reshaped group\n",
        "mean_values"
      ],
      "metadata": {
        "id": "nADaMJui9pjJ",
        "colab": {
          "base_uri": "https://localhost:8080/"
        },
        "outputId": "eaa0361c-ae42-437c-d4f0-a83ce26fabe1"
      },
      "execution_count": 43,
      "outputs": [
        {
          "output_type": "stream",
          "name": "stdout",
          "text": [
            "[[0.72035269 0.83015403]\n",
            " [0.02307733 0.63944902]\n",
            " [0.99258012 0.62768294]\n",
            " [0.91888444 0.94808423]\n",
            " [0.70825303 0.6329876 ]\n",
            " [0.03877812 0.20290431]]\n",
            "[[0.72035269 0.83015403 0.02307733 0.63944902]\n",
            " [0.99258012 0.62768294 0.91888444 0.94808423]\n",
            " [0.70825303 0.6329876  0.03877812 0.20290431]]\n"
          ]
        },
        {
          "output_type": "execute_result",
          "data": {
            "text/plain": [
              "array([0.55325827, 0.87180793, 0.39573076])"
            ]
          },
          "metadata": {},
          "execution_count": 43
        }
      ]
    },
    {
      "cell_type": "code",
      "source": [
        "# Organizing data for feature selection\n",
        "data = np.random.rand(100, 10)  # 100 observations, 10 features\n",
        "reshaped_data = data.reshape(100, 5, 2)  # Grouping features for analysis\n",
        "reshaped_data"
      ],
      "metadata": {
        "id": "BMxF8lzi-PZy",
        "colab": {
          "base_uri": "https://localhost:8080/"
        },
        "outputId": "fa318fef-0839-451a-b22a-55dc3b27af84"
      },
      "execution_count": 44,
      "outputs": [
        {
          "output_type": "execute_result",
          "data": {
            "text/plain": [
              "array([[[6.08564163e-01, 6.89928135e-01],\n",
              "        [4.00436452e-01, 1.39867641e-02],\n",
              "        [1.05392917e-01, 7.95519948e-01],\n",
              "        [1.77545418e-01, 7.68001439e-01],\n",
              "        [1.53851277e-01, 3.09876851e-02]],\n",
              "\n",
              "       [[1.96725025e-01, 5.83938569e-01],\n",
              "        [5.88152766e-01, 8.91758793e-01],\n",
              "        [1.18868622e-01, 8.87945402e-01],\n",
              "        [5.47551531e-01, 1.22865250e-01],\n",
              "        [3.61838241e-02, 7.75729654e-01]],\n",
              "\n",
              "       [[4.14954017e-01, 4.88051938e-01],\n",
              "        [6.88467727e-01, 2.36136090e-01],\n",
              "        [5.62821118e-01, 6.58521023e-01],\n",
              "        [8.79555680e-01, 2.24791515e-01],\n",
              "        [1.14461158e-01, 7.46728025e-01]],\n",
              "\n",
              "       [[1.34310887e-01, 1.36143722e-01],\n",
              "        [8.07006298e-01, 7.06883088e-02],\n",
              "        [4.20200556e-02, 2.18322986e-01],\n",
              "        [2.95143253e-01, 3.74217500e-01],\n",
              "        [2.10536505e-01, 3.28556665e-01]],\n",
              "\n",
              "       [[5.99773730e-01, 1.13003327e-01],\n",
              "        [4.00237875e-02, 3.97786090e-01],\n",
              "        [9.19797779e-01, 2.63455864e-01],\n",
              "        [5.14231245e-01, 2.70114458e-01],\n",
              "        [1.04245395e-01, 1.68634526e-01]],\n",
              "\n",
              "       [[3.89878829e-01, 2.14292014e-02],\n",
              "        [3.79675462e-01, 1.02260780e-01],\n",
              "        [3.76488498e-02, 1.47328815e-01],\n",
              "        [3.19342843e-01, 5.59614610e-01],\n",
              "        [4.93465077e-01, 7.80672603e-01]],\n",
              "\n",
              "       [[9.04015997e-01, 3.97323857e-01],\n",
              "        [3.76443363e-01, 7.38284620e-01],\n",
              "        [5.10735392e-02, 4.03965595e-02],\n",
              "        [8.25201680e-01, 3.64856193e-01],\n",
              "        [6.23796536e-01, 2.13864419e-01]],\n",
              "\n",
              "       [[1.50073432e-01, 1.76804624e-02],\n",
              "        [7.18536241e-01, 3.69285121e-01],\n",
              "        [8.38047331e-01, 1.20339725e-01],\n",
              "        [8.40363007e-01, 3.03137684e-01],\n",
              "        [2.04273342e-02, 9.49583468e-01]],\n",
              "\n",
              "       [[7.42654922e-01, 5.62342935e-01],\n",
              "        [8.85709308e-02, 4.97113488e-01],\n",
              "        [1.83059605e-01, 1.89446648e-01],\n",
              "        [1.70546387e-01, 9.97332339e-01],\n",
              "        [6.30345587e-01, 1.06128155e-01]],\n",
              "\n",
              "       [[2.07937401e-01, 6.04324750e-01],\n",
              "        [3.17064110e-01, 6.97908958e-01],\n",
              "        [3.76259526e-02, 3.75505021e-01],\n",
              "        [7.66469210e-02, 2.36795327e-01],\n",
              "        [3.93095882e-01, 6.11270848e-01]],\n",
              "\n",
              "       [[1.85253579e-01, 7.01023845e-02],\n",
              "        [3.83383211e-02, 7.55821883e-01],\n",
              "        [6.10361954e-01, 8.93012510e-01],\n",
              "        [7.21210614e-01, 4.69022253e-01],\n",
              "        [5.74909996e-01, 4.70916296e-01]],\n",
              "\n",
              "       [[1.10044544e-01, 4.58541394e-02],\n",
              "        [2.96203978e-01, 8.94226667e-01],\n",
              "        [9.55945538e-02, 8.17675488e-01],\n",
              "        [1.59240439e-01, 2.84904365e-01],\n",
              "        [8.34219217e-01, 9.12085024e-01]],\n",
              "\n",
              "       [[9.00915714e-01, 6.37343313e-01],\n",
              "        [1.20178101e-01, 9.20214345e-01],\n",
              "        [2.26617766e-01, 1.22613762e-01],\n",
              "        [1.52519838e-01, 5.10887669e-01],\n",
              "        [6.02986811e-01, 2.20758303e-01]],\n",
              "\n",
              "       [[9.91093882e-01, 9.76433781e-01],\n",
              "        [9.95359875e-01, 9.51207904e-01],\n",
              "        [3.51092388e-02, 8.57496868e-01],\n",
              "        [2.33684833e-01, 2.57125625e-02],\n",
              "        [9.79246374e-01, 4.35888798e-01]],\n",
              "\n",
              "       [[2.27550256e-01, 5.56420882e-01],\n",
              "        [9.04600029e-01, 8.09636779e-01],\n",
              "        [3.16223738e-01, 3.94094569e-01],\n",
              "        [4.86752201e-01, 3.76229769e-01],\n",
              "        [2.78719455e-01, 2.46169361e-01]],\n",
              "\n",
              "       [[9.43065494e-01, 6.63363683e-01],\n",
              "        [5.55620602e-01, 9.84795874e-01],\n",
              "        [3.71451666e-01, 9.89854981e-01],\n",
              "        [5.85755032e-01, 7.23975670e-01],\n",
              "        [2.94406134e-01, 8.71401294e-01]],\n",
              "\n",
              "       [[3.11975732e-01, 9.45253320e-01],\n",
              "        [7.87309023e-01, 1.96776813e-01],\n",
              "        [7.31280408e-01, 5.38961793e-03],\n",
              "        [8.09404581e-01, 7.87035428e-01],\n",
              "        [2.75438353e-01, 9.19014287e-01]],\n",
              "\n",
              "       [[2.56191466e-01, 5.64981307e-02],\n",
              "        [1.31607132e-01, 8.86058720e-01],\n",
              "        [3.57615481e-01, 9.20131109e-01],\n",
              "        [4.03483538e-01, 9.88147314e-01],\n",
              "        [6.67606561e-01, 2.29443668e-01]],\n",
              "\n",
              "       [[3.11819710e-01, 8.38948251e-01],\n",
              "        [4.53279789e-01, 6.97427411e-02],\n",
              "        [6.01934698e-02, 4.69111789e-01],\n",
              "        [4.26752888e-01, 2.56697168e-01],\n",
              "        [5.96217859e-01, 7.55238873e-02]],\n",
              "\n",
              "       [[9.66659573e-01, 3.89086993e-01],\n",
              "        [1.87842724e-01, 2.13115572e-01],\n",
              "        [8.46470319e-01, 6.54647660e-01],\n",
              "        [4.36782012e-01, 2.99631183e-01],\n",
              "        [4.96152737e-01, 4.27844258e-01]],\n",
              "\n",
              "       [[4.59335630e-01, 1.15151166e-01],\n",
              "        [7.41533083e-01, 7.74875723e-01],\n",
              "        [6.56318418e-01, 3.05261132e-01],\n",
              "        [8.44264465e-01, 4.30811503e-01],\n",
              "        [6.48287811e-01, 3.53508240e-01]],\n",
              "\n",
              "       [[4.64238747e-01, 8.60341122e-01],\n",
              "        [6.49804213e-01, 3.79538863e-01],\n",
              "        [5.54328211e-01, 4.83167352e-01],\n",
              "        [8.14546128e-01, 8.56283534e-01],\n",
              "        [3.22789192e-01, 2.77840243e-01]],\n",
              "\n",
              "       [[6.69460500e-01, 2.41627389e-01],\n",
              "        [5.26989410e-01, 5.48220146e-02],\n",
              "        [5.42896050e-01, 1.38967982e-01],\n",
              "        [3.47318198e-01, 1.89059430e-01],\n",
              "        [6.99748080e-01, 4.27104391e-01]],\n",
              "\n",
              "       [[3.21300727e-01, 4.13466705e-01],\n",
              "        [3.13834298e-01, 2.78254694e-01],\n",
              "        [9.30070179e-01, 8.74612231e-01],\n",
              "        [4.43941646e-01, 6.19081540e-01],\n",
              "        [9.80361640e-01, 4.53765916e-01]],\n",
              "\n",
              "       [[3.95876449e-01, 7.91786649e-01],\n",
              "        [3.96701741e-01, 9.91853654e-01],\n",
              "        [2.68921376e-01, 8.50251079e-01],\n",
              "        [5.86215291e-01, 3.68555674e-01],\n",
              "        [1.67677605e-02, 3.57633612e-01]],\n",
              "\n",
              "       [[7.04952544e-01, 3.93336726e-01],\n",
              "        [5.30702758e-02, 3.31468903e-01],\n",
              "        [4.30496630e-01, 5.61477389e-01],\n",
              "        [7.18653174e-01, 3.18459738e-01],\n",
              "        [2.94817556e-01, 4.95870330e-01]],\n",
              "\n",
              "       [[7.48984140e-01, 8.91257832e-01],\n",
              "        [1.47046449e-01, 8.51822571e-01],\n",
              "        [9.84925540e-01, 1.67441839e-01],\n",
              "        [7.51061572e-01, 1.88042512e-01],\n",
              "        [9.26611722e-01, 3.67801395e-01]],\n",
              "\n",
              "       [[6.93545556e-01, 2.76706650e-01],\n",
              "        [1.71734911e-01, 9.18239703e-01],\n",
              "        [9.76044727e-01, 5.61515826e-01],\n",
              "        [2.45182435e-01, 7.76430182e-01],\n",
              "        [7.03658254e-01, 4.82438091e-01]],\n",
              "\n",
              "       [[9.04598500e-01, 6.59910825e-01],\n",
              "        [7.04335848e-01, 5.38577137e-01],\n",
              "        [5.04239859e-01, 4.03099911e-01],\n",
              "        [5.93612416e-01, 6.46093473e-01],\n",
              "        [7.52108521e-01, 1.56333330e-01]],\n",
              "\n",
              "       [[7.97728760e-01, 1.70110228e-01],\n",
              "        [3.78611544e-01, 7.88597010e-01],\n",
              "        [5.02245117e-01, 4.57143401e-01],\n",
              "        [8.54287999e-01, 2.80255725e-02],\n",
              "        [1.34971969e-02, 4.57625633e-02]],\n",
              "\n",
              "       [[6.02274978e-01, 1.87247924e-01],\n",
              "        [1.09005066e-01, 6.87883059e-02],\n",
              "        [6.58852845e-01, 8.05500081e-01],\n",
              "        [1.05610930e-01, 6.28757434e-01],\n",
              "        [6.00765292e-01, 1.21821301e-01]],\n",
              "\n",
              "       [[8.22653085e-01, 3.02978901e-01],\n",
              "        [3.20968495e-01, 5.07048693e-01],\n",
              "        [9.04660769e-01, 2.90127270e-01],\n",
              "        [1.47834305e-01, 3.70823318e-01],\n",
              "        [6.69911381e-01, 5.78176277e-01]],\n",
              "\n",
              "       [[3.74631842e-01, 8.63941983e-01],\n",
              "        [3.30592327e-01, 5.56257024e-01],\n",
              "        [4.52446649e-01, 6.57251724e-01],\n",
              "        [3.37173763e-01, 1.66516718e-01],\n",
              "        [8.91772939e-01, 5.74944279e-01]],\n",
              "\n",
              "       [[2.94280898e-01, 7.88123804e-01],\n",
              "        [8.18235984e-01, 5.46951915e-01],\n",
              "        [2.93577525e-01, 4.24448487e-02],\n",
              "        [9.08949049e-01, 7.34380154e-01],\n",
              "        [3.90036725e-01, 5.97437226e-01]],\n",
              "\n",
              "       [[1.58019870e-01, 8.28298253e-02],\n",
              "        [7.32343765e-01, 9.73900694e-01],\n",
              "        [1.69372419e-02, 3.39607481e-01],\n",
              "        [3.52056679e-01, 5.95913318e-02],\n",
              "        [3.24947838e-01, 8.14899220e-01]],\n",
              "\n",
              "       [[1.90298332e-02, 1.60351090e-01],\n",
              "        [3.37008776e-01, 9.26368478e-01],\n",
              "        [4.84716917e-01, 9.48708578e-02],\n",
              "        [9.86810010e-01, 1.83565617e-01],\n",
              "        [5.73157265e-01, 8.56202035e-01]],\n",
              "\n",
              "       [[8.53956112e-01, 7.58929831e-01],\n",
              "        [9.72809730e-01, 4.40589186e-01],\n",
              "        [1.76972398e-01, 6.25973019e-01],\n",
              "        [3.10610908e-01, 4.33870577e-01],\n",
              "        [7.60758301e-01, 5.68858555e-01]],\n",
              "\n",
              "       [[8.99690580e-01, 8.55097059e-01],\n",
              "        [6.85845277e-01, 8.49031371e-01],\n",
              "        [3.70308522e-01, 8.23566504e-01],\n",
              "        [3.61668899e-01, 4.18363228e-01],\n",
              "        [3.08007401e-01, 7.68681925e-01]],\n",
              "\n",
              "       [[7.92753555e-01, 2.87359721e-01],\n",
              "        [5.90546380e-02, 1.62918738e-01],\n",
              "        [4.66082342e-01, 7.46588006e-01],\n",
              "        [1.91748693e-01, 4.00981289e-01],\n",
              "        [6.20090709e-01, 3.46362670e-01]],\n",
              "\n",
              "       [[5.10759452e-02, 1.07179492e-01],\n",
              "        [6.36964390e-01, 6.22986392e-01],\n",
              "        [2.18570989e-01, 8.96939932e-01],\n",
              "        [2.00829142e-01, 5.98177667e-01],\n",
              "        [6.06563073e-01, 1.19729896e-03]],\n",
              "\n",
              "       [[4.26194231e-01, 5.05702527e-01],\n",
              "        [8.86523393e-01, 5.40456087e-01],\n",
              "        [6.75333244e-01, 8.41988032e-01],\n",
              "        [2.41624887e-01, 7.40544540e-01],\n",
              "        [6.62091453e-01, 1.19532630e-01]],\n",
              "\n",
              "       [[6.29153847e-01, 7.74904512e-01],\n",
              "        [2.58615082e-01, 8.07682645e-02],\n",
              "        [9.73470475e-01, 5.03679455e-01],\n",
              "        [8.61583679e-01, 7.88144474e-01],\n",
              "        [2.38477326e-01, 2.65917181e-01]],\n",
              "\n",
              "       [[3.09649321e-01, 3.69153788e-01],\n",
              "        [1.67833907e-01, 8.44316268e-01],\n",
              "        [9.30819874e-01, 5.80010436e-01],\n",
              "        [9.87633895e-01, 9.31991123e-02],\n",
              "        [6.24780319e-01, 5.66174784e-01]],\n",
              "\n",
              "       [[4.85355702e-01, 1.85006371e-01],\n",
              "        [4.05740030e-01, 8.96888865e-02],\n",
              "        [4.67046491e-01, 4.00318332e-01],\n",
              "        [1.29490811e-01, 5.78358714e-01],\n",
              "        [6.45317245e-01, 8.56999233e-01]],\n",
              "\n",
              "       [[1.51397472e-01, 1.57964685e-01],\n",
              "        [9.08014184e-01, 5.96707664e-01],\n",
              "        [5.38954731e-01, 1.97234698e-01],\n",
              "        [8.71666774e-01, 3.17556722e-02],\n",
              "        [8.04570970e-01, 7.65036888e-01]],\n",
              "\n",
              "       [[5.55221310e-01, 1.86784593e-01],\n",
              "        [9.98186123e-01, 4.62212477e-01],\n",
              "        [5.78132269e-01, 5.55279866e-01],\n",
              "        [4.11828443e-01, 8.88517633e-01],\n",
              "        [8.22890071e-01, 7.92648512e-01]],\n",
              "\n",
              "       [[8.92457395e-01, 3.22546239e-01],\n",
              "        [3.97707629e-01, 3.43196287e-01],\n",
              "        [8.82453051e-01, 1.79377502e-01],\n",
              "        [8.34803064e-01, 3.17582839e-01],\n",
              "        [9.90513281e-02, 5.11361489e-02]],\n",
              "\n",
              "       [[9.91252729e-01, 4.53367462e-02],\n",
              "        [5.84647681e-01, 7.35081561e-01],\n",
              "        [4.85728984e-03, 3.79799660e-01],\n",
              "        [6.64268510e-01, 7.80532076e-01],\n",
              "        [7.47774200e-01, 8.59099031e-01]],\n",
              "\n",
              "       [[4.69788525e-01, 3.56304627e-01],\n",
              "        [6.52824574e-01, 9.88144302e-01],\n",
              "        [5.36830393e-01, 9.62442315e-02],\n",
              "        [5.91012143e-01, 6.47740182e-01],\n",
              "        [8.94925706e-01, 6.41210338e-02]],\n",
              "\n",
              "       [[3.35307742e-01, 4.31216713e-01],\n",
              "        [5.25781861e-01, 7.44815806e-01],\n",
              "        [6.59249572e-01, 8.98928611e-02],\n",
              "        [1.11723733e-01, 3.80682825e-01],\n",
              "        [9.62748484e-01, 8.76513423e-01]],\n",
              "\n",
              "       [[6.20808537e-01, 3.82723059e-01],\n",
              "        [1.95165114e-01, 6.73530347e-02],\n",
              "        [4.53644620e-02, 9.50304216e-02],\n",
              "        [1.52995912e-01, 4.51526157e-01],\n",
              "        [6.16617520e-01, 9.84917599e-01]],\n",
              "\n",
              "       [[2.11171463e-01, 8.60718011e-01],\n",
              "        [6.72894748e-01, 7.17932257e-01],\n",
              "        [9.13677024e-01, 4.46463340e-01],\n",
              "        [2.27917814e-01, 3.39421673e-01],\n",
              "        [3.30044318e-01, 7.78511181e-01]],\n",
              "\n",
              "       [[5.62116236e-01, 3.69669308e-01],\n",
              "        [2.77235149e-01, 6.27452747e-01],\n",
              "        [8.61534914e-01, 8.96399164e-01],\n",
              "        [1.53745214e-01, 9.83284523e-01],\n",
              "        [1.14038708e-02, 7.33336743e-01]],\n",
              "\n",
              "       [[6.80769312e-01, 2.09189917e-01],\n",
              "        [2.51080128e-01, 4.44291971e-01],\n",
              "        [8.86045580e-01, 5.56143823e-03],\n",
              "        [8.35709824e-01, 5.86004995e-01],\n",
              "        [6.31243473e-01, 4.40547031e-01]],\n",
              "\n",
              "       [[3.21578313e-01, 8.37697947e-01],\n",
              "        [6.30781199e-01, 4.67719805e-01],\n",
              "        [1.52833397e-01, 1.35662983e-01],\n",
              "        [2.63835074e-01, 9.17433410e-01],\n",
              "        [9.42676355e-01, 5.94379912e-01]],\n",
              "\n",
              "       [[9.45321717e-01, 1.75327037e-01],\n",
              "        [5.12495612e-02, 1.21954648e-02],\n",
              "        [5.02001447e-01, 6.22371036e-01],\n",
              "        [6.03158601e-02, 8.48587927e-01],\n",
              "        [1.16290640e-01, 2.53591338e-01]],\n",
              "\n",
              "       [[4.90327231e-01, 8.61217507e-01],\n",
              "        [7.15109101e-01, 5.66519618e-01],\n",
              "        [9.10045184e-01, 2.50394219e-01],\n",
              "        [2.05131104e-01, 3.05175787e-01],\n",
              "        [5.97187425e-01, 6.84619680e-01]],\n",
              "\n",
              "       [[2.71061967e-01, 5.67948429e-01],\n",
              "        [5.00457584e-01, 8.04513205e-02],\n",
              "        [5.60200387e-01, 6.77966532e-01],\n",
              "        [7.68686035e-01, 3.78987960e-01],\n",
              "        [7.48313388e-01, 1.12758287e-01]],\n",
              "\n",
              "       [[6.36478895e-01, 5.54872075e-01],\n",
              "        [7.14538050e-01, 9.82586693e-01],\n",
              "        [9.18766724e-02, 2.82675265e-01],\n",
              "        [6.50202276e-01, 6.43109050e-01],\n",
              "        [5.76427879e-01, 6.18242945e-02]],\n",
              "\n",
              "       [[4.84195421e-01, 5.79905595e-01],\n",
              "        [5.37295086e-01, 3.38237922e-01],\n",
              "        [1.38966597e-01, 8.05322024e-01],\n",
              "        [8.93287247e-02, 3.00468592e-01],\n",
              "        [2.66326620e-01, 6.49380411e-01]],\n",
              "\n",
              "       [[2.19413747e-01, 4.54034194e-01],\n",
              "        [7.20709793e-01, 3.92042048e-01],\n",
              "        [3.13776519e-01, 5.11285997e-01],\n",
              "        [7.25043860e-01, 9.76518609e-02],\n",
              "        [2.07921939e-02, 4.46030795e-01]],\n",
              "\n",
              "       [[4.26261846e-01, 4.69112256e-01],\n",
              "        [9.15107862e-01, 5.74677409e-01],\n",
              "        [7.31573404e-01, 8.53250990e-01],\n",
              "        [5.41838089e-01, 4.60224166e-01],\n",
              "        [3.11037286e-01, 3.35146996e-01]],\n",
              "\n",
              "       [[9.69963689e-01, 3.72177456e-01],\n",
              "        [8.73999840e-01, 9.30074181e-01],\n",
              "        [2.98248982e-01, 7.74658102e-01],\n",
              "        [5.15167065e-01, 5.03047019e-01],\n",
              "        [4.28440982e-01, 3.75564216e-01]],\n",
              "\n",
              "       [[8.39538038e-01, 6.05462181e-01],\n",
              "        [6.72832379e-01, 8.46255344e-01],\n",
              "        [3.29342491e-01, 1.90648021e-02],\n",
              "        [8.63896460e-01, 4.94659707e-01],\n",
              "        [2.57287111e-01, 7.10817423e-01]],\n",
              "\n",
              "       [[5.51263519e-01, 8.30602003e-01],\n",
              "        [3.85068480e-01, 3.48274339e-01],\n",
              "        [3.76106537e-01, 5.41824304e-01],\n",
              "        [4.39081803e-01, 5.14965060e-01],\n",
              "        [2.76586839e-01, 8.70813412e-01]],\n",
              "\n",
              "       [[9.15300886e-01, 6.61860640e-01],\n",
              "        [3.66647354e-01, 4.84474034e-01],\n",
              "        [2.06259852e-03, 2.57401586e-01],\n",
              "        [9.99721341e-01, 1.11155148e-02],\n",
              "        [8.76891544e-01, 8.26114325e-03]],\n",
              "\n",
              "       [[8.00344331e-01, 6.39668969e-01],\n",
              "        [2.68410121e-01, 2.84080187e-01],\n",
              "        [8.59205821e-01, 4.96738894e-01],\n",
              "        [2.61962003e-01, 1.86635831e-01],\n",
              "        [3.15233926e-02, 9.23133626e-01]],\n",
              "\n",
              "       [[7.09378102e-01, 1.44264189e-01],\n",
              "        [7.80986366e-01, 9.69301749e-02],\n",
              "        [9.22394618e-01, 6.15823339e-01],\n",
              "        [3.41776667e-01, 4.19149110e-01],\n",
              "        [4.37028249e-01, 9.38449189e-01]],\n",
              "\n",
              "       [[2.29025066e-01, 7.83815169e-01],\n",
              "        [8.58108158e-02, 2.01255667e-01],\n",
              "        [1.48575207e-01, 7.59840809e-02],\n",
              "        [2.77876465e-01, 1.71908345e-01],\n",
              "        [5.43152586e-01, 1.12002958e-01]],\n",
              "\n",
              "       [[4.83614151e-02, 9.87143912e-01],\n",
              "        [7.24078329e-01, 2.87499747e-01],\n",
              "        [2.84056194e-01, 8.95877003e-01],\n",
              "        [8.40880727e-01, 9.58293488e-01],\n",
              "        [1.05392802e-01, 2.31251303e-01]],\n",
              "\n",
              "       [[4.66765868e-01, 8.71670275e-01],\n",
              "        [1.65858407e-01, 8.17080063e-01],\n",
              "        [2.27110484e-01, 8.70777424e-01],\n",
              "        [1.46156110e-01, 3.02097243e-01],\n",
              "        [6.33701825e-01, 1.48965237e-01]],\n",
              "\n",
              "       [[7.07417085e-01, 4.58123856e-01],\n",
              "        [6.26335158e-01, 3.51611050e-01],\n",
              "        [5.81760835e-02, 2.66055215e-01],\n",
              "        [1.66019321e-01, 6.24164513e-01],\n",
              "        [3.75705357e-01, 6.45949939e-01]],\n",
              "\n",
              "       [[4.76341156e-01, 5.91361229e-01],\n",
              "        [3.53450505e-01, 4.86977143e-01],\n",
              "        [3.20792004e-01, 6.04199333e-01],\n",
              "        [3.65976357e-01, 8.29881954e-01],\n",
              "        [1.51464529e-01, 7.09643911e-01]],\n",
              "\n",
              "       [[2.44399749e-01, 5.37108788e-01],\n",
              "        [4.89259686e-01, 5.70059989e-01],\n",
              "        [9.71691424e-01, 6.36394082e-01],\n",
              "        [3.11977079e-01, 9.16900846e-01],\n",
              "        [2.38768738e-01, 3.56294108e-01]],\n",
              "\n",
              "       [[4.05834801e-01, 2.47231628e-01],\n",
              "        [7.17743802e-01, 8.68424415e-02],\n",
              "        [7.24816467e-01, 7.75858746e-03],\n",
              "        [2.90090941e-01, 6.57973660e-01],\n",
              "        [8.82762211e-01, 8.62113057e-01]],\n",
              "\n",
              "       [[9.62151318e-01, 2.32593519e-01],\n",
              "        [1.99416830e-01, 1.29891724e-01],\n",
              "        [9.53948496e-01, 5.56238074e-01],\n",
              "        [1.19691813e-01, 5.14941697e-02],\n",
              "        [4.48494498e-02, 2.45325636e-01]],\n",
              "\n",
              "       [[8.13318513e-01, 1.96917833e-01],\n",
              "        [4.88002468e-01, 1.76655467e-01],\n",
              "        [9.76399270e-01, 2.75618839e-01],\n",
              "        [5.96528898e-01, 2.46108921e-01],\n",
              "        [7.50988690e-01, 6.46218295e-01]],\n",
              "\n",
              "       [[4.44833612e-01, 3.53902077e-01],\n",
              "        [4.25104219e-01, 4.26881152e-01],\n",
              "        [8.66420249e-01, 3.69358195e-01],\n",
              "        [2.96158028e-01, 2.82657364e-01],\n",
              "        [2.35801125e-01, 9.31930713e-01]],\n",
              "\n",
              "       [[1.39277979e-01, 3.93151931e-01],\n",
              "        [4.15879535e-01, 5.56092294e-01],\n",
              "        [3.91069073e-02, 8.65483399e-03],\n",
              "        [7.90756274e-01, 1.57144340e-01],\n",
              "        [9.87777990e-01, 9.45203789e-01]],\n",
              "\n",
              "       [[1.08429873e-02, 8.82974632e-01],\n",
              "        [9.82773724e-01, 2.69700942e-01],\n",
              "        [8.52280414e-01, 9.11916190e-01],\n",
              "        [2.50492444e-02, 6.45631188e-01],\n",
              "        [7.39352571e-01, 7.40140461e-01]],\n",
              "\n",
              "       [[3.42406289e-01, 1.47197373e-01],\n",
              "        [3.28330843e-01, 1.54974489e-01],\n",
              "        [5.55084467e-02, 6.04654888e-01],\n",
              "        [4.71162565e-01, 5.54227923e-01],\n",
              "        [2.70512989e-01, 6.26201668e-03]],\n",
              "\n",
              "       [[3.07785746e-01, 8.21367403e-01],\n",
              "        [8.42032958e-01, 3.25330567e-02],\n",
              "        [4.33333625e-01, 9.92508684e-01],\n",
              "        [7.80047090e-01, 6.89546236e-01],\n",
              "        [2.13405077e-01, 1.18467346e-01]],\n",
              "\n",
              "       [[2.37051187e-01, 5.72300009e-01],\n",
              "        [7.01245090e-01, 1.38685255e-01],\n",
              "        [4.89977604e-01, 4.28893844e-01],\n",
              "        [4.30174209e-02, 6.83438714e-01],\n",
              "        [6.79421382e-01, 5.92570698e-02]],\n",
              "\n",
              "       [[9.74441572e-01, 7.28505104e-01],\n",
              "        [5.30422533e-01, 7.46710536e-01],\n",
              "        [8.08411377e-01, 1.63532830e-01],\n",
              "        [9.78697980e-01, 2.59931571e-01],\n",
              "        [8.62512935e-01, 1.93842950e-01]],\n",
              "\n",
              "       [[7.45999114e-02, 9.29758409e-01],\n",
              "        [3.75429992e-01, 4.92201588e-01],\n",
              "        [7.74416996e-01, 8.12040376e-01],\n",
              "        [9.23625909e-01, 8.01442760e-01],\n",
              "        [8.21697806e-02, 2.68798501e-01]],\n",
              "\n",
              "       [[2.59672775e-01, 8.17139695e-01],\n",
              "        [7.42699210e-01, 6.29452584e-01],\n",
              "        [6.79920963e-01, 5.68815535e-01],\n",
              "        [6.80135840e-01, 4.48662713e-01],\n",
              "        [6.55391358e-01, 7.12328072e-01]],\n",
              "\n",
              "       [[1.44020876e-01, 1.41979211e-01],\n",
              "        [8.93830489e-01, 1.79686508e-01],\n",
              "        [4.82592703e-01, 5.63079120e-01],\n",
              "        [6.79831193e-02, 3.04042466e-01],\n",
              "        [7.98199203e-01, 4.42825347e-01]],\n",
              "\n",
              "       [[6.57383563e-01, 1.61910039e-01],\n",
              "        [9.41972617e-01, 7.76125382e-01],\n",
              "        [1.38834666e-02, 7.22873189e-02],\n",
              "        [7.03585439e-01, 3.63500079e-01],\n",
              "        [4.22178326e-03, 7.70836540e-01]],\n",
              "\n",
              "       [[4.15215349e-01, 3.25361303e-01],\n",
              "        [6.41566892e-01, 3.31552233e-02],\n",
              "        [3.95625237e-01, 8.44083127e-01],\n",
              "        [9.36100556e-01, 5.80125274e-01],\n",
              "        [7.41864556e-01, 6.72558595e-01]],\n",
              "\n",
              "       [[5.38301745e-02, 8.47754602e-01],\n",
              "        [9.50951269e-04, 2.38555477e-02],\n",
              "        [5.49055470e-01, 9.04211598e-01],\n",
              "        [5.44617984e-01, 3.91302634e-01],\n",
              "        [2.19563207e-01, 6.79541850e-03]],\n",
              "\n",
              "       [[9.82883666e-01, 2.16962456e-01],\n",
              "        [6.46527770e-01, 6.88666064e-01],\n",
              "        [9.13234687e-02, 5.91872064e-01],\n",
              "        [8.65741129e-01, 1.56185951e-01],\n",
              "        [6.25705108e-01, 2.29389045e-03]],\n",
              "\n",
              "       [[3.81614021e-01, 5.86092813e-01],\n",
              "        [2.19657862e-01, 5.63161918e-01],\n",
              "        [1.87986049e-02, 6.16133243e-01],\n",
              "        [9.49208336e-01, 2.14210457e-01],\n",
              "        [6.62181076e-01, 5.15835596e-01]],\n",
              "\n",
              "       [[1.90656766e-01, 6.93433900e-01],\n",
              "        [5.96316570e-01, 9.04458158e-01],\n",
              "        [4.51836056e-01, 6.08722876e-01],\n",
              "        [4.81453474e-02, 5.14399160e-01],\n",
              "        [6.30241735e-01, 6.75079534e-02]],\n",
              "\n",
              "       [[2.15229816e-01, 1.41103257e-01],\n",
              "        [6.66513729e-01, 5.58953937e-01],\n",
              "        [7.41998495e-01, 6.72884271e-01],\n",
              "        [6.22403013e-01, 3.65139348e-01],\n",
              "        [6.12855550e-02, 6.49044401e-01]],\n",
              "\n",
              "       [[3.54712285e-01, 2.31425955e-02],\n",
              "        [1.64790850e-01, 9.88992700e-01],\n",
              "        [5.36798883e-01, 1.59450593e-01],\n",
              "        [4.69480780e-01, 7.97542184e-01],\n",
              "        [2.55744714e-01, 3.39438676e-01]],\n",
              "\n",
              "       [[8.21492446e-01, 8.61253369e-01],\n",
              "        [4.87813091e-01, 7.21025536e-01],\n",
              "        [6.87128751e-01, 9.39178181e-01],\n",
              "        [8.45496975e-01, 8.00090505e-01],\n",
              "        [9.62918064e-01, 5.16656241e-02]],\n",
              "\n",
              "       [[5.40698278e-01, 1.77245931e-01],\n",
              "        [6.07854148e-01, 6.84707527e-01],\n",
              "        [9.76812192e-01, 8.66836147e-01],\n",
              "        [7.30970074e-01, 6.87351708e-01],\n",
              "        [7.60692888e-01, 3.81339943e-01]],\n",
              "\n",
              "       [[5.71609084e-01, 4.53969249e-01],\n",
              "        [6.10467713e-01, 4.89351452e-01],\n",
              "        [1.74366734e-02, 1.83320698e-01],\n",
              "        [7.87783263e-01, 3.70753800e-01],\n",
              "        [3.46826556e-01, 9.11238244e-01]],\n",
              "\n",
              "       [[9.30980751e-02, 3.54229850e-01],\n",
              "        [2.81913080e-01, 5.29556280e-01],\n",
              "        [6.44936101e-01, 8.84538704e-01],\n",
              "        [1.22246347e-02, 7.83276678e-03],\n",
              "        [3.67879429e-01, 8.83191049e-01]],\n",
              "\n",
              "       [[9.12825577e-01, 8.44220242e-01],\n",
              "        [5.56574074e-01, 9.00250087e-01],\n",
              "        [7.84839397e-01, 1.92380873e-01],\n",
              "        [9.37584604e-01, 9.62017235e-01],\n",
              "        [6.61600696e-01, 9.26686326e-01]]])"
            ]
          },
          "metadata": {},
          "execution_count": 44
        }
      ]
    },
    {
      "cell_type": "code",
      "source": [
        "import numpy as np\n",
        "\n",
        "a = np.array([1, 2, 3])\n",
        "b = np.array([4, 5, 6])\n",
        "\n",
        "result = np.dot(a, b)\n",
        "# or\n",
        "#t = a @ b #dot product\n",
        "result"
      ],
      "metadata": {
        "id": "A0bgUg9a-gbD",
        "colab": {
          "base_uri": "https://localhost:8080/"
        },
        "outputId": "d43a7517-623b-44c1-a117-77a0e64ad0ba"
      },
      "execution_count": 45,
      "outputs": [
        {
          "output_type": "execute_result",
          "data": {
            "text/plain": [
              "np.int64(32)"
            ]
          },
          "metadata": {},
          "execution_count": 45
        }
      ]
    },
    {
      "cell_type": "code",
      "source": [
        "# Transposing for matrix multiplication\n",
        "A = np.array([[1, 2], [3, 4]])\n",
        "B = np.array([5, 6])\n",
        "product = A.dot(B.transpose())  # Transposing B to make multiplication possible\n",
        "product"
      ],
      "metadata": {
        "colab": {
          "base_uri": "https://localhost:8080/"
        },
        "id": "59KiaEh0aYGN",
        "outputId": "5acbad4e-5af9-4e19-ed65-9f4c14a18c2a"
      },
      "execution_count": 48,
      "outputs": [
        {
          "output_type": "execute_result",
          "data": {
            "text/plain": [
              "array([17, 39])"
            ]
          },
          "metadata": {},
          "execution_count": 48
        }
      ]
    },
    {
      "cell_type": "code",
      "source": [
        "\n",
        "# Reshaping data for time-series analysis\n",
        "time_series_data = np.random.rand(365)  # Daily data for a year\n",
        "#reshaped_for_analysis = time_series_data.reshape(52, 7)  # Weekly data, 7 days a week\n",
        "reshaped_for_analysis = time_series_data[:364].reshape(52, 7)\n",
        "reshaped_for_analysis"
      ],
      "metadata": {
        "id": "l5n3ccf3K0z9",
        "colab": {
          "base_uri": "https://localhost:8080/"
        },
        "outputId": "6465225b-ec20-4c4a-d4b3-429e77cf8c9d"
      },
      "execution_count": 49,
      "outputs": [
        {
          "output_type": "execute_result",
          "data": {
            "text/plain": [
              "array([[0.83645039, 0.57902561, 0.04657884, 0.22104481, 0.42275119,\n",
              "        0.77206837, 0.126953  ],\n",
              "       [0.82710073, 0.66262388, 0.70402753, 0.80036529, 0.72669642,\n",
              "        0.69429074, 0.47670197],\n",
              "       [0.11696702, 0.43970725, 0.96034529, 0.35565635, 0.12676492,\n",
              "        0.85158753, 0.64216158],\n",
              "       [0.69264846, 0.96049624, 0.11183474, 0.91096047, 0.42651462,\n",
              "        0.81904645, 0.97171745],\n",
              "       [0.8602515 , 0.40357542, 0.17343099, 0.44416631, 0.44021092,\n",
              "        0.53924155, 0.20158173],\n",
              "       [0.10676932, 0.92794872, 0.42423382, 0.36016471, 0.51339035,\n",
              "        0.34280371, 0.02562069],\n",
              "       [0.4939761 , 0.97226632, 0.46439764, 0.5480159 , 0.90943239,\n",
              "        0.0899684 , 0.47260743],\n",
              "       [0.76153772, 0.95135469, 0.84275666, 0.69469417, 0.26034504,\n",
              "        0.62630825, 0.22606704],\n",
              "       [0.25759686, 0.46557858, 0.00366858, 0.25662526, 0.37418448,\n",
              "        0.21728262, 0.53984437],\n",
              "       [0.6519829 , 0.60694885, 0.23966874, 0.45936689, 0.90374688,\n",
              "        0.89324211, 0.36526885],\n",
              "       [0.87466066, 0.66145929, 0.01049879, 0.35190571, 0.06790804,\n",
              "        0.0281346 , 0.53770266],\n",
              "       [0.31878218, 0.62420253, 0.56451611, 0.58246819, 0.53388447,\n",
              "        0.76069633, 0.21664573],\n",
              "       [0.97813781, 0.23753454, 0.92010235, 0.43500678, 0.09663531,\n",
              "        0.34116902, 0.41159662],\n",
              "       [0.03930233, 0.14468866, 0.01114953, 0.68631378, 0.28213477,\n",
              "        0.20808069, 0.04836103],\n",
              "       [0.94315582, 0.21933797, 0.18029989, 0.58729835, 0.8588711 ,\n",
              "        0.60195129, 0.32563281],\n",
              "       [0.93901777, 0.67129614, 0.26746337, 0.50203009, 0.24570456,\n",
              "        0.22237577, 0.474766  ],\n",
              "       [0.93969069, 0.85742381, 0.76163598, 0.98397684, 0.45068978,\n",
              "        0.93543281, 0.63368541],\n",
              "       [0.12230126, 0.09184564, 0.47411988, 0.14847607, 0.49906377,\n",
              "        0.32204316, 0.60159187],\n",
              "       [0.76170593, 0.8258253 , 0.82674807, 0.5639148 , 0.68702532,\n",
              "        0.13149035, 0.27517512],\n",
              "       [0.51289571, 0.67337369, 0.07028835, 0.37398333, 0.143716  ,\n",
              "        0.42484061, 0.24612088],\n",
              "       [0.42711773, 0.67271326, 0.59192763, 0.77441296, 0.24953488,\n",
              "        0.17584422, 0.21378048],\n",
              "       [0.88492164, 0.30199093, 0.50538383, 0.10657659, 0.17269946,\n",
              "        0.66128811, 0.62210599],\n",
              "       [0.81477285, 0.81673373, 0.51607895, 0.53646595, 0.34383865,\n",
              "        0.81734339, 0.46552596],\n",
              "       [0.90211539, 0.18766646, 0.19159504, 0.93533191, 0.98502953,\n",
              "        0.08589093, 0.8828334 ],\n",
              "       [0.32369724, 0.20198146, 0.25737207, 0.78166777, 0.18637237,\n",
              "        0.93352866, 0.32433811],\n",
              "       [0.69570494, 0.37898508, 0.21011306, 0.82672042, 0.63373747,\n",
              "        0.37952581, 0.2093483 ],\n",
              "       [0.8341901 , 0.01703445, 0.94003367, 0.27812051, 0.56998832,\n",
              "        0.2880581 , 0.15722292],\n",
              "       [0.38263522, 0.49627306, 0.50510942, 0.73815451, 0.09480952,\n",
              "        0.83704387, 0.23836608],\n",
              "       [0.21515166, 0.07418519, 0.07542864, 0.94962504, 0.92262398,\n",
              "        0.69390497, 0.32349257],\n",
              "       [0.70873221, 0.42383158, 0.08399992, 0.55701923, 0.44624806,\n",
              "        0.00236564, 0.13428577],\n",
              "       [0.93899824, 0.62939291, 0.41723181, 0.10713441, 0.38688262,\n",
              "        0.45888246, 0.75522154],\n",
              "       [0.33838016, 0.49685384, 0.11709313, 0.44620542, 0.6744006 ,\n",
              "        0.0113899 , 0.84380016],\n",
              "       [0.81073965, 0.05970097, 0.52321565, 0.73614791, 0.03832246,\n",
              "        0.46918207, 0.66828508],\n",
              "       [0.30165629, 0.0277845 , 0.24069039, 0.47290143, 0.63392644,\n",
              "        0.54153022, 0.71693339],\n",
              "       [0.73643309, 0.69417535, 0.78747181, 0.26625223, 0.45555428,\n",
              "        0.66210742, 0.24267602],\n",
              "       [0.52760505, 0.18683407, 0.30950708, 0.00377551, 0.01682459,\n",
              "        0.07020324, 0.48362157],\n",
              "       [0.10945378, 0.64805088, 0.25772436, 0.93236675, 0.65696762,\n",
              "        0.33394722, 0.47566568],\n",
              "       [0.17064136, 0.33105942, 0.50958678, 0.91219131, 0.49033534,\n",
              "        0.04860051, 0.02094939],\n",
              "       [0.36694756, 0.49909728, 0.48088418, 0.85406372, 0.85274521,\n",
              "        0.05256735, 0.02780693],\n",
              "       [0.22521189, 0.92785139, 0.0729405 , 0.33271591, 0.18962233,\n",
              "        0.76948859, 0.29812861],\n",
              "       [0.25560617, 0.31306309, 0.13100937, 0.48539772, 0.79666683,\n",
              "        0.08052086, 0.40733314],\n",
              "       [0.58837576, 0.19693087, 0.08748078, 0.695111  , 0.01018711,\n",
              "        0.48892484, 0.42950254],\n",
              "       [0.46693944, 0.58851493, 0.3788693 , 0.82193144, 0.41552567,\n",
              "        0.15129314, 0.04367761],\n",
              "       [0.62534765, 0.832092  , 0.29100143, 0.94918943, 0.07604821,\n",
              "        0.72617279, 0.87750088],\n",
              "       [0.30637716, 0.69510323, 0.51486126, 0.1813101 , 0.13328186,\n",
              "        0.15689042, 0.22711358],\n",
              "       [0.93175469, 0.46174537, 0.61356967, 0.70706715, 0.9517557 ,\n",
              "        0.22005124, 0.61074977],\n",
              "       [0.8643619 , 0.96814485, 0.78138566, 0.55316316, 0.12213189,\n",
              "        0.37910574, 0.42388671],\n",
              "       [0.63956789, 0.2440354 , 0.66929813, 0.32795598, 0.10795135,\n",
              "        0.86511213, 0.53862317],\n",
              "       [0.45246438, 0.11054135, 0.88650445, 0.89892201, 0.81734696,\n",
              "        0.72046335, 0.10929856],\n",
              "       [0.69872411, 0.56140996, 0.92774214, 0.63793935, 0.89365447,\n",
              "        0.75552624, 0.47409305],\n",
              "       [0.36575625, 0.5613956 , 0.72156811, 0.64946073, 0.66529274,\n",
              "        0.24281197, 0.56444058],\n",
              "       [0.94303642, 0.62460882, 0.31483996, 0.23264327, 0.57326184,\n",
              "        0.88944404, 0.19666156]])"
            ]
          },
          "metadata": {},
          "execution_count": 49
        }
      ]
    }
  ]
}
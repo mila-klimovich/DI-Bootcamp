{
 "cells": [
  {
   "cell_type": "code",
   "execution_count": 3,
   "id": "be067d3d-64e3-4a99-89df-030f96427c42",
   "metadata": {},
   "outputs": [
    {
     "name": "stdout",
     "output_type": "stream",
     "text": [
      "     0    1    2    3            4\n",
      "0  5.1  3.5  1.4  0.2  Iris-setosa\n",
      "1  4.9  3.0  1.4  0.2  Iris-setosa\n",
      "2  4.7  3.2  1.3  0.2  Iris-setosa\n",
      "3  4.6  3.1  1.5  0.2  Iris-setosa\n",
      "4  5.0  3.6  1.4  0.2  Iris-setosa\n"
     ]
    }
   ],
   "source": [
    "import pandas as pd\n",
    "file_path =  r\"C:\\code\\DI_Bootcamp\\week7\\day2\\iris.data.txt\"\n",
    "iris_data = pd.read_csv(file_path, header=None)\n",
    "\n",
    "print(iris_data.head(5)) "
   ]
  },
  {
   "cell_type": "code",
   "execution_count": 4,
   "id": "2a0e7ecc-f7d5-4343-8dec-a553b07d498b",
   "metadata": {},
   "outputs": [
    {
     "name": "stdout",
     "output_type": "stream",
     "text": [
      "   sepal_length  sepal_width  petal_length  petal_width        class\n",
      "0           5.1          3.5           1.4          0.2  Iris-setosa\n",
      "1           4.9          3.0           1.4          0.2  Iris-setosa\n",
      "2           4.7          3.2           1.3          0.2  Iris-setosa\n",
      "3           4.6          3.1           1.5          0.2  Iris-setosa\n",
      "4           5.0          3.6           1.4          0.2  Iris-setosa\n"
     ]
    }
   ],
   "source": [
    "import pandas as pd\n",
    "file_path =  r\"C:\\code\\DI_Bootcamp\\week7\\day2\\iris.data.txt\"\n",
    "iris_data = pd.read_csv(file_path, header=None)\n",
    "iris_data.columns = [\"sepal_length\", \"sepal_width\", \"petal_length\", \"petal_width\", \"class\"]\n",
    "print(iris_data.head(5)) "
   ]
  },
  {
   "cell_type": "code",
   "execution_count": 6,
   "id": "2b1ef527-5c40-4761-a855-df10b286d4c5",
   "metadata": {},
   "outputs": [
    {
     "name": "stdout",
     "output_type": "stream",
     "text": [
      "   userId  id                                              title  \\\n",
      "0       1   1  sunt aut facere repellat provident occaecati e...   \n",
      "1       1   2                                       qui est esse   \n",
      "2       1   3  ea molestias quasi exercitationem repellat qui...   \n",
      "3       1   4                               eum et est occaecati   \n",
      "4       1   5                                 nesciunt quas odio   \n",
      "\n",
      "                                                body  \n",
      "0  quia et suscipit\\nsuscipit recusandae consequu...  \n",
      "1  est rerum tempore vitae\\nsequi sint nihil repr...  \n",
      "2  et iusto sed quo iure\\nvoluptatem occaecati om...  \n",
      "3  ullam et saepe reiciendis voluptatem adipisci\\...  \n",
      "4  repudiandae veniam quaerat sunt sed\\nalias aut...  \n"
     ]
    }
   ],
   "source": [
    "json_data = pd.read_json('posts.json')\n",
    "print(json_data.head())"
   ]
  },
  {
   "cell_type": "code",
   "execution_count": 7,
   "id": "ff83b450-40c0-47df-a4e4-ca249dbd8179",
   "metadata": {},
   "outputs": [
    {
     "name": "stdout",
     "output_type": "stream",
     "text": [
      "   userId  id                                              title  \\\n",
      "0       1   1  sunt aut facere repellat provident occaecati e...   \n",
      "1       1   2                                       qui est esse   \n",
      "2       1   3  ea molestias quasi exercitationem repellat qui...   \n",
      "3       1   4                               eum et est occaecati   \n",
      "4       1   5                                 nesciunt quas odio   \n",
      "\n",
      "                                                body  \n",
      "0  quia et suscipit\\nsuscipit recusandae consequu...  \n",
      "1  est rerum tempore vitae\\nsequi sint nihil repr...  \n",
      "2  et iusto sed quo iure\\nvoluptatem occaecati om...  \n",
      "3  ullam et saepe reiciendis voluptatem adipisci\\...  \n",
      "4  repudiandae veniam quaerat sunt sed\\nalias aut...  \n"
     ]
    }
   ],
   "source": [
    "json_data = pd.read_json('https://jsonplaceholder.typicode.com/posts')\n",
    "print(json_data.head())"
   ]
  },
  {
   "cell_type": "code",
   "execution_count": 8,
   "id": "3e4d2dca-ef79-43e8-9eb3-9b6b5869a64c",
   "metadata": {},
   "outputs": [
    {
     "name": "stdout",
     "output_type": "stream",
     "text": [
      "Collecting xlrd\n",
      "  Downloading xlrd-2.0.1-py2.py3-none-any.whl.metadata (3.4 kB)\n",
      "Downloading xlrd-2.0.1-py2.py3-none-any.whl (96 kB)\n",
      "Installing collected packages: xlrd\n",
      "Successfully installed xlrd-2.0.1\n"
     ]
    },
    {
     "name": "stderr",
     "output_type": "stream",
     "text": [
      "\n",
      "[notice] A new release of pip is available: 25.0.1 -> 25.1.1\n",
      "[notice] To update, run: python.exe -m pip install --upgrade pip\n"
     ]
    }
   ],
   "source": [
    "!pip install xlrd"
   ]
  },
  {
   "cell_type": "code",
   "execution_count": 13,
   "id": "da48c8a9-645f-4b45-8fd8-55f85cffce51",
   "metadata": {},
   "outputs": [
    {
     "name": "stdout",
     "output_type": "stream",
     "text": [
      "  First Name  Last Name  Gender        Country  Age        Date    Id\n",
      "0                                                                    \n",
      "1      Dulce      Abril  Female  United States   32  15/10/2017  1562\n",
      "2       Mara  Hashimoto  Female  Great Britain   25  16/08/2016  1582\n",
      "3     Philip       Gent    Male         France   36  21/05/2015  2587\n",
      "4   Kathleen     Hanner  Female  United States   25  15/10/2017  3549\n",
      "5    Nereida    Magwood  Female  United States   58  16/08/2016  2468\n",
      "6     Gaston      Brumm    Male  United States   24  21/05/2015  2554\n",
      "7       Etta       Hurn  Female  Great Britain   56  15/10/2017  3598\n",
      "8    Earlean     Melgar  Female  United States   27  16/08/2016  2456\n",
      "9   Vincenza    Weiland  Female  United States   40  21/05/2015  6548\n"
     ]
    }
   ],
   "source": [
    "import pandas as pd\n",
    "excel_data = pd.read_excel(r\"C:\\code\\DI_Bootcamp\\week7\\day2\\file_example_XLS_10.xls\", index_col = 0)\n",
    "print(excel_data.head(10))"
   ]
  },
  {
   "cell_type": "code",
   "execution_count": 23,
   "id": "ac9335bf-dc99-499e-8313-93278068669b",
   "metadata": {},
   "outputs": [
    {
     "name": "stdout",
     "output_type": "stream",
     "text": [
      "  Last name      \"First name\"               \"SSN\"         \"Test1\"   \"Test2\"  \\\n",
      "0   Alfalfa        \"Aloysius\"       \"123-45-6789\"            40.0      90.0   \n",
      "1    Alfred      \"University\"       \"123-12-1234\"            41.0      97.0   \n",
      "2     Gerty          \"Gramma\"       \"567-89-0123\"            41.0      80.0   \n",
      "\n",
      "    \"Test3\"   \"Test4\"   \"Final\"  \"Grade\"  \n",
      "0     100.0      83.0      49.0     \"D-\"  \n",
      "1      96.0      97.0      48.0     \"D+\"  \n",
      "2      60.0      40.0      44.0      \"C\"  \n"
     ]
    }
   ],
   "source": [
    "import pandas as pd \n",
    "grades_data = pd.read_csv('grades.csv')\n",
    "print(grades_data.head(3))"
   ]
  },
  {
   "cell_type": "code",
   "execution_count": 4,
   "id": "e6e443e8-eebf-4a61-829d-c7f2429aa905",
   "metadata": {},
   "outputs": [],
   "source": [
    "df = pd.DataFrame({\n",
    "    \"Name\": [\"Alice\", \"Bob\", \"Charlie\"],\n",
    "    \"Age\": [25, 30, 22],\n",
    "    \"Score\": [88, 92, 79]\n",
    "})"
   ]
  },
  {
   "cell_type": "code",
   "execution_count": 5,
   "id": "db574f22-8728-4eef-bc2f-7a2b205577c2",
   "metadata": {},
   "outputs": [
    {
     "name": "stdout",
     "output_type": "stream",
     "text": [
      "Csv file sample_export.csv created\n"
     ]
    }
   ],
   "source": [
    "df.to_csv('sample_export.csv', index = False)\n",
    "print('Csv file sample_export.csv created')"
   ]
  },
  {
   "cell_type": "code",
   "execution_count": 6,
   "id": "9f0169a5-b984-43a7-b5e3-78173bb249f0",
   "metadata": {},
   "outputs": [
    {
     "name": "stdout",
     "output_type": "stream",
     "text": [
      "json file sample_export.json created\n"
     ]
    }
   ],
   "source": [
    "df.to_json('sample_export.json')\n",
    "print('json file sample_export.json created')"
   ]
  },
  {
   "cell_type": "code",
   "execution_count": 10,
   "id": "3fab50c9-dfb2-4abb-b47e-a2cb9ed881d8",
   "metadata": {
    "scrolled": true
   },
   "outputs": [
    {
     "name": "stdout",
     "output_type": "stream",
     "text": [
      "excel file sample_export.xlsx created\n"
     ]
    }
   ],
   "source": [
    "df.to_excel('sample_export.xlsx')\n",
    "print('excel file sample_export.xlsx created')"
   ]
  },
  {
   "cell_type": "code",
   "execution_count": 8,
   "id": "9ae25f01-bfee-4d5f-8892-e6968c816b2b",
   "metadata": {},
   "outputs": [
    {
     "name": "stdout",
     "output_type": "stream",
     "text": [
      "Collecting openpyxl\n",
      "  Downloading openpyxl-3.1.5-py2.py3-none-any.whl.metadata (2.5 kB)\n",
      "Collecting et-xmlfile (from openpyxl)\n",
      "  Downloading et_xmlfile-2.0.0-py3-none-any.whl.metadata (2.7 kB)\n",
      "Downloading openpyxl-3.1.5-py2.py3-none-any.whl (250 kB)\n",
      "Downloading et_xmlfile-2.0.0-py3-none-any.whl (18 kB)\n",
      "Installing collected packages: et-xmlfile, openpyxl\n",
      "Successfully installed et-xmlfile-2.0.0 openpyxl-3.1.5\n"
     ]
    },
    {
     "name": "stderr",
     "output_type": "stream",
     "text": [
      "\n",
      "[notice] A new release of pip is available: 25.0.1 -> 25.1.1\n",
      "[notice] To update, run: python.exe -m pip install --upgrade pip\n"
     ]
    }
   ],
   "source": [
    "!pip install openpyxl"
   ]
  },
  {
   "cell_type": "code",
   "execution_count": 12,
   "id": "3d1c04b3-6c5f-455d-bab1-088acf103ed7",
   "metadata": {},
   "outputs": [],
   "source": [
    "df.to_json('sample_export_split.json', orient='split')\n",
    "df.to_json('sample_export_records.json', orient='records')\n",
    "df.to_json('sample_export_index.json', orient='index')\n",
    "df.to_json('sample_export_columns.json', orient='columns')\n",
    "df.to_json('sample_export_values.json', orient='values')"
   ]
  },
  {
   "cell_type": "code",
   "execution_count": 14,
   "id": "aaa95cfd-1fa9-479e-9ec1-d63ab9a9f2e4",
   "metadata": {},
   "outputs": [],
   "source": [
    "import pandas as pd\n",
    "# Sample DataFrames\n",
    "sales = pd.DataFrame({\n",
    "    \"Product\": [\"A\", \"B\", \"C\"],\n",
    "    \"Revenue\": [1000, 1500, 1200]\n",
    "})\n",
    "customers = pd.DataFrame({\n",
    "    \"Customer\": [\"Alice\", \"Bob\", \"Charlie\"],\n",
    "    \"Region\": [\"North\", \"South\", \"West\"]\n",
    "})\n",
    "# Export both to different sheets\n",
    "with pd.ExcelWriter(\"report.xlsx\") as writer:\n",
    "    sales.to_excel(writer, sheet_name=\"Sales\", index=False)\n",
    "    customers.to_excel(writer, sheet_name=\"Customers\", index=False)"
   ]
  },
  {
   "cell_type": "code",
   "execution_count": 15,
   "id": "42e5ec8a-218d-47a5-8588-1571813dc7a4",
   "metadata": {},
   "outputs": [
    {
     "name": "stdout",
     "output_type": "stream",
     "text": [
      "        Product Name  Sale Amount Date of Sale  Customer Age\n",
      "0         Laptop Bag        87.42   2025-01-10            19\n",
      "1     Wireless Mouse        71.54   2024-06-19            43\n",
      "2      Monitor Stand        91.19   2024-05-16            34\n",
      "3  Bluetooth Speaker       113.08   2025-02-18            57\n",
      "4  Bluetooth Speaker        69.15   2024-08-21            50\n"
     ]
    }
   ],
   "source": [
    "import numpy as np\n",
    "from faker import Faker\n",
    "import pandas as pd\n",
    "import random\n",
    "\n",
    "fake = Faker()\n",
    "np.random.seed(42)\n",
    "Faker.seed(42)\n",
    "random.seed(42)\n",
    "num_rows = 200\n",
    "product_list = ['Wireless Mouse', 'Laptop Bag', 'USB-C Hub', 'Bluetooth Speaker', 'Monitor Stand',\n",
    "                'Desk Lamp', 'Keyboard', 'Webcam', 'Noise Cancelling Headphones', 'Smartphone Case']\n",
    "# Generating synthetic sales data\n",
    "product_names = [random.choice(product_list) for _ in range(num_rows)]\n",
    "sale_amounts = np.round(np.random.normal(loc=75, scale=25, size=num_rows), 2)\n",
    "sale_dates = [fake.date_between(start_date='-1y', end_date='today') for _ in range(num_rows)]\n",
    "customer_ages = np.random.randint(18, 75, size=num_rows)\n",
    "\n",
    "df_sales = pd.DataFrame({\n",
    "    'Product Name': product_names,\n",
    "    'Sale Amount': sale_amounts,\n",
    "    'Date of Sale': sale_dates,\n",
    "    'Customer Age': customer_ages})\n",
    "\n",
    "# Display the first few rows of the DataFrame\n",
    "print(df_sales.head())"
   ]
  },
  {
   "cell_type": "code",
   "execution_count": null,
   "id": "69a9397c-9d6c-4bfa-bf78-125b9106f9e5",
   "metadata": {},
   "outputs": [],
   "source": []
  }
 ],
 "metadata": {
  "kernelspec": {
   "display_name": "Python 3 (ipykernel)",
   "language": "python",
   "name": "python3"
  },
  "language_info": {
   "codemirror_mode": {
    "name": "ipython",
    "version": 3
   },
   "file_extension": ".py",
   "mimetype": "text/x-python",
   "name": "python",
   "nbconvert_exporter": "python",
   "pygments_lexer": "ipython3",
   "version": "3.13.2"
  }
 },
 "nbformat": 4,
 "nbformat_minor": 5
}

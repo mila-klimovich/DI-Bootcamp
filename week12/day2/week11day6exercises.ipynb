{
  "nbformat": 4,
  "nbformat_minor": 0,
  "metadata": {
    "colab": {
      "provenance": []
    },
    "kernelspec": {
      "name": "python3",
      "display_name": "Python 3"
    },
    "language_info": {
      "name": "python"
    }
  },
  "cells": [
    {
      "cell_type": "code",
      "execution_count": null,
      "metadata": {
        "colab": {
          "base_uri": "https://localhost:8080/"
        },
        "id": "mDfA8qRBniG0",
        "outputId": "4338a485-6e4e-466c-d60f-811751168c0c"
      },
      "outputs": [
        {
          "output_type": "stream",
          "name": "stdout",
          "text": [
            "Slope: 1828.77\n",
            "Intercept: 64383.56\n",
            "Predicted price for 90 sqm house: 228972.60\n",
            "Interpretation: For every additional square meter, the house price increases by approximately 1828.77 currency units.\n"
          ]
        }
      ],
      "source": [
        "# Exercise 1: Linear Regression Analysis\n",
        "\n",
        "import numpy as np\n",
        "from scipy import stats\n",
        "\n",
        "# Given dataset\n",
        "house_sizes = np.array([50, 70, 80, 100, 120])\n",
        "house_prices = np.array([150000, 200000, 210000, 250000, 280000])\n",
        "\n",
        "# Perform linear regression\n",
        "slope, intercept, r_value, p_value, std_err = stats.linregress(house_sizes, house_prices)\n",
        "\n",
        "# Display the slope and intercept\n",
        "print(f\"Slope: {slope:.2f}\")\n",
        "print(f\"Intercept: {intercept:.2f}\")\n",
        "\n",
        "# Predict the price of a house that is 90 square meters\n",
        "predicted_price = slope * 90 + intercept\n",
        "print(f\"Predicted price for 90 sqm house: {predicted_price:.2f}\")\n",
        "\n",
        "# Interpretation of the slope\n",
        "print(f\"Interpretation: For every additional square meter, the house price increases by approximately {slope:.2f} currency units.\")\n"
      ]
    },
    {
      "cell_type": "code",
      "source": [
        "# Exercise 2: Understanding ANOVA\n",
        "\n",
        "import numpy as np\n",
        "from scipy import stats\n",
        "\n",
        "# Growth data for three fertilizer groups\n",
        "fertilizer_1 = [5, 6, 7, 6, 5]\n",
        "fertilizer_2 = [7, 8, 7, 9, 8]\n",
        "fertilizer_3 = [4, 5, 4, 3, 4]\n",
        "\n",
        "# Perform one-way ANOVA\n",
        "f_stat, p_value = stats.f_oneway(fertilizer_1, fertilizer_2, fertilizer_3)\n",
        "\n",
        "# Display the results\n",
        "print(f\"F-value: {f_stat:.2f}\")\n",
        "print(f\"P-value: {p_value:.4f}\")\n",
        "\n",
        "# Interpretation based on P-value\n",
        "if p_value < 0.05:\n",
        "    print(\"There is a statistically significant difference between the fertilizer groups.\")\n",
        "else:\n",
        "    print(\"There is no statistically significant difference between the fertilizer groups.\")\n"
      ],
      "metadata": {
        "colab": {
          "base_uri": "https://localhost:8080/"
        },
        "id": "Rh0lUROTnm3M",
        "outputId": "9f10f10f-7959-49bb-a0c4-c55ad7a08272"
      },
      "execution_count": null,
      "outputs": [
        {
          "output_type": "stream",
          "name": "stdout",
          "text": [
            "F-value: 28.53\n",
            "P-value: 0.0000\n",
            "There is a statistically significant difference between the fertilizer groups.\n"
          ]
        }
      ]
    },
    {
      "cell_type": "code",
      "source": [
        "# Exercise 3: Probability Distributions (Binomial Distribution)\n",
        "\n",
        "from scipy.stats import binom\n",
        "\n",
        "# Number of trials (coin flips)\n",
        "n = 10\n",
        "\n",
        "# Probability of success (getting heads)\n",
        "p = 0.5\n",
        "\n",
        "# Calculate probability of getting exactly 5 heads\n",
        "prob_5_heads = binom.pmf(5, n, p)\n",
        "\n",
        "print(f\"Probability of getting exactly 5 heads in 10 coin flips: {prob_5_heads:.4f}\")\n",
        "\n",
        "# Additional: Probability of getting at least 7 heads\n",
        "prob_at_least_7_heads = 1 - binom.cdf(6, n, p)\n",
        "print(f\"Probability of getting at least 7 heads in 10 coin flips: {prob_at_least_7_heads:.4f}\")\n"
      ],
      "metadata": {
        "colab": {
          "base_uri": "https://localhost:8080/"
        },
        "id": "FdAVH84qnm5p",
        "outputId": "15a68228-861a-408b-809f-2ae23a7b929b"
      },
      "execution_count": null,
      "outputs": [
        {
          "output_type": "stream",
          "name": "stdout",
          "text": [
            "Probability of getting exactly 5 heads in 10 coin flips: 0.2461\n",
            "Probability of getting at least 7 heads in 10 coin flips: 0.1719\n"
          ]
        }
      ]
    },
    {
      "cell_type": "code",
      "source": [
        "# Exercise 4: Correlation Coefficients (Pearson and Spearman)\n",
        "\n",
        "import pandas as pd\n",
        "from scipy.stats import pearsonr, spearmanr\n",
        "\n",
        "# Sample dataset with age and income\n",
        "data = pd.DataFrame({\n",
        "    'age': [23, 25, 30, 35, 40],\n",
        "    'income': [35000, 40000, 50000, 60000, 70000]\n",
        "})\n",
        "\n",
        "# Calculate Pearson correlation (measures linear relationship)\n",
        "pearson_corr, _ = pearsonr(data['age'], data['income'])\n",
        "\n",
        "# Calculate Spearman correlation (measures monotonic relationship)\n",
        "spearman_corr, _ = spearmanr(data['age'], data['income'])\n",
        "\n",
        "print(f\"Pearson correlation coefficient: {pearson_corr:.4f}\")\n",
        "print(f\"Spearman correlation coefficient: {spearman_corr:.4f}\")\n"
      ],
      "metadata": {
        "colab": {
          "base_uri": "https://localhost:8080/"
        },
        "id": "Q9WKr-Z7nm7-",
        "outputId": "2f3c64cb-6b2e-4022-d58f-740df9fa3ecd"
      },
      "execution_count": null,
      "outputs": [
        {
          "output_type": "stream",
          "name": "stdout",
          "text": [
            "Pearson correlation coefficient: 0.9997\n",
            "Spearman correlation coefficient: 1.0000\n"
          ]
        }
      ]
    },
    {
      "cell_type": "code",
      "source": [
        "# Exercise 5: Linear Relationships - Scatter plot of age and income\n",
        "\n",
        "import matplotlib.pyplot as plt\n",
        "\n",
        "# Reusing the dataset from previous exercise\n",
        "data = pd.DataFrame({\n",
        "    'age': [23, 25, 30, 35, 40],\n",
        "    'income': [35000, 40000, 50000, 60000, 70000]\n",
        "})\n",
        "\n",
        "# Create a scatter plot\n",
        "plt.scatter(data['age'], data['income'], color='blue')\n",
        "plt.title('Scatter Plot of Age vs. Income')\n",
        "plt.xlabel('Age')\n",
        "plt.ylabel('Income')\n",
        "plt.grid(True)\n",
        "plt.show()\n"
      ],
      "metadata": {
        "colab": {
          "base_uri": "https://localhost:8080/",
          "height": 472
        },
        "id": "aaekaFlOnm-1",
        "outputId": "c41cb7ad-7598-47eb-c00c-ee597b7d77bd"
      },
      "execution_count": null,
      "outputs": [
        {
          "output_type": "display_data",
          "data": {
            "text/plain": [
              "<Figure size 640x480 with 1 Axes>"
            ],
            "image/png": "[encoded data removed]"
          },
          "metadata": {}
        }
      ]
    }
  ]
}
{
  "nbformat": 4,
  "nbformat_minor": 0,
  "metadata": {
    "colab": {
      "provenance": []
    },
    "kernelspec": {
      "name": "python3",
      "display_name": "Python 3"
    },
    "language_info": {
      "name": "python"
    }
  },
  "cells": [
    {
      "cell_type": "code",
      "source": [
        "# If not installed already\n",
        "!pip install statsmodels\n"
      ],
      "metadata": {
        "colab": {
          "base_uri": "https://localhost:8080/"
        },
        "id": "FsZd6QevzT66",
        "outputId": "55aa5518-cd9d-4c56-fa61-946f6ede6f1c"
      },
      "execution_count": 10,
      "outputs": [
        {
          "output_type": "stream",
          "name": "stdout",
          "text": [
            "Requirement already satisfied: statsmodels in /usr/local/lib/python3.11/dist-packages (0.14.4)\n",
            "Requirement already satisfied: numpy<3,>=1.22.3 in /usr/local/lib/python3.11/dist-packages (from statsmodels) (2.0.2)\n",
            "Requirement already satisfied: scipy!=1.9.2,>=1.8 in /usr/local/lib/python3.11/dist-packages (from statsmodels) (1.15.3)\n",
            "Requirement already satisfied: pandas!=2.1.0,>=1.4 in /usr/local/lib/python3.11/dist-packages (from statsmodels) (2.2.2)\n",
            "Requirement already satisfied: patsy>=0.5.6 in /usr/local/lib/python3.11/dist-packages (from statsmodels) (1.0.1)\n",
            "Requirement already satisfied: packaging>=21.3 in /usr/local/lib/python3.11/dist-packages (from statsmodels) (24.2)\n",
            "Requirement already satisfied: python-dateutil>=2.8.2 in /usr/local/lib/python3.11/dist-packages (from pandas!=2.1.0,>=1.4->statsmodels) (2.9.0.post0)\n",
            "Requirement already satisfied: pytz>=2020.1 in /usr/local/lib/python3.11/dist-packages (from pandas!=2.1.0,>=1.4->statsmodels) (2025.2)\n",
            "Requirement already satisfied: tzdata>=2022.7 in /usr/local/lib/python3.11/dist-packages (from pandas!=2.1.0,>=1.4->statsmodels) (2025.2)\n",
            "Requirement already satisfied: six>=1.5 in /usr/local/lib/python3.11/dist-packages (from python-dateutil>=2.8.2->pandas!=2.1.0,>=1.4->statsmodels) (1.17.0)\n"
          ]
        }
      ]
    },
    {
      "cell_type": "code",
      "source": [
        "#1. Binary Data Example (Click-Through Rate)\n",
        "from statsmodels.stats.power import NormalIndPower\n",
        "from statsmodels.stats.proportion import proportion_effectsize\n",
        "\n",
        "# Inputs\n",
        "p1 = 0.10  # baseline CTR\n",
        "p2 = 0.12  # expected new CTR\n",
        "alpha = 0.05\n",
        "power = 0.8\n",
        "\n",
        "# Calculate effect size (Cohen's h for proportions)\n",
        "effect_size = proportion_effectsize(p1, p2)\n",
        "\n",
        "# Calculate sample size per group\n",
        "analysis = NormalIndPower()\n",
        "sample_size = analysis.solve_power(effect_size=effect_size, alpha=alpha, power=power, ratio=1)\n",
        "\n",
        "print(f\"Binary data (CTR): Required sample size per group = {int(sample_size)} users\")\n"
      ],
      "metadata": {
        "colab": {
          "base_uri": "https://localhost:8080/"
        },
        "id": "fw3fW3-Uzaz7",
        "outputId": "42e2a534-67d6-41a6-8d3b-f4b929e5ba86"
      },
      "execution_count": 11,
      "outputs": [
        {
          "output_type": "stream",
          "name": "stdout",
          "text": [
            "Binary data (CTR): Required sample size per group = 3834 users\n"
          ]
        }
      ]
    },
    {
      "cell_type": "code",
      "source": [
        "#2. Continuous Data Example (Average Time on Page)\n",
        "from statsmodels.stats.power import TTestIndPower\n",
        "\n",
        "# Suppose:\n",
        "# Old average time = 40 seconds\n",
        "# New expected average = 50 seconds\n",
        "# Standard deviation = 20 seconds\n",
        "\n",
        "# Calculate Cohen's d\n",
        "mean_diff = 50 - 40\n",
        "std_dev = 20\n",
        "effect_size = mean_diff / std_dev  # Cohen's d\n",
        "\n",
        "# Define parameters\n",
        "alpha = 0.05\n",
        "power = 0.8\n",
        "\n",
        "# Calculate sample size per group\n",
        "analysis = TTestIndPower()\n",
        "sample_size = analysis.solve_power(effect_size=effect_size, alpha=alpha, power=power, ratio=1)\n",
        "\n",
        "print(f\"Continuous data (time on page): Required sample size per group = {int(sample_size)} users\")\n"
      ],
      "metadata": {
        "colab": {
          "base_uri": "https://localhost:8080/"
        },
        "id": "5CidvxJRzgMS",
        "outputId": "71308f01-c46b-4bd5-ee80-1cb41ab6c772"
      },
      "execution_count": 12,
      "outputs": [
        {
          "output_type": "stream",
          "name": "stdout",
          "text": [
            "Continuous data (time on page): Required sample size per group = 63 users\n"
          ]
        }
      ]
    },
    {
      "cell_type": "code",
      "execution_count": 1,
      "metadata": {
        "colab": {
          "base_uri": "https://localhost:8080/"
        },
        "id": "RN8Y9M9hwQ_H",
        "outputId": "3ef80cb1-14f6-48d1-d060-6398d213a58b"
      },
      "outputs": [
        {
          "output_type": "stream",
          "name": "stdout",
          "text": [
            "Sample size per group: 3834\n"
          ]
        }
      ],
      "source": [
        "from statsmodels.stats.power import NormalIndPower\n",
        "from statsmodels.stats.proportion import proportion_effectsize\n",
        "\n",
        "# Inputs\n",
        "p1 = 0.10  # Baseline CTR\n",
        "p2 = 0.12  # New CTR\n",
        "alpha = 0.05  # Significance level\n",
        "power = 0.8  # Desired power\n",
        "\n",
        "# Calculate effect size\n",
        "effect_size = proportion_effectsize(p1, p2)\n",
        "\n",
        "# Calculate required sample size per group\n",
        "analysis = NormalIndPower()\n",
        "sample_size = analysis.solve_power(effect_size=effect_size, power=power, alpha=alpha, ratio=1, alternative='two-sided')\n",
        "\n",
        "print(f\"Sample size per group: {int(sample_size)}\")\n"
      ]
    },
    {
      "cell_type": "code",
      "source": [
        "#3. Multiple Groups Example (3 Versions of a Design)\n",
        "from statsmodels.stats.power import FTestAnovaPower\n",
        "\n",
        "# Assume small to medium effect size (Cohen's f) = 0.25\n",
        "effect_size = 0.25\n",
        "alpha = 0.05\n",
        "power = 0.8\n",
        "k_groups = 3  # number of groups\n",
        "\n",
        "analysis = FTestAnovaPower()\n",
        "sample_size = analysis.solve_power(effect_size=effect_size, alpha=alpha, power=power, k_groups=k_groups)\n",
        "\n",
        "print(f\"ANOVA (3 groups): Required sample size per group = {int(sample_size)} users\")\n"
      ],
      "metadata": {
        "colab": {
          "base_uri": "https://localhost:8080/"
        },
        "id": "GhjpGczNyBWu",
        "outputId": "245a0329-1f4e-488c-fcae-1ae01c754445"
      },
      "execution_count": 13,
      "outputs": [
        {
          "output_type": "stream",
          "name": "stdout",
          "text": [
            "ANOVA (3 groups): Required sample size per group = 157 users\n"
          ]
        }
      ]
    },
    {
      "cell_type": "code",
      "source": [
        "#4. Proportions With Large Effect (Conversion Rate from 5% to 10%)\n",
        "p1 = 0.05  # baseline conversion rate\n",
        "p2 = 0.10  # expected new conversion rate\n",
        "\n",
        "effect_size = proportion_effectsize(p1, p2)\n",
        "analysis = NormalIndPower()\n",
        "sample_size = analysis.solve_power(effect_size=effect_size, alpha=alpha, power=power, ratio=1)\n",
        "\n",
        "print(f\"Binary data (conversion): Required sample size per group = {int(sample_size)} users\")\n"
      ],
      "metadata": {
        "colab": {
          "base_uri": "https://localhost:8080/"
        },
        "id": "5IllF0nf0Np9",
        "outputId": "775c8cc2-6103-42c1-b9aa-ccc7e25174e3"
      },
      "execution_count": 14,
      "outputs": [
        {
          "output_type": "stream",
          "name": "stdout",
          "text": [
            "Binary data (conversion): Required sample size per group = 423 users\n"
          ]
        }
      ]
    }
  ]
}